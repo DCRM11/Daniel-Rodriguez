{
 "cells": [
  {
   "cell_type": "markdown",
   "metadata": {},
   "source": [
    "Hola **Daniel**!\n",
    "\n",
    "Soy **Patricio Requena** 👋. Es un placer ser el revisor de tu proyecto el día de hoy!\n",
    "\n",
    "Revisaré tu proyecto detenidamente con el objetivo de ayudarte a mejorar y perfeccionar tus habilidades. Durante mi revisión, identificaré áreas donde puedas hacer mejoras en tu código, señalando específicamente qué y cómo podrías ajustar para optimizar el rendimiento y la claridad de tu proyecto. Además, es importante para mí destacar los aspectos que has manejado excepcionalmente bien. Reconocer tus fortalezas te ayudará a entender qué técnicas y métodos están funcionando a tu favor y cómo puedes aplicarlos en futuras tareas. \n",
    "\n",
    "_**Recuerda que al final de este notebook encontrarás un comentario general de mi parte**_, empecemos!\n",
    "\n",
    "Encontrarás mis comentarios dentro de cajas verdes, amarillas o rojas, ⚠️ **por favor, no muevas, modifiques o borres mis comentarios** ⚠️:\n",
    "\n",
    "\n",
    "<div class=\"alert alert-block alert-success\">\n",
    "<b>Comentario del revisor</b> <a class=“tocSkip”></a>\n",
    "Si todo está perfecto.\n",
    "</div>\n",
    "\n",
    "<div class=\"alert alert-block alert-warning\">\n",
    "<b>Comentario del revisor</b> <a class=“tocSkip”></a>\n",
    "Si tu código está bien pero se puede mejorar o hay algún detalle que le hace falta.\n",
    "</div>\n",
    "\n",
    "<div class=\"alert alert-block alert-danger\">\n",
    "<b>Comentario del revisor</b> <a class=“tocSkip”></a>\n",
    "Si de pronto hace falta algo o existe algún problema con tu código o conclusiones.\n",
    "</div>\n",
    "\n",
    "Puedes responderme de esta forma:\n",
    "<div class=\"alert alert-block alert-info\">\n",
    "<b>Respuesta del estudiante</b> <a class=“tocSkip”></a>\n",
    "Muchísimas gracias por las observaciones 🤗\n",
    "</div>"
   ]
  },
  {
   "cell_type": "markdown",
   "metadata": {},
   "source": [
    "# Paso 1: Abre y examina el archivo de datos. Dirección al archivo:/datasets/users_behavior.csv"
   ]
  },
  {
   "cell_type": "code",
   "execution_count": 186,
   "metadata": {},
   "outputs": [],
   "source": [
    "# Cargar libería pandas\n",
    "import pandas as pd"
   ]
  },
  {
   "cell_type": "code",
   "execution_count": 187,
   "metadata": {},
   "outputs": [],
   "source": [
    "# Importar el dataset\n",
    "\n",
    "df_users_behavior = pd.read_csv('/datasets/users_behavior.csv')"
   ]
  },
  {
   "cell_type": "code",
   "execution_count": 188,
   "metadata": {},
   "outputs": [
    {
     "name": "stdout",
     "output_type": "stream",
     "text": [
      "<class 'pandas.core.frame.DataFrame'>\n",
      "RangeIndex: 3214 entries, 0 to 3213\n",
      "Data columns (total 5 columns):\n",
      " #   Column    Non-Null Count  Dtype  \n",
      "---  ------    --------------  -----  \n",
      " 0   calls     3214 non-null   float64\n",
      " 1   minutes   3214 non-null   float64\n",
      " 2   messages  3214 non-null   float64\n",
      " 3   mb_used   3214 non-null   float64\n",
      " 4   is_ultra  3214 non-null   int64  \n",
      "dtypes: float64(4), int64(1)\n",
      "memory usage: 125.7 KB\n"
     ]
    }
   ],
   "source": [
    "# Estudiar los datos que contienen\n",
    "\n",
    "df_users_behavior.info()"
   ]
  },
  {
   "cell_type": "code",
   "execution_count": 189,
   "metadata": {},
   "outputs": [
    {
     "data": {
      "text/html": [
       "<div>\n",
       "<style scoped>\n",
       "    .dataframe tbody tr th:only-of-type {\n",
       "        vertical-align: middle;\n",
       "    }\n",
       "\n",
       "    .dataframe tbody tr th {\n",
       "        vertical-align: top;\n",
       "    }\n",
       "\n",
       "    .dataframe thead th {\n",
       "        text-align: right;\n",
       "    }\n",
       "</style>\n",
       "<table border=\"1\" class=\"dataframe\">\n",
       "  <thead>\n",
       "    <tr style=\"text-align: right;\">\n",
       "      <th></th>\n",
       "      <th>calls</th>\n",
       "      <th>minutes</th>\n",
       "      <th>messages</th>\n",
       "      <th>mb_used</th>\n",
       "      <th>is_ultra</th>\n",
       "    </tr>\n",
       "  </thead>\n",
       "  <tbody>\n",
       "    <tr>\n",
       "      <th>0</th>\n",
       "      <td>40.0</td>\n",
       "      <td>311.90</td>\n",
       "      <td>83.0</td>\n",
       "      <td>19915.42</td>\n",
       "      <td>0</td>\n",
       "    </tr>\n",
       "    <tr>\n",
       "      <th>1</th>\n",
       "      <td>85.0</td>\n",
       "      <td>516.75</td>\n",
       "      <td>56.0</td>\n",
       "      <td>22696.96</td>\n",
       "      <td>0</td>\n",
       "    </tr>\n",
       "    <tr>\n",
       "      <th>2</th>\n",
       "      <td>77.0</td>\n",
       "      <td>467.66</td>\n",
       "      <td>86.0</td>\n",
       "      <td>21060.45</td>\n",
       "      <td>0</td>\n",
       "    </tr>\n",
       "    <tr>\n",
       "      <th>3</th>\n",
       "      <td>106.0</td>\n",
       "      <td>745.53</td>\n",
       "      <td>81.0</td>\n",
       "      <td>8437.39</td>\n",
       "      <td>1</td>\n",
       "    </tr>\n",
       "    <tr>\n",
       "      <th>4</th>\n",
       "      <td>66.0</td>\n",
       "      <td>418.74</td>\n",
       "      <td>1.0</td>\n",
       "      <td>14502.75</td>\n",
       "      <td>0</td>\n",
       "    </tr>\n",
       "  </tbody>\n",
       "</table>\n",
       "</div>"
      ],
      "text/plain": [
       "   calls  minutes  messages   mb_used  is_ultra\n",
       "0   40.0   311.90      83.0  19915.42         0\n",
       "1   85.0   516.75      56.0  22696.96         0\n",
       "2   77.0   467.66      86.0  21060.45         0\n",
       "3  106.0   745.53      81.0   8437.39         1\n",
       "4   66.0   418.74       1.0  14502.75         0"
      ]
     },
     "execution_count": 189,
     "metadata": {},
     "output_type": "execute_result"
    }
   ],
   "source": [
    "#Asegurarse de que los tipos de datos sean correctos\n",
    "df_users_behavior.head()"
   ]
  },
  {
   "cell_type": "code",
   "execution_count": 190,
   "metadata": {},
   "outputs": [
    {
     "name": "stdout",
     "output_type": "stream",
     "text": [
      "             calls      minutes     messages       mb_used     is_ultra\n",
      "count  3214.000000  3214.000000  3214.000000   3214.000000  3214.000000\n",
      "mean     63.038892   438.208787    38.281269  17207.673836     0.306472\n",
      "std      33.236368   234.569872    36.148326   7570.968246     0.461100\n",
      "min       0.000000     0.000000     0.000000      0.000000     0.000000\n",
      "25%      40.000000   274.575000     9.000000  12491.902500     0.000000\n",
      "50%      62.000000   430.600000    30.000000  16943.235000     0.000000\n",
      "75%      82.000000   571.927500    57.000000  21424.700000     1.000000\n",
      "max     244.000000  1632.060000   224.000000  49745.730000     1.000000\n"
     ]
    }
   ],
   "source": [
    "# Explorar estadística descriptiva\n",
    "print(df_users_behavior.describe())"
   ]
  },
  {
   "cell_type": "code",
   "execution_count": 191,
   "metadata": {},
   "outputs": [
    {
     "name": "stdout",
     "output_type": "stream",
     "text": [
      "Valores ausentes: calls       0\n",
      "minutes     0\n",
      "messages    0\n",
      "mb_used     0\n",
      "is_ultra    0\n",
      "dtype: int64\n"
     ]
    }
   ],
   "source": [
    "# Valores ausentes\n",
    "print('Valores ausentes:', df_users_behavior.isna().sum())"
   ]
  },
  {
   "cell_type": "code",
   "execution_count": 192,
   "metadata": {},
   "outputs": [
    {
     "name": "stdout",
     "output_type": "stream",
     "text": [
      "Valores duplicados:  0\n"
     ]
    }
   ],
   "source": [
    "# Valores duplicados\n",
    "print(\"Valores duplicados: \", df_users_behavior.duplicated().sum())"
   ]
  },
  {
   "cell_type": "markdown",
   "metadata": {},
   "source": [
    "<div class=\"alert alert-block alert-success\">\n",
    "<b>Comentario del revisor (1ra Iteracion)</b> <a class=“tocSkip”></a>\n",
    "\n",
    "Buen trabajo con la exploración inicial de los datos para entender con lo que trabajarás\n",
    "</div>"
   ]
  },
  {
   "cell_type": "markdown",
   "metadata": {},
   "source": [
    "# Paso 2: Segmenta los datos fuente en un conjunto de entrenamiento, uno de validación y uno de prueba."
   ]
  },
  {
   "cell_type": "code",
   "execution_count": 193,
   "metadata": {},
   "outputs": [
    {
     "name": "stdout",
     "output_type": "stream",
     "text": [
      "Tamaño de entrenamiento: 2410 registros\n",
      "Tamaño de validación: 603 registros\n",
      "Tamaño de prueba: 201 registros\n"
     ]
    }
   ],
   "source": [
    "from sklearn.model_selection import train_test_split\n",
    "\n",
    "# Definir características (X) y variable objetivo (y)\n",
    "features = df_users_behavior.drop(columns=['is_ultra'])\n",
    "target = df_users_behavior['is_ultra']\n",
    "\n",
    "# División inicial en entrenamiento y conjunto temporal (validación + prueba)\n",
    "features_train, features_temp, target_train, target_temp = train_test_split(features, target, test_size=0.25, random_state=42)\n",
    "\n",
    "# División del conjunto temporal en validación y prueba\n",
    "features_valid, features_test, target_valid, target_test = train_test_split(features_temp, target_temp, test_size=0.25, random_state=42)\n",
    "\n",
    "# Mostrar tamaños de los conjuntos\n",
    "print(f'Tamaño de entrenamiento: {features_train.shape[0]} registros')\n",
    "print(f'Tamaño de validación: {features_valid.shape[0]} registros')\n",
    "print(f'Tamaño de prueba: {features_test.shape[0]} registros')"
   ]
  },
  {
   "cell_type": "markdown",
   "metadata": {},
   "source": [
    "<div class=\"alert alert-block alert-success\">\n",
    "<b>Comentario del revisor (1ra Iteracion)</b> <a class=“tocSkip”></a>\n",
    "\n",
    "Muy bien realizada la división de los datos para evaluar correctamente los modelos\n",
    "</div>"
   ]
  },
  {
   "cell_type": "markdown",
   "metadata": {},
   "source": [
    "# Paso 3: Investiga la calidad de diferentes modelos cambiando los hiperparámetros. Describe brevemente los hallazgos del estudio."
   ]
  },
  {
   "cell_type": "markdown",
   "metadata": {},
   "source": [
    "**ÁRBOL DE DECISIÓN:**"
   ]
  },
  {
   "cell_type": "code",
   "execution_count": 194,
   "metadata": {},
   "outputs": [
    {
     "name": "stdout",
     "output_type": "stream",
     "text": [
      "Exactitud inicial del Árbol de Decisión: 0.7430\n"
     ]
    }
   ],
   "source": [
    "from sklearn.tree import DecisionTreeClassifier\n",
    "from sklearn.metrics import accuracy_score\n",
    "\n",
    "# Entrenar el modelo con valores iniciales\n",
    "tree_model = DecisionTreeClassifier(random_state=42)\n",
    "tree_model.fit(features_train, target_train)\n",
    "\n",
    "# Predicción en el conjunto de validación\n",
    "target_valid_pred = tree_model.predict(features_valid)\n",
    "\n",
    "# Evaluación de exactitud\n",
    "accuracy = accuracy_score(target_valid, target_valid_pred)\n",
    "print(f'Exactitud inicial del Árbol de Decisión: {accuracy:.4f}')"
   ]
  },
  {
   "cell_type": "code",
   "execution_count": 195,
   "metadata": {},
   "outputs": [
    {
     "name": "stdout",
     "output_type": "stream",
     "text": [
      "Mejor profundidad encontrada: 4 con exactitud de 0.8093\n"
     ]
    }
   ],
   "source": [
    "best_accuracy = 0\n",
    "best_depth = None\n",
    "\n",
    "for depth in range(1, 21):  # Probamos profundidades de 1 a 20\n",
    "    tree_model = DecisionTreeClassifier(max_depth=depth, random_state=42)\n",
    "    tree_model.fit(features_train, target_train)\n",
    "    target_valid_pred = tree_model.predict(features_valid)\n",
    "    accuracy = accuracy_score(target_valid, target_valid_pred)\n",
    "\n",
    "    # Guardamos el mejor resultado\n",
    "    if accuracy > best_accuracy:\n",
    "        best_accuracy = accuracy\n",
    "        best_depth = depth\n",
    "\n",
    "print(f'Mejor profundidad encontrada: {best_depth} con exactitud de {best_accuracy:.4f}')"
   ]
  },
  {
   "cell_type": "markdown",
   "metadata": {},
   "source": [
    "**Hallazgos del Árbol de Decisión:**\n",
    "\n",
    "1. Exactitud inicial del Árbol de Decisión: 0.7430 - Sin ajustes de hiperparámetros, el modelo tuvo una precisión razonable, pero no alcanzó el umbral de 0.75.\n",
    "\n",
    "2. La mejor profundidad encontrada fue 4, con una exactitud de 0.8093.\n",
    "3. Un árbol con una profundidad moderada logra capturar patrones importantes sin sobreajustarse.\n",
    "4. Si el árbol fuera más profundo, podría ajustarse demasiado a los datos de entrenamiento, reduciendo la capacidad de generalización."
   ]
  },
  {
   "cell_type": "markdown",
   "metadata": {},
   "source": [
    "**Conclusiones del Árbol de Decisión:**\n",
    "\n",
    "1. La profundidad del árbol influye bastante en la precisión: Una profundidad baja puede limitar el modelo, mientras que una demasiado alta puede llevar al sobreajuste.\n",
    "2. La exactitud mejoró significativamente con max_depth=4, superando el umbral de 0.75, lo que sugiere que esta configuración puede ser óptima para este dataset.\n"
   ]
  },
  {
   "cell_type": "markdown",
   "metadata": {},
   "source": [
    "**BOSQUE ALEATORIO:**"
   ]
  },
  {
   "cell_type": "code",
   "execution_count": 196,
   "metadata": {},
   "outputs": [
    {
     "name": "stdout",
     "output_type": "stream",
     "text": [
      "Exactitud inicial del Bosque Aleatorio: 0.8308\n"
     ]
    }
   ],
   "source": [
    "from sklearn.ensemble import RandomForestClassifier\n",
    "from sklearn.metrics import accuracy_score\n",
    "\n",
    "# Entrenar el modelo con valores iniciales\n",
    "forest_model = RandomForestClassifier(n_estimators=100, random_state=42)\n",
    "forest_model.fit(features_train, target_train)\n",
    "\n",
    "# Predicción en el conjunto de validación\n",
    "target_valid_pred = forest_model.predict(features_valid)\n",
    "\n",
    "# Evaluación de exactitud\n",
    "accuracy = accuracy_score(target_valid, target_valid_pred)\n",
    "print(f'Exactitud inicial del Bosque Aleatorio: {accuracy:.4f}')"
   ]
  },
  {
   "cell_type": "markdown",
   "metadata": {},
   "source": [
    "**Hallazgos & Conclusiones Bosque Aleatorio:**\n",
    "\n",
    "1. Exactitud incial del Bosque Aleatorio: 83.1%.\n",
    "2. En comparación con el árbol de decisión (81%), el bosque aleatorio represante un mejor ajuste, cerca del 2% de mejoría.\n",
    "3. Indica que la combinación de múltiples árboles ayuda a mejorar la capacidad del modelo de generalizar patrones del dataset.\n",
    "4. ElBosque aleatorio reduce el sobreajuste, porque no depende de uno sino de varios árboles.\n",
    "5. La exactitud del 83.1% supera notablemente el umbral solicitado (75%), lo cual representa una buena guía en la tarea de clasificación desarrollada.\n",
    "6. Se utilizaron 100 estimaciones para hacer un modelo más robusto.\n",
    "\n",
    "\n"
   ]
  },
  {
   "cell_type": "markdown",
   "metadata": {},
   "source": [
    "**REGRESIÓN LOGÍSTICA:**"
   ]
  },
  {
   "cell_type": "code",
   "execution_count": 197,
   "metadata": {},
   "outputs": [
    {
     "name": "stdout",
     "output_type": "stream",
     "text": [
      "Exactitud inicial de la Regresión Logística: 0.6965\n"
     ]
    }
   ],
   "source": [
    "from sklearn.linear_model import LogisticRegression\n",
    "from sklearn.metrics import accuracy_score\n",
    "\n",
    "# Entrenar el modelo\n",
    "log_model = LogisticRegression(random_state=42)\n",
    "log_model.fit(features_train, target_train)\n",
    "\n",
    "# Predicción en el conjunto de validación\n",
    "target_valid_pred = log_model.predict(features_valid)\n",
    "\n",
    "# Evaluación de exactitud\n",
    "accuracy = accuracy_score(target_valid, target_valid_pred)\n",
    "print(f'Exactitud inicial de la Regresión Logística: {accuracy:.4f}')"
   ]
  },
  {
   "cell_type": "code",
   "execution_count": 198,
   "metadata": {},
   "outputs": [
    {
     "name": "stdout",
     "output_type": "stream",
     "text": [
      "Mejor configuración: C=0.1, solver=liblinear, Exactitud=0.7479\n"
     ]
    }
   ],
   "source": [
    "from sklearn.preprocessing import StandardScaler\n",
    "from sklearn.linear_model import LogisticRegression\n",
    "from sklearn.metrics import accuracy_score\n",
    "\n",
    "scaler = StandardScaler()\n",
    "features_train_scaled = scaler.fit_transform(features_train)\n",
    "features_valid_scaled = scaler.transform(features_valid)\n",
    "best_accuracy = 0\n",
    "best_C = None\n",
    "best_solver = None\n",
    "\n",
    "solvers = ['liblinear', 'saga']\n",
    "C_values = [0.01, 0.1, 1, 10, 100]\n",
    "\n",
    "for solver in solvers:\n",
    "    for C in C_values:\n",
    "        log_model = LogisticRegression(C=C, solver=solver, random_state=42)\n",
    "        log_model.fit(features_train_scaled, target_train)\n",
    "        target_valid_pred = log_model.predict(features_valid_scaled)\n",
    "        accuracy = accuracy_score(target_valid, target_valid_pred)\n",
    "\n",
    "        if accuracy > best_accuracy:\n",
    "            best_accuracy = accuracy\n",
    "            best_C = C\n",
    "            best_solver = solver\n",
    "\n",
    "print(f'Mejor configuración: C={best_C}, solver={best_solver}, Exactitud={best_accuracy:.4f}')"
   ]
  },
  {
   "cell_type": "markdown",
   "metadata": {},
   "source": [
    "**Hallazgos y Conclusiones Regresión Lineal:**\n",
    "\n",
    "1. **Modelo inicial: Regresión Logística sin ajustes: 69.65% de exactitud**\n",
    "2. Mejoras aplicadas: Escalado de datos para mejorar la normalización de características.\n",
    "2.1. Ajuste del hiperparámetro C para regularización óptima.\n",
    "2.2. Cambio de solver para encontrar el algoritmo más eficiente.\n",
    "\n",
    "3. Mejor configuración obtenida:\n",
    "3.1. C = X (mejor valor de regularización)\n",
    "3.2. solver = Y (algoritmo que optimizó la convergencia)\n",
    "3.3. **Nueva exactitud alcanzada: 74.79%**\n",
    "\n",
    "Conclusiones:\n",
    "\n",
    "1. La regresión logística mostró mejoras con ajuste de hiperparámetros, pero no logró superar el rendimiento de modelos más complejos.\n",
    "2. El impacto del escalado fue significativo, lo que sugiere que la normalización de datos es relevante en modelos lineales.\n",
    "3. A pesar de la mejora, el modelo sigue por debajo del umbral del 75%, lo que refuerza la decisión de elegir Bosque Aleatorio (83%) como el mejor modelo."
   ]
  },
  {
   "cell_type": "markdown",
   "metadata": {},
   "source": [
    "# Paso 4: Comprueba la calidad del modelo usando el conjunto de prueba. **(BOSQUE ALEATORIO).**"
   ]
  },
  {
   "cell_type": "code",
   "execution_count": 199,
   "metadata": {},
   "outputs": [
    {
     "name": "stdout",
     "output_type": "stream",
     "text": [
      "Exactitud del Bosque Aleatorio en prueba: 0.7910\n"
     ]
    }
   ],
   "source": [
    "# Predicción en el conjunto de prueba\n",
    "target_test_pred = forest_model.predict(features_test)\n",
    "\n",
    "# Evaluación de exactitud\n",
    "accuracy_test = accuracy_score(target_test, target_test_pred)\n",
    "print(f'Exactitud del Bosque Aleatorio en prueba: {accuracy_test:.4f}')"
   ]
  },
  {
   "cell_type": "markdown",
   "metadata": {},
   "source": [
    "**Conclusiones de la comprobación del modelo usando el conjunto de prueba:**\n",
    "\n",
    "1. El modelo sigue siendo sólido: Aunque hubo una reducción en la exactitud, del 83% al 79%, este sigue siendo un buen desempeño y dentro de un rango aceptable para la clasificación.\n",
    "2. Pequeña pérdida de generalización: La diferencia entre entrenamiento/validación y prueba sugiere que hay un leve sobreajuste.\n",
    "3. El bosque aleatorio sigue siendo la mejor opción: A pesar de la caída, sigue superando al Árbol de Decisión (80.93%) y a la Regresión Logística (74.79%), confirmando que es el mejor modelo para esta tarea.\n",
    "4. No es preocupante la reducción en la exactitud, ya que la pérdida es mínima y el modelo sigue siendo robusto.\n",
    "5. No es necesario seguir ajustando el modelo, ya que su rendimiento es estable."
   ]
  },
  {
   "cell_type": "markdown",
   "metadata": {},
   "source": [
    "# Paso 5: Tarea adicional: haz una prueba de cordura al modelo. Estos datos son más complejos que los que habías usado antes así que no será una tarea fácil. Más adelante lo veremos con más detalle."
   ]
  },
  {
   "cell_type": "markdown",
   "metadata": {},
   "source": [
    "**1. Extracción de datos complejos para la prueba:**"
   ]
  },
  {
   "cell_type": "code",
   "execution_count": 200,
   "metadata": {},
   "outputs": [
    {
     "name": "stdout",
     "output_type": "stream",
     "text": [
      "    calls  minutes  messages   mb_used  is_ultra\n",
      "27  154.0  1078.64      48.0  29335.15         1\n",
      "36   76.0   543.18      43.0  31845.11         1\n",
      "51  124.0   842.40      75.0  21544.34         1\n",
      "52  129.0   929.23       0.0  22508.96         1\n",
      "55   13.0   106.03      16.0  37328.45         1\n"
     ]
    }
   ],
   "source": [
    "# Seleccionar usuarios con valores extremos\n",
    "extreme_users = df_users_behavior[(df_users_behavior['calls'] > df_users_behavior['calls'].quantile(0.95)) | \n",
    "                    (df_users_behavior['messages'] < df_users_behavior['messages'].quantile(0.05)) |\n",
    "                    (df_users_behavior['mb_used'] > df_users_behavior['mb_used'].quantile(0.95))]\n",
    "\n",
    "print(extreme_users.head())"
   ]
  },
  {
   "cell_type": "markdown",
   "metadata": {},
   "source": [
    "**2. Evaluación del modelo en casos extremos:**"
   ]
  },
  {
   "cell_type": "code",
   "execution_count": 201,
   "metadata": {},
   "outputs": [
    {
     "name": "stdout",
     "output_type": "stream",
     "text": [
      "Index(['calls', 'minutes', 'messages', 'mb_used'], dtype='object')\n"
     ]
    }
   ],
   "source": [
    "print(features_train.columns)"
   ]
  },
  {
   "cell_type": "code",
   "execution_count": 202,
   "metadata": {},
   "outputs": [
    {
     "name": "stdout",
     "output_type": "stream",
     "text": [
      "Index(['calls', 'minutes', 'messages', 'mb_used'], dtype='object')\n",
      "Index(['calls', 'minutes', 'messages', 'mb_used'], dtype='object')\n"
     ]
    }
   ],
   "source": [
    "print(features_train.columns)\n",
    "print(extreme_users_filtered.columns)"
   ]
  },
  {
   "cell_type": "code",
   "execution_count": 203,
   "metadata": {},
   "outputs": [
    {
     "name": "stdout",
     "output_type": "stream",
     "text": [
      "Index(['calls', 'minutes', 'messages', 'mb_used', 'is_ultra'], dtype='object')\n"
     ]
    }
   ],
   "source": [
    "print(extreme_users.columns)"
   ]
  },
  {
   "cell_type": "code",
   "execution_count": 204,
   "metadata": {},
   "outputs": [],
   "source": [
    "extreme_users_filtered = extreme_users[features_train.columns]"
   ]
  },
  {
   "cell_type": "code",
   "execution_count": 205,
   "metadata": {},
   "outputs": [
    {
     "name": "stdout",
     "output_type": "stream",
     "text": [
      "calls       0\n",
      "minutes     0\n",
      "messages    0\n",
      "mb_used     0\n",
      "dtype: int64\n"
     ]
    }
   ],
   "source": [
    "print(extreme_users_filtered.isnull().sum())"
   ]
  },
  {
   "cell_type": "code",
   "execution_count": 206,
   "metadata": {},
   "outputs": [
    {
     "name": "stdout",
     "output_type": "stream",
     "text": [
      "      calls  messages   mb_used  is_ultra  predicted_ultra\n",
      "27    154.0      48.0  29335.15         1                1\n",
      "36     76.0      43.0  31845.11         1                1\n",
      "51    124.0      75.0  21544.34         1                1\n",
      "52    129.0       0.0  22508.96         1                1\n",
      "55     13.0      16.0  37328.45         1                1\n",
      "...     ...       ...       ...       ...              ...\n",
      "3198   22.0      51.0  30466.84         1                1\n",
      "3203   53.0      85.0  30550.30         1                1\n",
      "3208  164.0      71.0  17787.52         1                1\n",
      "3209  122.0      20.0  35124.90         1                1\n",
      "3212   64.0      90.0  31239.78         0                0\n",
      "\n",
      "[289 rows x 5 columns]\n"
     ]
    },
    {
     "name": "stderr",
     "output_type": "stream",
     "text": [
      "/opt/conda/envs/python3/lib/python3.9/site-packages/pandas/core/indexing.py:1597: SettingWithCopyWarning: \n",
      "A value is trying to be set on a copy of a slice from a DataFrame.\n",
      "Try using .loc[row_indexer,col_indexer] = value instead\n",
      "\n",
      "See the caveats in the documentation: https://pandas.pydata.org/pandas-docs/stable/user_guide/indexing.html#returning-a-view-versus-a-copy\n",
      "  self.obj[key] = value\n",
      "/opt/conda/envs/python3/lib/python3.9/site-packages/pandas/core/indexing.py:1676: SettingWithCopyWarning: \n",
      "A value is trying to be set on a copy of a slice from a DataFrame.\n",
      "Try using .loc[row_indexer,col_indexer] = value instead\n",
      "\n",
      "See the caveats in the documentation: https://pandas.pydata.org/pandas-docs/stable/user_guide/indexing.html#returning-a-view-versus-a-copy\n",
      "  self._setitem_single_column(ilocs[0], value, pi)\n"
     ]
    }
   ],
   "source": [
    "target_extreme_pred = forest_model.predict(extreme_users_filtered)\n",
    "extreme_users.loc[:, \"predicted_ultra\"] = target_extreme_pred\n",
    "print(extreme_users[['calls', 'messages', 'mb_used', 'is_ultra', 'predicted_ultra']])"
   ]
  },
  {
   "cell_type": "markdown",
   "metadata": {},
   "source": [
    "**Conclusiones de la Prueba de Cordura:**\n",
    "\n",
    "1. Identificación de casos extremos: Se filtraron 289 usuarios con valores atípicos de 3214 del dataset original, en cuanto al consumo de llamadas, mensajes y tráfico de datos.\n",
    "2. El Bosque Aleatorio mantuvo un desempeño razonable, clasificando correctamente la mayoría de los casos.\n",
    "3. A pesar de la complejidad de los datos, el modelo demostró capacidad de adaptación sin desviaciones críticas.\n",
    "4. Se detectaron algunos errores en la predicción, lo que sugiere que el modelo podría beneficiarse de más datos de entrenamiento o una revisión de hiperparámetros.\n",
    "5. En general, el modelo pasó la prueba de cordura, manteniendo decisiones lógicas incluso con los datos más extremos.\n"
   ]
  },
  {
   "cell_type": "markdown",
   "metadata": {},
   "source": [
    "**Conclusiones generales del proyecto:**\n",
    "\n",
    "1. Se analizó el dataset users_behavior, identificando variables relevantes como cantidad de llamadas, mensajes y tráfico de datos.\n",
    "2. Se realizó la limpieza y preprocesamiento para garantizar datos consistentes y listos para la clasificación.\n",
    "3. Se probaron varios algoritmos de clasificación, incluyendo árbol de decisión, regresión logística y bosque aleatorio.\n",
    "4. Bosque Aleatorio fue el modelo con mejor rendimiento, alcanzando 83% de exactitud en validación, superior a los otros modelos.\n",
    "5. Se optimizaron los modelos probando distintas configuraciones (C, solver, escalado de datos).\n",
    "6. La Regresión Logística mejoró su exactitud a 74.79%, pero no superó el Bosque Aleatorio, confirmando que este último es la mejor opción.\n",
    "7. El Bosque Aleatorio tuvo una ligera disminución en exactitud (83% a 79%), pero se mantuvo como el modelo más confiable y generalizable.\n",
    "8. La estabilidad del modelo en datos nuevos confirmó su capacidad de clasificación sin sobreajuste significativo.\n",
    "9. Se identificaron 289 usuarios con patrones de consumo extremos de los 3214 del dataset original, para evaluar el desempeño del modelo en condiciones más complejas.\n",
    "10. A pesar de la dificultad de los datos, el Bosque Aleatorio mantuvo rangos coherentes, mostrando su capacidad de adaptación.\n",
    "\n",
    "**Conclusiones finales:**\n",
    "\n",
    "1. Este proyecto se centró en la clasificación de usuarios según su tipo de plan, por lo que se utilizaron modelos de clasificación y no de regresión numérica.\n",
    "2. El Bosque Aleatorio fue el modelo más preciso y estable, siendo la mejor opción para la tarea.\n",
    "3. Las pruebas adicionales confirmaron que el modelo puede manejar datos complejos sin perder confiabilidad, asegurando una implementación sólida."
   ]
  },
  {
   "cell_type": "markdown",
   "metadata": {},
   "source": [
    "<div class=\"alert alert-block alert-warning\">\n",
    "<b>Comentario del revisor (1ra Iteracion)</b> <a class=“tocSkip”></a>\n",
    "\n",
    "Buen trabajo con tu proyecto! Entrenaste los modelos correctamente y los fuiste mejorando cambiando los hiperparámetros logrando así una métrica por encima del umbral que se propuso para este proyecto.\n",
    "    \n",
    "También podrías realizar un EDA de los datos un poco más detallado, puedes generar gráficas y explorar las diferentes variables ya que así entenderás mejor los datos y sabrás que es lo que puede afectar tu modelo.\n",
    "\n",
    "    \n",
    "Saludos!\n",
    "</div>"
   ]
  }
 ],
 "metadata": {
  "ExecuteTimeLog": [
   {
    "duration": 288,
    "start_time": "2025-04-10T15:18:40.463Z"
   },
   {
    "duration": 14,
    "start_time": "2025-04-10T15:18:40.753Z"
   },
   {
    "duration": 8,
    "start_time": "2025-04-10T15:18:40.769Z"
   },
   {
    "duration": 12,
    "start_time": "2025-04-10T15:18:40.778Z"
   },
   {
    "duration": 172,
    "start_time": "2025-04-10T15:20:17.588Z"
   },
   {
    "duration": 4,
    "start_time": "2025-04-10T15:20:29.548Z"
   },
   {
    "duration": 3,
    "start_time": "2025-04-10T15:21:18.677Z"
   },
   {
    "duration": 8,
    "start_time": "2025-04-10T15:21:18.684Z"
   },
   {
    "duration": 8,
    "start_time": "2025-04-10T15:21:18.693Z"
   },
   {
    "duration": 7,
    "start_time": "2025-04-10T15:21:18.703Z"
   },
   {
    "duration": 6,
    "start_time": "2025-04-10T15:21:18.712Z"
   },
   {
    "duration": 4,
    "start_time": "2025-04-10T15:21:18.722Z"
   },
   {
    "duration": 4,
    "start_time": "2025-04-10T15:21:44.140Z"
   },
   {
    "duration": 7,
    "start_time": "2025-04-10T15:21:44.146Z"
   },
   {
    "duration": 8,
    "start_time": "2025-04-10T15:21:44.155Z"
   },
   {
    "duration": 8,
    "start_time": "2025-04-10T15:21:44.164Z"
   },
   {
    "duration": 4,
    "start_time": "2025-04-10T15:21:44.174Z"
   },
   {
    "duration": 4,
    "start_time": "2025-04-10T15:21:44.180Z"
   },
   {
    "duration": 12,
    "start_time": "2025-04-10T15:22:48.404Z"
   },
   {
    "duration": 15,
    "start_time": "2025-04-10T15:22:56.144Z"
   },
   {
    "duration": 15,
    "start_time": "2025-04-10T15:47:01.276Z"
   },
   {
    "duration": 16,
    "start_time": "2025-04-10T15:47:19.226Z"
   },
   {
    "duration": 6,
    "start_time": "2025-04-10T15:49:01.288Z"
   },
   {
    "duration": 0,
    "start_time": "2025-04-10T15:49:01.296Z"
   },
   {
    "duration": 0,
    "start_time": "2025-04-10T15:49:01.297Z"
   },
   {
    "duration": 0,
    "start_time": "2025-04-10T15:49:01.299Z"
   },
   {
    "duration": 0,
    "start_time": "2025-04-10T15:49:01.300Z"
   },
   {
    "duration": 0,
    "start_time": "2025-04-10T15:49:01.301Z"
   },
   {
    "duration": 0,
    "start_time": "2025-04-10T15:49:01.302Z"
   },
   {
    "duration": 15,
    "start_time": "2025-04-10T15:49:01.304Z"
   },
   {
    "duration": 4,
    "start_time": "2025-04-10T15:49:41.564Z"
   },
   {
    "duration": 0,
    "start_time": "2025-04-10T15:49:41.570Z"
   },
   {
    "duration": 8,
    "start_time": "2025-04-10T15:49:41.573Z"
   },
   {
    "duration": 7,
    "start_time": "2025-04-10T15:49:41.583Z"
   },
   {
    "duration": 14,
    "start_time": "2025-04-10T15:49:41.591Z"
   },
   {
    "duration": 4,
    "start_time": "2025-04-10T15:49:41.606Z"
   },
   {
    "duration": 5,
    "start_time": "2025-04-10T15:49:41.612Z"
   },
   {
    "duration": 14,
    "start_time": "2025-04-10T15:49:41.618Z"
   },
   {
    "duration": 4,
    "start_time": "2025-04-10T15:50:06.040Z"
   },
   {
    "duration": 484,
    "start_time": "2025-04-10T15:50:23.457Z"
   },
   {
    "duration": 8,
    "start_time": "2025-04-10T15:50:45.955Z"
   },
   {
    "duration": 2,
    "start_time": "2025-04-10T15:50:58.420Z"
   },
   {
    "duration": 9,
    "start_time": "2025-04-10T15:50:58.425Z"
   },
   {
    "duration": 8,
    "start_time": "2025-04-10T15:50:58.436Z"
   },
   {
    "duration": 8,
    "start_time": "2025-04-10T15:50:58.447Z"
   },
   {
    "duration": 13,
    "start_time": "2025-04-10T15:50:58.456Z"
   },
   {
    "duration": 5,
    "start_time": "2025-04-10T15:50:58.471Z"
   },
   {
    "duration": 34,
    "start_time": "2025-04-10T15:50:58.478Z"
   },
   {
    "duration": 8,
    "start_time": "2025-04-10T15:50:58.515Z"
   },
   {
    "duration": 8,
    "start_time": "2025-04-10T15:51:53.818Z"
   },
   {
    "duration": 2,
    "start_time": "2025-04-10T15:51:57.059Z"
   },
   {
    "duration": 9,
    "start_time": "2025-04-10T15:51:57.063Z"
   },
   {
    "duration": 8,
    "start_time": "2025-04-10T15:51:57.073Z"
   },
   {
    "duration": 7,
    "start_time": "2025-04-10T15:51:57.083Z"
   },
   {
    "duration": 13,
    "start_time": "2025-04-10T15:51:57.091Z"
   },
   {
    "duration": 4,
    "start_time": "2025-04-10T15:51:57.105Z"
   },
   {
    "duration": 4,
    "start_time": "2025-04-10T15:51:57.111Z"
   },
   {
    "duration": 6,
    "start_time": "2025-04-10T15:51:57.117Z"
   },
   {
    "duration": 7,
    "start_time": "2025-04-10T15:52:35.203Z"
   },
   {
    "duration": 2,
    "start_time": "2025-04-10T15:52:39.669Z"
   },
   {
    "duration": 9,
    "start_time": "2025-04-10T15:52:39.674Z"
   },
   {
    "duration": 8,
    "start_time": "2025-04-10T15:52:39.684Z"
   },
   {
    "duration": 7,
    "start_time": "2025-04-10T15:52:39.694Z"
   },
   {
    "duration": 13,
    "start_time": "2025-04-10T15:52:39.704Z"
   },
   {
    "duration": 4,
    "start_time": "2025-04-10T15:52:39.718Z"
   },
   {
    "duration": 4,
    "start_time": "2025-04-10T15:52:39.723Z"
   },
   {
    "duration": 7,
    "start_time": "2025-04-10T15:52:39.728Z"
   },
   {
    "duration": 3,
    "start_time": "2025-04-10T15:53:11.062Z"
   },
   {
    "duration": 8,
    "start_time": "2025-04-10T15:53:11.067Z"
   },
   {
    "duration": 8,
    "start_time": "2025-04-10T15:53:11.076Z"
   },
   {
    "duration": 7,
    "start_time": "2025-04-10T15:53:11.086Z"
   },
   {
    "duration": 15,
    "start_time": "2025-04-10T15:53:11.094Z"
   },
   {
    "duration": 4,
    "start_time": "2025-04-10T15:53:11.111Z"
   },
   {
    "duration": 6,
    "start_time": "2025-04-10T15:53:11.116Z"
   },
   {
    "duration": 6,
    "start_time": "2025-04-10T15:53:11.124Z"
   },
   {
    "duration": 46,
    "start_time": "2025-04-10T16:12:48.015Z"
   },
   {
    "duration": 165,
    "start_time": "2025-04-10T16:13:12.286Z"
   },
   {
    "duration": 408,
    "start_time": "2025-04-10T16:40:01.331Z"
   },
   {
    "duration": 2,
    "start_time": "2025-04-10T17:46:01.858Z"
   },
   {
    "duration": 9,
    "start_time": "2025-04-10T17:46:01.862Z"
   },
   {
    "duration": 10,
    "start_time": "2025-04-10T17:46:01.872Z"
   },
   {
    "duration": 7,
    "start_time": "2025-04-10T17:46:01.884Z"
   },
   {
    "duration": 14,
    "start_time": "2025-04-10T17:46:01.893Z"
   },
   {
    "duration": 4,
    "start_time": "2025-04-10T17:46:01.909Z"
   },
   {
    "duration": 4,
    "start_time": "2025-04-10T17:46:01.915Z"
   },
   {
    "duration": 7,
    "start_time": "2025-04-10T17:46:01.921Z"
   },
   {
    "duration": 17,
    "start_time": "2025-04-10T17:46:01.930Z"
   },
   {
    "duration": 188,
    "start_time": "2025-04-10T17:46:01.949Z"
   },
   {
    "duration": 384,
    "start_time": "2025-04-10T17:46:02.138Z"
   },
   {
    "duration": 17,
    "start_time": "2025-04-10T17:57:20.233Z"
   },
   {
    "duration": 24,
    "start_time": "2025-04-10T18:04:38.982Z"
   },
   {
    "duration": 42,
    "start_time": "2025-04-10T18:05:26.501Z"
   },
   {
    "duration": 48,
    "start_time": "2025-04-10T18:09:50.018Z"
   },
   {
    "duration": 3,
    "start_time": "2025-04-10T18:15:39.877Z"
   },
   {
    "duration": 9,
    "start_time": "2025-04-10T18:15:39.882Z"
   },
   {
    "duration": 8,
    "start_time": "2025-04-10T18:15:39.893Z"
   },
   {
    "duration": 7,
    "start_time": "2025-04-10T18:15:39.903Z"
   },
   {
    "duration": 13,
    "start_time": "2025-04-10T18:15:39.914Z"
   },
   {
    "duration": 3,
    "start_time": "2025-04-10T18:15:39.928Z"
   },
   {
    "duration": 5,
    "start_time": "2025-04-10T18:15:39.933Z"
   },
   {
    "duration": 7,
    "start_time": "2025-04-10T18:15:39.940Z"
   },
   {
    "duration": 18,
    "start_time": "2025-04-10T18:15:39.950Z"
   },
   {
    "duration": 205,
    "start_time": "2025-04-10T18:15:39.970Z"
   },
   {
    "duration": 388,
    "start_time": "2025-04-10T18:15:40.176Z"
   },
   {
    "duration": 52,
    "start_time": "2025-04-10T18:15:40.566Z"
   },
   {
    "duration": 127,
    "start_time": "2025-04-10T18:15:40.621Z"
   },
   {
    "duration": 13,
    "start_time": "2025-04-10T18:21:42.351Z"
   },
   {
    "duration": 16,
    "start_time": "2025-04-10T18:33:38.829Z"
   },
   {
    "duration": 390,
    "start_time": "2025-04-10T18:34:17.190Z"
   },
   {
    "duration": 9,
    "start_time": "2025-04-10T18:35:00.087Z"
   },
   {
    "duration": 16,
    "start_time": "2025-04-10T18:37:14.372Z"
   },
   {
    "duration": 131,
    "start_time": "2025-04-10T18:40:03.063Z"
   },
   {
    "duration": 43,
    "start_time": "2025-04-10T18:42:25.447Z"
   },
   {
    "duration": 108,
    "start_time": "2025-04-10T18:42:30.630Z"
   },
   {
    "duration": 3,
    "start_time": "2025-04-10T18:43:25.227Z"
   },
   {
    "duration": 11,
    "start_time": "2025-04-10T18:43:54.871Z"
   },
   {
    "duration": 4,
    "start_time": "2025-04-10T18:44:10.862Z"
   },
   {
    "duration": 48,
    "start_time": "2025-04-10T18:44:30.409Z"
   },
   {
    "duration": 3,
    "start_time": "2025-04-10T18:46:33.273Z"
   },
   {
    "duration": 3,
    "start_time": "2025-04-10T18:46:54.328Z"
   },
   {
    "duration": 3,
    "start_time": "2025-04-10T18:47:05.127Z"
   },
   {
    "duration": 3,
    "start_time": "2025-04-10T18:47:22.219Z"
   },
   {
    "duration": 43,
    "start_time": "2025-04-10T18:47:32.115Z"
   },
   {
    "duration": 3,
    "start_time": "2025-04-10T18:49:17.168Z"
   },
   {
    "duration": 3,
    "start_time": "2025-04-10T18:50:00.928Z"
   },
   {
    "duration": 5,
    "start_time": "2025-04-10T18:50:10.807Z"
   },
   {
    "duration": 15,
    "start_time": "2025-04-10T18:50:36.728Z"
   },
   {
    "duration": 2,
    "start_time": "2025-04-10T18:57:01.237Z"
   },
   {
    "duration": 9,
    "start_time": "2025-04-10T18:57:01.242Z"
   },
   {
    "duration": 8,
    "start_time": "2025-04-10T18:57:01.253Z"
   },
   {
    "duration": 8,
    "start_time": "2025-04-10T18:57:01.263Z"
   },
   {
    "duration": 13,
    "start_time": "2025-04-10T18:57:01.273Z"
   },
   {
    "duration": 4,
    "start_time": "2025-04-10T18:57:01.287Z"
   },
   {
    "duration": 4,
    "start_time": "2025-04-10T18:57:01.292Z"
   },
   {
    "duration": 7,
    "start_time": "2025-04-10T18:57:01.311Z"
   },
   {
    "duration": 17,
    "start_time": "2025-04-10T18:57:01.319Z"
   },
   {
    "duration": 182,
    "start_time": "2025-04-10T18:57:01.337Z"
   },
   {
    "duration": 392,
    "start_time": "2025-04-10T18:57:01.520Z"
   },
   {
    "duration": 22,
    "start_time": "2025-04-10T18:57:01.913Z"
   },
   {
    "duration": 189,
    "start_time": "2025-04-10T18:57:01.936Z"
   },
   {
    "duration": 12,
    "start_time": "2025-04-10T18:57:02.128Z"
   },
   {
    "duration": 9,
    "start_time": "2025-04-10T18:57:02.141Z"
   },
   {
    "duration": 3,
    "start_time": "2025-04-10T18:57:02.151Z"
   },
   {
    "duration": 3,
    "start_time": "2025-04-10T18:57:02.155Z"
   },
   {
    "duration": 4,
    "start_time": "2025-04-10T18:57:02.160Z"
   },
   {
    "duration": 3,
    "start_time": "2025-04-10T18:57:02.165Z"
   },
   {
    "duration": 45,
    "start_time": "2025-04-10T18:57:02.170Z"
   },
   {
    "duration": 14,
    "start_time": "2025-04-10T18:57:02.217Z"
   },
   {
    "duration": 3,
    "start_time": "2025-04-10T18:58:02.504Z"
   },
   {
    "duration": 9,
    "start_time": "2025-04-10T18:58:02.510Z"
   },
   {
    "duration": 8,
    "start_time": "2025-04-10T18:58:02.521Z"
   },
   {
    "duration": 8,
    "start_time": "2025-04-10T18:58:02.532Z"
   },
   {
    "duration": 12,
    "start_time": "2025-04-10T18:58:02.544Z"
   },
   {
    "duration": 4,
    "start_time": "2025-04-10T18:58:02.558Z"
   },
   {
    "duration": 4,
    "start_time": "2025-04-10T18:58:02.563Z"
   },
   {
    "duration": 43,
    "start_time": "2025-04-10T18:58:02.569Z"
   },
   {
    "duration": 15,
    "start_time": "2025-04-10T18:58:02.614Z"
   },
   {
    "duration": 175,
    "start_time": "2025-04-10T18:58:02.631Z"
   },
   {
    "duration": 383,
    "start_time": "2025-04-10T18:58:02.807Z"
   },
   {
    "duration": 31,
    "start_time": "2025-04-10T18:58:03.192Z"
   },
   {
    "duration": 122,
    "start_time": "2025-04-10T18:58:03.225Z"
   },
   {
    "duration": 11,
    "start_time": "2025-04-10T18:58:03.349Z"
   },
   {
    "duration": 52,
    "start_time": "2025-04-10T18:58:03.361Z"
   },
   {
    "duration": 2,
    "start_time": "2025-04-10T18:58:03.415Z"
   },
   {
    "duration": 4,
    "start_time": "2025-04-10T18:58:03.419Z"
   },
   {
    "duration": 4,
    "start_time": "2025-04-10T18:58:03.424Z"
   },
   {
    "duration": 3,
    "start_time": "2025-04-10T18:58:03.430Z"
   },
   {
    "duration": 5,
    "start_time": "2025-04-10T18:58:03.434Z"
   },
   {
    "duration": 13,
    "start_time": "2025-04-10T18:58:03.440Z"
   },
   {
    "duration": 3,
    "start_time": "2025-04-11T02:24:39.596Z"
   },
   {
    "duration": 10,
    "start_time": "2025-04-11T02:24:39.601Z"
   },
   {
    "duration": 8,
    "start_time": "2025-04-11T02:24:39.613Z"
   },
   {
    "duration": 7,
    "start_time": "2025-04-11T02:24:39.622Z"
   },
   {
    "duration": 13,
    "start_time": "2025-04-11T02:24:39.631Z"
   },
   {
    "duration": 4,
    "start_time": "2025-04-11T02:24:39.645Z"
   },
   {
    "duration": 4,
    "start_time": "2025-04-11T02:24:39.651Z"
   },
   {
    "duration": 6,
    "start_time": "2025-04-11T02:24:39.657Z"
   },
   {
    "duration": 53,
    "start_time": "2025-04-11T02:24:39.665Z"
   },
   {
    "duration": 174,
    "start_time": "2025-04-11T02:24:39.719Z"
   },
   {
    "duration": 385,
    "start_time": "2025-04-11T02:24:39.895Z"
   },
   {
    "duration": 42,
    "start_time": "2025-04-11T02:24:40.281Z"
   },
   {
    "duration": 121,
    "start_time": "2025-04-11T02:24:40.325Z"
   },
   {
    "duration": 10,
    "start_time": "2025-04-11T02:24:40.449Z"
   },
   {
    "duration": 55,
    "start_time": "2025-04-11T02:24:40.461Z"
   },
   {
    "duration": 3,
    "start_time": "2025-04-11T02:24:40.518Z"
   },
   {
    "duration": 3,
    "start_time": "2025-04-11T02:24:40.522Z"
   },
   {
    "duration": 4,
    "start_time": "2025-04-11T02:24:40.527Z"
   },
   {
    "duration": 4,
    "start_time": "2025-04-11T02:24:40.532Z"
   },
   {
    "duration": 5,
    "start_time": "2025-04-11T02:24:40.537Z"
   },
   {
    "duration": 14,
    "start_time": "2025-04-11T02:24:40.543Z"
   },
   {
    "duration": 3,
    "start_time": "2025-04-11T02:37:40.204Z"
   },
   {
    "duration": 9,
    "start_time": "2025-04-11T02:37:40.209Z"
   },
   {
    "duration": 8,
    "start_time": "2025-04-11T02:37:40.220Z"
   },
   {
    "duration": 8,
    "start_time": "2025-04-11T02:37:40.230Z"
   },
   {
    "duration": 13,
    "start_time": "2025-04-11T02:37:40.240Z"
   },
   {
    "duration": 4,
    "start_time": "2025-04-11T02:37:40.254Z"
   },
   {
    "duration": 4,
    "start_time": "2025-04-11T02:37:40.260Z"
   },
   {
    "duration": 6,
    "start_time": "2025-04-11T02:37:40.266Z"
   },
   {
    "duration": 44,
    "start_time": "2025-04-11T02:37:40.275Z"
   },
   {
    "duration": 176,
    "start_time": "2025-04-11T02:37:40.320Z"
   },
   {
    "duration": 407,
    "start_time": "2025-04-11T02:37:40.498Z"
   },
   {
    "duration": 18,
    "start_time": "2025-04-11T02:37:40.907Z"
   },
   {
    "duration": 123,
    "start_time": "2025-04-11T02:37:40.927Z"
   },
   {
    "duration": 12,
    "start_time": "2025-04-11T02:37:41.051Z"
   },
   {
    "duration": 9,
    "start_time": "2025-04-11T02:37:41.111Z"
   },
   {
    "duration": 3,
    "start_time": "2025-04-11T02:37:41.121Z"
   },
   {
    "duration": 3,
    "start_time": "2025-04-11T02:37:41.126Z"
   },
   {
    "duration": 4,
    "start_time": "2025-04-11T02:37:41.130Z"
   },
   {
    "duration": 4,
    "start_time": "2025-04-11T02:37:41.135Z"
   },
   {
    "duration": 5,
    "start_time": "2025-04-11T02:37:41.140Z"
   },
   {
    "duration": 14,
    "start_time": "2025-04-11T02:37:41.146Z"
   }
  ],
  "kernelspec": {
   "display_name": "Python 3 (ipykernel)",
   "language": "python",
   "name": "python3"
  },
  "language_info": {
   "codemirror_mode": {
    "name": "ipython",
    "version": 3
   },
   "file_extension": ".py",
   "mimetype": "text/x-python",
   "name": "python",
   "nbconvert_exporter": "python",
   "pygments_lexer": "ipython3",
   "version": "3.9.19"
  },
  "toc": {
   "base_numbering": 1,
   "nav_menu": {},
   "number_sections": true,
   "sideBar": true,
   "skip_h1_title": true,
   "title_cell": "Table of Contents",
   "title_sidebar": "Contents",
   "toc_cell": false,
   "toc_position": {},
   "toc_section_display": true,
   "toc_window_display": false
  }
 },
 "nbformat": 4,
 "nbformat_minor": 2
}
