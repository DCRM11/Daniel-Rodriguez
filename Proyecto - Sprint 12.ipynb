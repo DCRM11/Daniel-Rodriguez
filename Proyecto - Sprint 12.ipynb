{
 "cells": [
  {
   "cell_type": "markdown",
   "metadata": {},
   "source": [
    "¡Hola, Daniel!\n",
    "\n",
    "Mi nombre es Tonatiuh Cruz. Me complace revisar tu proyecto hoy.\n",
    "\n",
    "Al identificar cualquier error inicialmente, simplemente los destacaré. Te animo a localizar y abordar los problemas de forma independiente como parte de tu preparación para un rol como data-scientist. En un entorno profesional, tu líder de equipo seguiría un enfoque similar. Si encuentras la tarea desafiante, proporcionaré una pista más específica en la próxima iteración.\n",
    "\n",
    "Encontrarás mis comentarios a continuación - **por favor no los muevas, modifiques o elimines**.\n",
    "\n",
    "Puedes encontrar mis comentarios en cajas verdes, amarillas o rojas como esta:\n",
    "\n",
    "<div class=\"alert alert-block alert-success\">\n",
    "<b>Comentario del revisor</b> <a class=\"tocSkip\"></a>\n",
    "\n",
    "Éxito. Todo está hecho correctamente.\n",
    "</div>\n",
    "\n",
    "<div class=\"alert alert-block alert-warning\">\n",
    "<b>Comentario del revisor</b> <a class=\"tocSkip\"></a>\n",
    "\n",
    "Observaciones. Algunas recomendaciones.\n",
    "</div>\n",
    "\n",
    "<div class=\"alert alert-block alert-danger\">\n",
    "<b>Comentario del revisor</b> <a class=\"tocSkip\"></a>\n",
    "\n",
    "Necesita corrección. El bloque requiere algunas correcciones. El trabajo no puede ser aceptado con comentarios en rojo.\n",
    "</div>\n",
    "\n",
    "Puedes responderme utilizando esto:\n",
    "\n",
    "<div class=\"alert alert-block alert-info\">"
   ]
  },
  {
   "cell_type": "markdown",
   "metadata": {},
   "source": [
    "# Instrucción 1. Prepara los datos."
   ]
  },
  {
   "cell_type": "markdown",
   "metadata": {},
   "source": [
    "# 1.1. Abre los archivos y examina los datos. "
   ]
  },
  {
   "cell_type": "code",
   "execution_count": 1,
   "metadata": {},
   "outputs": [],
   "source": [
    "# Cargar todas las librerías\n",
    "\n",
    "import pandas as pd\n",
    "import seaborn as sns\n",
    "import matplotlib.pyplot as plt\n",
    "import numpy as np\n",
    "from sklearn.preprocessing import MinMaxScaler\n",
    "from sklearn.model_selection import cross_val_score\n",
    "from sklearn.ensemble import RandomForestRegressor\n",
    "from sklearn.tree import DecisionTreeRegressor\n",
    "from sklearn.linear_model import LinearRegression\n",
    "from sklearn.model_selection import train_test_split"
   ]
  },
  {
   "cell_type": "code",
   "execution_count": 2,
   "metadata": {},
   "outputs": [],
   "source": [
    "# Cargar los datasets\n",
    "\n",
    "df_train = pd.read_csv('/datasets/gold_recovery_train.csv')\n",
    "df_test = pd.read_csv('/datasets/gold_recovery_test.csv')\n",
    "df_full = pd.read_csv('/datasets/gold_recovery_full.csv')"
   ]
  },
  {
   "cell_type": "code",
   "execution_count": 3,
   "metadata": {},
   "outputs": [
    {
     "name": "stdout",
     "output_type": "stream",
     "text": [
      "\n",
      "Train dataset info:\n",
      "<class 'pandas.core.frame.DataFrame'>\n",
      "RangeIndex: 16860 entries, 0 to 16859\n",
      "Data columns (total 87 columns):\n",
      " #   Column                                              Non-Null Count  Dtype  \n",
      "---  ------                                              --------------  -----  \n",
      " 0   date                                                16860 non-null  object \n",
      " 1   final.output.concentrate_ag                         16788 non-null  float64\n",
      " 2   final.output.concentrate_pb                         16788 non-null  float64\n",
      " 3   final.output.concentrate_sol                        16490 non-null  float64\n",
      " 4   final.output.concentrate_au                         16789 non-null  float64\n",
      " 5   final.output.recovery                               15339 non-null  float64\n",
      " 6   final.output.tail_ag                                16794 non-null  float64\n",
      " 7   final.output.tail_pb                                16677 non-null  float64\n",
      " 8   final.output.tail_sol                               16715 non-null  float64\n",
      " 9   final.output.tail_au                                16794 non-null  float64\n",
      " 10  primary_cleaner.input.sulfate                       15553 non-null  float64\n",
      " 11  primary_cleaner.input.depressant                    15598 non-null  float64\n",
      " 12  primary_cleaner.input.feed_size                     16860 non-null  float64\n",
      " 13  primary_cleaner.input.xanthate                      15875 non-null  float64\n",
      " 14  primary_cleaner.output.concentrate_ag               16778 non-null  float64\n",
      " 15  primary_cleaner.output.concentrate_pb               16502 non-null  float64\n",
      " 16  primary_cleaner.output.concentrate_sol              16224 non-null  float64\n",
      " 17  primary_cleaner.output.concentrate_au               16778 non-null  float64\n",
      " 18  primary_cleaner.output.tail_ag                      16777 non-null  float64\n",
      " 19  primary_cleaner.output.tail_pb                      16761 non-null  float64\n",
      " 20  primary_cleaner.output.tail_sol                     16579 non-null  float64\n",
      " 21  primary_cleaner.output.tail_au                      16777 non-null  float64\n",
      " 22  primary_cleaner.state.floatbank8_a_air              16820 non-null  float64\n",
      " 23  primary_cleaner.state.floatbank8_a_level            16827 non-null  float64\n",
      " 24  primary_cleaner.state.floatbank8_b_air              16820 non-null  float64\n",
      " 25  primary_cleaner.state.floatbank8_b_level            16833 non-null  float64\n",
      " 26  primary_cleaner.state.floatbank8_c_air              16822 non-null  float64\n",
      " 27  primary_cleaner.state.floatbank8_c_level            16833 non-null  float64\n",
      " 28  primary_cleaner.state.floatbank8_d_air              16821 non-null  float64\n",
      " 29  primary_cleaner.state.floatbank8_d_level            16833 non-null  float64\n",
      " 30  rougher.calculation.sulfate_to_au_concentrate       16833 non-null  float64\n",
      " 31  rougher.calculation.floatbank10_sulfate_to_au_feed  16833 non-null  float64\n",
      " 32  rougher.calculation.floatbank11_sulfate_to_au_feed  16833 non-null  float64\n",
      " 33  rougher.calculation.au_pb_ratio                     15618 non-null  float64\n",
      " 34  rougher.input.feed_ag                               16778 non-null  float64\n",
      " 35  rougher.input.feed_pb                               16632 non-null  float64\n",
      " 36  rougher.input.feed_rate                             16347 non-null  float64\n",
      " 37  rougher.input.feed_size                             16443 non-null  float64\n",
      " 38  rougher.input.feed_sol                              16568 non-null  float64\n",
      " 39  rougher.input.feed_au                               16777 non-null  float64\n",
      " 40  rougher.input.floatbank10_sulfate                   15816 non-null  float64\n",
      " 41  rougher.input.floatbank10_xanthate                  16514 non-null  float64\n",
      " 42  rougher.input.floatbank11_sulfate                   16237 non-null  float64\n",
      " 43  rougher.input.floatbank11_xanthate                  14956 non-null  float64\n",
      " 44  rougher.output.concentrate_ag                       16778 non-null  float64\n",
      " 45  rougher.output.concentrate_pb                       16778 non-null  float64\n",
      " 46  rougher.output.concentrate_sol                      16698 non-null  float64\n",
      " 47  rougher.output.concentrate_au                       16778 non-null  float64\n",
      " 48  rougher.output.recovery                             14287 non-null  float64\n",
      " 49  rougher.output.tail_ag                              14610 non-null  float64\n",
      " 50  rougher.output.tail_pb                              16778 non-null  float64\n",
      " 51  rougher.output.tail_sol                             14611 non-null  float64\n",
      " 52  rougher.output.tail_au                              14611 non-null  float64\n",
      " 53  rougher.state.floatbank10_a_air                     16807 non-null  float64\n",
      " 54  rougher.state.floatbank10_a_level                   16807 non-null  float64\n",
      " 55  rougher.state.floatbank10_b_air                     16807 non-null  float64\n",
      " 56  rougher.state.floatbank10_b_level                   16807 non-null  float64\n",
      " 57  rougher.state.floatbank10_c_air                     16807 non-null  float64\n",
      " 58  rougher.state.floatbank10_c_level                   16814 non-null  float64\n",
      " 59  rougher.state.floatbank10_d_air                     16802 non-null  float64\n",
      " 60  rougher.state.floatbank10_d_level                   16809 non-null  float64\n",
      " 61  rougher.state.floatbank10_e_air                     16257 non-null  float64\n",
      " 62  rougher.state.floatbank10_e_level                   16809 non-null  float64\n",
      " 63  rougher.state.floatbank10_f_air                     16802 non-null  float64\n",
      " 64  rougher.state.floatbank10_f_level                   16802 non-null  float64\n",
      " 65  secondary_cleaner.output.tail_ag                    16776 non-null  float64\n",
      " 66  secondary_cleaner.output.tail_pb                    16764 non-null  float64\n",
      " 67  secondary_cleaner.output.tail_sol                   14874 non-null  float64\n",
      " 68  secondary_cleaner.output.tail_au                    16778 non-null  float64\n",
      " 69  secondary_cleaner.state.floatbank2_a_air            16497 non-null  float64\n",
      " 70  secondary_cleaner.state.floatbank2_a_level          16751 non-null  float64\n",
      " 71  secondary_cleaner.state.floatbank2_b_air            16705 non-null  float64\n",
      " 72  secondary_cleaner.state.floatbank2_b_level          16748 non-null  float64\n",
      " 73  secondary_cleaner.state.floatbank3_a_air            16763 non-null  float64\n",
      " 74  secondary_cleaner.state.floatbank3_a_level          16747 non-null  float64\n",
      " 75  secondary_cleaner.state.floatbank3_b_air            16752 non-null  float64\n",
      " 76  secondary_cleaner.state.floatbank3_b_level          16750 non-null  float64\n",
      " 77  secondary_cleaner.state.floatbank4_a_air            16731 non-null  float64\n",
      " 78  secondary_cleaner.state.floatbank4_a_level          16747 non-null  float64\n",
      " 79  secondary_cleaner.state.floatbank4_b_air            16768 non-null  float64\n",
      " 80  secondary_cleaner.state.floatbank4_b_level          16767 non-null  float64\n",
      " 81  secondary_cleaner.state.floatbank5_a_air            16775 non-null  float64\n",
      " 82  secondary_cleaner.state.floatbank5_a_level          16775 non-null  float64\n",
      " 83  secondary_cleaner.state.floatbank5_b_air            16775 non-null  float64\n",
      " 84  secondary_cleaner.state.floatbank5_b_level          16776 non-null  float64\n",
      " 85  secondary_cleaner.state.floatbank6_a_air            16757 non-null  float64\n",
      " 86  secondary_cleaner.state.floatbank6_a_level          16775 non-null  float64\n",
      "dtypes: float64(86), object(1)\n",
      "memory usage: 11.2+ MB\n",
      "None\n",
      "\n",
      "Test dataset info:\n",
      "<class 'pandas.core.frame.DataFrame'>\n",
      "RangeIndex: 5856 entries, 0 to 5855\n",
      "Data columns (total 53 columns):\n",
      " #   Column                                      Non-Null Count  Dtype  \n",
      "---  ------                                      --------------  -----  \n",
      " 0   date                                        5856 non-null   object \n",
      " 1   primary_cleaner.input.sulfate               5554 non-null   float64\n",
      " 2   primary_cleaner.input.depressant            5572 non-null   float64\n",
      " 3   primary_cleaner.input.feed_size             5856 non-null   float64\n",
      " 4   primary_cleaner.input.xanthate              5690 non-null   float64\n",
      " 5   primary_cleaner.state.floatbank8_a_air      5840 non-null   float64\n",
      " 6   primary_cleaner.state.floatbank8_a_level    5840 non-null   float64\n",
      " 7   primary_cleaner.state.floatbank8_b_air      5840 non-null   float64\n",
      " 8   primary_cleaner.state.floatbank8_b_level    5840 non-null   float64\n",
      " 9   primary_cleaner.state.floatbank8_c_air      5840 non-null   float64\n",
      " 10  primary_cleaner.state.floatbank8_c_level    5840 non-null   float64\n",
      " 11  primary_cleaner.state.floatbank8_d_air      5840 non-null   float64\n",
      " 12  primary_cleaner.state.floatbank8_d_level    5840 non-null   float64\n",
      " 13  rougher.input.feed_ag                       5840 non-null   float64\n",
      " 14  rougher.input.feed_pb                       5840 non-null   float64\n",
      " 15  rougher.input.feed_rate                     5816 non-null   float64\n",
      " 16  rougher.input.feed_size                     5834 non-null   float64\n",
      " 17  rougher.input.feed_sol                      5789 non-null   float64\n",
      " 18  rougher.input.feed_au                       5840 non-null   float64\n",
      " 19  rougher.input.floatbank10_sulfate           5599 non-null   float64\n",
      " 20  rougher.input.floatbank10_xanthate          5733 non-null   float64\n",
      " 21  rougher.input.floatbank11_sulfate           5801 non-null   float64\n",
      " 22  rougher.input.floatbank11_xanthate          5503 non-null   float64\n",
      " 23  rougher.state.floatbank10_a_air             5839 non-null   float64\n",
      " 24  rougher.state.floatbank10_a_level           5840 non-null   float64\n",
      " 25  rougher.state.floatbank10_b_air             5839 non-null   float64\n",
      " 26  rougher.state.floatbank10_b_level           5840 non-null   float64\n",
      " 27  rougher.state.floatbank10_c_air             5839 non-null   float64\n",
      " 28  rougher.state.floatbank10_c_level           5840 non-null   float64\n",
      " 29  rougher.state.floatbank10_d_air             5839 non-null   float64\n",
      " 30  rougher.state.floatbank10_d_level           5840 non-null   float64\n",
      " 31  rougher.state.floatbank10_e_air             5839 non-null   float64\n",
      " 32  rougher.state.floatbank10_e_level           5840 non-null   float64\n",
      " 33  rougher.state.floatbank10_f_air             5839 non-null   float64\n",
      " 34  rougher.state.floatbank10_f_level           5840 non-null   float64\n",
      " 35  secondary_cleaner.state.floatbank2_a_air    5836 non-null   float64\n",
      " 36  secondary_cleaner.state.floatbank2_a_level  5840 non-null   float64\n",
      " 37  secondary_cleaner.state.floatbank2_b_air    5833 non-null   float64\n",
      " 38  secondary_cleaner.state.floatbank2_b_level  5840 non-null   float64\n",
      " 39  secondary_cleaner.state.floatbank3_a_air    5822 non-null   float64\n",
      " 40  secondary_cleaner.state.floatbank3_a_level  5840 non-null   float64\n",
      " 41  secondary_cleaner.state.floatbank3_b_air    5840 non-null   float64\n",
      " 42  secondary_cleaner.state.floatbank3_b_level  5840 non-null   float64\n",
      " 43  secondary_cleaner.state.floatbank4_a_air    5840 non-null   float64\n",
      " 44  secondary_cleaner.state.floatbank4_a_level  5840 non-null   float64\n",
      " 45  secondary_cleaner.state.floatbank4_b_air    5840 non-null   float64\n",
      " 46  secondary_cleaner.state.floatbank4_b_level  5840 non-null   float64\n",
      " 47  secondary_cleaner.state.floatbank5_a_air    5840 non-null   float64\n",
      " 48  secondary_cleaner.state.floatbank5_a_level  5840 non-null   float64\n",
      " 49  secondary_cleaner.state.floatbank5_b_air    5840 non-null   float64\n",
      " 50  secondary_cleaner.state.floatbank5_b_level  5840 non-null   float64\n",
      " 51  secondary_cleaner.state.floatbank6_a_air    5840 non-null   float64\n",
      " 52  secondary_cleaner.state.floatbank6_a_level  5840 non-null   float64\n",
      "dtypes: float64(52), object(1)\n",
      "memory usage: 2.4+ MB\n",
      "None\n",
      "\n",
      "Full dataset info:\n",
      "<class 'pandas.core.frame.DataFrame'>\n",
      "RangeIndex: 22716 entries, 0 to 22715\n",
      "Data columns (total 87 columns):\n",
      " #   Column                                              Non-Null Count  Dtype  \n",
      "---  ------                                              --------------  -----  \n",
      " 0   date                                                22716 non-null  object \n",
      " 1   final.output.concentrate_ag                         22627 non-null  float64\n",
      " 2   final.output.concentrate_pb                         22629 non-null  float64\n",
      " 3   final.output.concentrate_sol                        22331 non-null  float64\n",
      " 4   final.output.concentrate_au                         22630 non-null  float64\n",
      " 5   final.output.recovery                               20753 non-null  float64\n",
      " 6   final.output.tail_ag                                22633 non-null  float64\n",
      " 7   final.output.tail_pb                                22516 non-null  float64\n",
      " 8   final.output.tail_sol                               22445 non-null  float64\n",
      " 9   final.output.tail_au                                22635 non-null  float64\n",
      " 10  primary_cleaner.input.sulfate                       21107 non-null  float64\n",
      " 11  primary_cleaner.input.depressant                    21170 non-null  float64\n",
      " 12  primary_cleaner.input.feed_size                     22716 non-null  float64\n",
      " 13  primary_cleaner.input.xanthate                      21565 non-null  float64\n",
      " 14  primary_cleaner.output.concentrate_ag               22618 non-null  float64\n",
      " 15  primary_cleaner.output.concentrate_pb               22268 non-null  float64\n",
      " 16  primary_cleaner.output.concentrate_sol              21918 non-null  float64\n",
      " 17  primary_cleaner.output.concentrate_au               22618 non-null  float64\n",
      " 18  primary_cleaner.output.tail_ag                      22614 non-null  float64\n",
      " 19  primary_cleaner.output.tail_pb                      22594 non-null  float64\n",
      " 20  primary_cleaner.output.tail_sol                     22365 non-null  float64\n",
      " 21  primary_cleaner.output.tail_au                      22617 non-null  float64\n",
      " 22  primary_cleaner.state.floatbank8_a_air              22660 non-null  float64\n",
      " 23  primary_cleaner.state.floatbank8_a_level            22667 non-null  float64\n",
      " 24  primary_cleaner.state.floatbank8_b_air              22660 non-null  float64\n",
      " 25  primary_cleaner.state.floatbank8_b_level            22673 non-null  float64\n",
      " 26  primary_cleaner.state.floatbank8_c_air              22662 non-null  float64\n",
      " 27  primary_cleaner.state.floatbank8_c_level            22673 non-null  float64\n",
      " 28  primary_cleaner.state.floatbank8_d_air              22661 non-null  float64\n",
      " 29  primary_cleaner.state.floatbank8_d_level            22673 non-null  float64\n",
      " 30  rougher.calculation.sulfate_to_au_concentrate       22672 non-null  float64\n",
      " 31  rougher.calculation.floatbank10_sulfate_to_au_feed  22672 non-null  float64\n",
      " 32  rougher.calculation.floatbank11_sulfate_to_au_feed  22672 non-null  float64\n",
      " 33  rougher.calculation.au_pb_ratio                     21089 non-null  float64\n",
      " 34  rougher.input.feed_ag                               22618 non-null  float64\n",
      " 35  rougher.input.feed_pb                               22472 non-null  float64\n",
      " 36  rougher.input.feed_rate                             22163 non-null  float64\n",
      " 37  rougher.input.feed_size                             22277 non-null  float64\n",
      " 38  rougher.input.feed_sol                              22357 non-null  float64\n",
      " 39  rougher.input.feed_au                               22617 non-null  float64\n",
      " 40  rougher.input.floatbank10_sulfate                   21415 non-null  float64\n",
      " 41  rougher.input.floatbank10_xanthate                  22247 non-null  float64\n",
      " 42  rougher.input.floatbank11_sulfate                   22038 non-null  float64\n",
      " 43  rougher.input.floatbank11_xanthate                  20459 non-null  float64\n",
      " 44  rougher.output.concentrate_ag                       22618 non-null  float64\n",
      " 45  rougher.output.concentrate_pb                       22618 non-null  float64\n",
      " 46  rougher.output.concentrate_sol                      22526 non-null  float64\n",
      " 47  rougher.output.concentrate_au                       22618 non-null  float64\n",
      " 48  rougher.output.recovery                             19597 non-null  float64\n",
      " 49  rougher.output.tail_ag                              19979 non-null  float64\n",
      " 50  rougher.output.tail_pb                              22618 non-null  float64\n",
      " 51  rougher.output.tail_sol                             19980 non-null  float64\n",
      " 52  rougher.output.tail_au                              19980 non-null  float64\n",
      " 53  rougher.state.floatbank10_a_air                     22646 non-null  float64\n",
      " 54  rougher.state.floatbank10_a_level                   22647 non-null  float64\n",
      " 55  rougher.state.floatbank10_b_air                     22646 non-null  float64\n",
      " 56  rougher.state.floatbank10_b_level                   22647 non-null  float64\n",
      " 57  rougher.state.floatbank10_c_air                     22646 non-null  float64\n",
      " 58  rougher.state.floatbank10_c_level                   22654 non-null  float64\n",
      " 59  rougher.state.floatbank10_d_air                     22641 non-null  float64\n",
      " 60  rougher.state.floatbank10_d_level                   22649 non-null  float64\n",
      " 61  rougher.state.floatbank10_e_air                     22096 non-null  float64\n",
      " 62  rougher.state.floatbank10_e_level                   22649 non-null  float64\n",
      " 63  rougher.state.floatbank10_f_air                     22641 non-null  float64\n",
      " 64  rougher.state.floatbank10_f_level                   22642 non-null  float64\n",
      " 65  secondary_cleaner.output.tail_ag                    22616 non-null  float64\n",
      " 66  secondary_cleaner.output.tail_pb                    22600 non-null  float64\n",
      " 67  secondary_cleaner.output.tail_sol                   20501 non-null  float64\n",
      " 68  secondary_cleaner.output.tail_au                    22618 non-null  float64\n",
      " 69  secondary_cleaner.state.floatbank2_a_air            22333 non-null  float64\n",
      " 70  secondary_cleaner.state.floatbank2_a_level          22591 non-null  float64\n",
      " 71  secondary_cleaner.state.floatbank2_b_air            22538 non-null  float64\n",
      " 72  secondary_cleaner.state.floatbank2_b_level          22588 non-null  float64\n",
      " 73  secondary_cleaner.state.floatbank3_a_air            22585 non-null  float64\n",
      " 74  secondary_cleaner.state.floatbank3_a_level          22587 non-null  float64\n",
      " 75  secondary_cleaner.state.floatbank3_b_air            22592 non-null  float64\n",
      " 76  secondary_cleaner.state.floatbank3_b_level          22590 non-null  float64\n",
      " 77  secondary_cleaner.state.floatbank4_a_air            22571 non-null  float64\n",
      " 78  secondary_cleaner.state.floatbank4_a_level          22587 non-null  float64\n",
      " 79  secondary_cleaner.state.floatbank4_b_air            22608 non-null  float64\n",
      " 80  secondary_cleaner.state.floatbank4_b_level          22607 non-null  float64\n",
      " 81  secondary_cleaner.state.floatbank5_a_air            22615 non-null  float64\n",
      " 82  secondary_cleaner.state.floatbank5_a_level          22615 non-null  float64\n",
      " 83  secondary_cleaner.state.floatbank5_b_air            22615 non-null  float64\n",
      " 84  secondary_cleaner.state.floatbank5_b_level          22616 non-null  float64\n",
      " 85  secondary_cleaner.state.floatbank6_a_air            22597 non-null  float64\n",
      " 86  secondary_cleaner.state.floatbank6_a_level          22615 non-null  float64\n",
      "dtypes: float64(86), object(1)\n",
      "memory usage: 15.1+ MB\n",
      "None\n"
     ]
    }
   ],
   "source": [
    "# Información general de los datasets\n",
    "print(\"\\nTrain dataset info:\")\n",
    "print(df_train.info())\n",
    "\n",
    "print(\"\\nTest dataset info:\")\n",
    "print(df_test.info())\n",
    "\n",
    "print(\"\\nFull dataset info:\")\n",
    "print(df_full.info())"
   ]
  },
  {
   "cell_type": "code",
   "execution_count": 4,
   "metadata": {},
   "outputs": [
    {
     "name": "stdout",
     "output_type": "stream",
     "text": [
      "Train dataset:\n",
      "                  date  final.output.concentrate_ag  \\\n",
      "0  2016-01-15 00:00:00                     6.055403   \n",
      "1  2016-01-15 01:00:00                     6.029369   \n",
      "2  2016-01-15 02:00:00                     6.055926   \n",
      "3  2016-01-15 03:00:00                     6.047977   \n",
      "4  2016-01-15 04:00:00                     6.148599   \n",
      "\n",
      "   final.output.concentrate_pb  final.output.concentrate_sol  \\\n",
      "0                     9.889648                      5.507324   \n",
      "1                     9.968944                      5.257781   \n",
      "2                    10.213995                      5.383759   \n",
      "3                     9.977019                      4.858634   \n",
      "4                    10.142511                      4.939416   \n",
      "\n",
      "   final.output.concentrate_au  final.output.recovery  final.output.tail_ag  \\\n",
      "0                    42.192020              70.541216             10.411962   \n",
      "1                    42.701629              69.266198             10.462676   \n",
      "2                    42.657501              68.116445             10.507046   \n",
      "3                    42.689819              68.347543             10.422762   \n",
      "4                    42.774141              66.927016             10.360302   \n",
      "\n",
      "   final.output.tail_pb  final.output.tail_sol  final.output.tail_au  ...  \\\n",
      "0              0.895447              16.904297              2.143149  ...   \n",
      "1              0.927452              16.634514              2.224930  ...   \n",
      "2              0.953716              16.208849              2.257889  ...   \n",
      "3              0.883763              16.532835              2.146849  ...   \n",
      "4              0.792826              16.525686              2.055292  ...   \n",
      "\n",
      "   secondary_cleaner.state.floatbank4_a_air  \\\n",
      "0                                 14.016835   \n",
      "1                                 13.992281   \n",
      "2                                 14.015015   \n",
      "3                                 14.036510   \n",
      "4                                 14.027298   \n",
      "\n",
      "   secondary_cleaner.state.floatbank4_a_level  \\\n",
      "0                                 -502.488007   \n",
      "1                                 -505.503262   \n",
      "2                                 -502.520901   \n",
      "3                                 -500.857308   \n",
      "4                                 -499.838632   \n",
      "\n",
      "   secondary_cleaner.state.floatbank4_b_air  \\\n",
      "0                                 12.099931   \n",
      "1                                 11.950531   \n",
      "2                                 11.912783   \n",
      "3                                 11.999550   \n",
      "4                                 11.953070   \n",
      "\n",
      "   secondary_cleaner.state.floatbank4_b_level  \\\n",
      "0                                 -504.715942   \n",
      "1                                 -501.331529   \n",
      "2                                 -501.133383   \n",
      "3                                 -501.193686   \n",
      "4                                 -501.053894   \n",
      "\n",
      "   secondary_cleaner.state.floatbank5_a_air  \\\n",
      "0                                  9.925633   \n",
      "1                                 10.039245   \n",
      "2                                 10.070913   \n",
      "3                                  9.970366   \n",
      "4                                  9.925709   \n",
      "\n",
      "   secondary_cleaner.state.floatbank5_a_level  \\\n",
      "0                                 -498.310211   \n",
      "1                                 -500.169983   \n",
      "2                                 -500.129135   \n",
      "3                                 -499.201640   \n",
      "4                                 -501.686727   \n",
      "\n",
      "   secondary_cleaner.state.floatbank5_b_air  \\\n",
      "0                                  8.079666   \n",
      "1                                  7.984757   \n",
      "2                                  8.013877   \n",
      "3                                  7.977324   \n",
      "4                                  7.894242   \n",
      "\n",
      "   secondary_cleaner.state.floatbank5_b_level  \\\n",
      "0                                 -500.470978   \n",
      "1                                 -500.582168   \n",
      "2                                 -500.517572   \n",
      "3                                 -500.255908   \n",
      "4                                 -500.356035   \n",
      "\n",
      "   secondary_cleaner.state.floatbank6_a_air  \\\n",
      "0                                 14.151341   \n",
      "1                                 13.998353   \n",
      "2                                 14.028663   \n",
      "3                                 14.005551   \n",
      "4                                 13.996647   \n",
      "\n",
      "   secondary_cleaner.state.floatbank6_a_level  \n",
      "0                                 -605.841980  \n",
      "1                                 -599.787184  \n",
      "2                                 -601.427363  \n",
      "3                                 -599.996129  \n",
      "4                                 -601.496691  \n",
      "\n",
      "[5 rows x 87 columns]\n",
      "\n",
      "Test dataset:\n",
      "                  date  primary_cleaner.input.sulfate  \\\n",
      "0  2016-09-01 00:59:59                     210.800909   \n",
      "1  2016-09-01 01:59:59                     215.392455   \n",
      "2  2016-09-01 02:59:59                     215.259946   \n",
      "3  2016-09-01 03:59:59                     215.336236   \n",
      "4  2016-09-01 04:59:59                     199.099327   \n",
      "\n",
      "   primary_cleaner.input.depressant  primary_cleaner.input.feed_size  \\\n",
      "0                         14.993118                         8.080000   \n",
      "1                         14.987471                         8.080000   \n",
      "2                         12.884934                         7.786667   \n",
      "3                         12.006805                         7.640000   \n",
      "4                         10.682530                         7.530000   \n",
      "\n",
      "   primary_cleaner.input.xanthate  primary_cleaner.state.floatbank8_a_air  \\\n",
      "0                        1.005021                             1398.981301   \n",
      "1                        0.990469                             1398.777912   \n",
      "2                        0.996043                             1398.493666   \n",
      "3                        0.863514                             1399.618111   \n",
      "4                        0.805575                             1401.268123   \n",
      "\n",
      "   primary_cleaner.state.floatbank8_a_level  \\\n",
      "0                               -500.225577   \n",
      "1                               -500.057435   \n",
      "2                               -500.868360   \n",
      "3                               -498.863574   \n",
      "4                               -500.808305   \n",
      "\n",
      "   primary_cleaner.state.floatbank8_b_air  \\\n",
      "0                             1399.144926   \n",
      "1                             1398.055362   \n",
      "2                             1398.860436   \n",
      "3                             1397.440120   \n",
      "4                             1398.128818   \n",
      "\n",
      "   primary_cleaner.state.floatbank8_b_level  \\\n",
      "0                               -499.919735   \n",
      "1                               -499.778182   \n",
      "2                               -499.764529   \n",
      "3                               -499.211024   \n",
      "4                               -499.504543   \n",
      "\n",
      "   primary_cleaner.state.floatbank8_c_air  ...  \\\n",
      "0                             1400.102998  ...   \n",
      "1                             1396.151033  ...   \n",
      "2                             1398.075709  ...   \n",
      "3                             1400.129303  ...   \n",
      "4                             1402.172226  ...   \n",
      "\n",
      "   secondary_cleaner.state.floatbank4_a_air  \\\n",
      "0                                 12.023554   \n",
      "1                                 12.058140   \n",
      "2                                 11.962366   \n",
      "3                                 12.033091   \n",
      "4                                 12.025367   \n",
      "\n",
      "   secondary_cleaner.state.floatbank4_a_level  \\\n",
      "0                                 -497.795834   \n",
      "1                                 -498.695773   \n",
      "2                                 -498.767484   \n",
      "3                                 -498.350935   \n",
      "4                                 -500.786497   \n",
      "\n",
      "   secondary_cleaner.state.floatbank4_b_air  \\\n",
      "0                                  8.016656   \n",
      "1                                  8.130979   \n",
      "2                                  8.096893   \n",
      "3                                  8.074946   \n",
      "4                                  8.054678   \n",
      "\n",
      "   secondary_cleaner.state.floatbank4_b_level  \\\n",
      "0                                 -501.289139   \n",
      "1                                 -499.634209   \n",
      "2                                 -500.827423   \n",
      "3                                 -499.474407   \n",
      "4                                 -500.397500   \n",
      "\n",
      "   secondary_cleaner.state.floatbank5_a_air  \\\n",
      "0                                  7.946562   \n",
      "1                                  7.958270   \n",
      "2                                  8.071056   \n",
      "3                                  7.897085   \n",
      "4                                  8.107890   \n",
      "\n",
      "   secondary_cleaner.state.floatbank5_a_level  \\\n",
      "0                                 -432.317850   \n",
      "1                                 -525.839648   \n",
      "2                                 -500.801673   \n",
      "3                                 -500.868509   \n",
      "4                                 -509.526725   \n",
      "\n",
      "   secondary_cleaner.state.floatbank5_b_air  \\\n",
      "0                                  4.872511   \n",
      "1                                  4.878850   \n",
      "2                                  4.905125   \n",
      "3                                  4.931400   \n",
      "4                                  4.957674   \n",
      "\n",
      "   secondary_cleaner.state.floatbank5_b_level  \\\n",
      "0                                 -500.037437   \n",
      "1                                 -500.162375   \n",
      "2                                 -499.828510   \n",
      "3                                 -499.963623   \n",
      "4                                 -500.360026   \n",
      "\n",
      "   secondary_cleaner.state.floatbank6_a_air  \\\n",
      "0                                 26.705889   \n",
      "1                                 25.019940   \n",
      "2                                 24.994862   \n",
      "3                                 24.948919   \n",
      "4                                 25.003331   \n",
      "\n",
      "   secondary_cleaner.state.floatbank6_a_level  \n",
      "0                                 -499.709414  \n",
      "1                                 -499.819438  \n",
      "2                                 -500.622559  \n",
      "3                                 -498.709987  \n",
      "4                                 -500.856333  \n",
      "\n",
      "[5 rows x 53 columns]\n",
      "\n",
      "Full dataset:\n",
      "                  date  final.output.concentrate_ag  \\\n",
      "0  2016-01-15 00:00:00                     6.055403   \n",
      "1  2016-01-15 01:00:00                     6.029369   \n",
      "2  2016-01-15 02:00:00                     6.055926   \n",
      "3  2016-01-15 03:00:00                     6.047977   \n",
      "4  2016-01-15 04:00:00                     6.148599   \n",
      "\n",
      "   final.output.concentrate_pb  final.output.concentrate_sol  \\\n",
      "0                     9.889648                      5.507324   \n",
      "1                     9.968944                      5.257781   \n",
      "2                    10.213995                      5.383759   \n",
      "3                     9.977019                      4.858634   \n",
      "4                    10.142511                      4.939416   \n",
      "\n",
      "   final.output.concentrate_au  final.output.recovery  final.output.tail_ag  \\\n",
      "0                    42.192020              70.541216             10.411962   \n",
      "1                    42.701629              69.266198             10.462676   \n",
      "2                    42.657501              68.116445             10.507046   \n",
      "3                    42.689819              68.347543             10.422762   \n",
      "4                    42.774141              66.927016             10.360302   \n",
      "\n",
      "   final.output.tail_pb  final.output.tail_sol  final.output.tail_au  ...  \\\n",
      "0              0.895447              16.904297              2.143149  ...   \n",
      "1              0.927452              16.634514              2.224930  ...   \n",
      "2              0.953716              16.208849              2.257889  ...   \n",
      "3              0.883763              16.532835              2.146849  ...   \n",
      "4              0.792826              16.525686              2.055292  ...   \n",
      "\n",
      "   secondary_cleaner.state.floatbank4_a_air  \\\n",
      "0                                 14.016835   \n",
      "1                                 13.992281   \n",
      "2                                 14.015015   \n",
      "3                                 14.036510   \n",
      "4                                 14.027298   \n",
      "\n",
      "   secondary_cleaner.state.floatbank4_a_level  \\\n",
      "0                                 -502.488007   \n",
      "1                                 -505.503262   \n",
      "2                                 -502.520901   \n",
      "3                                 -500.857308   \n",
      "4                                 -499.838632   \n",
      "\n",
      "   secondary_cleaner.state.floatbank4_b_air  \\\n",
      "0                                 12.099931   \n",
      "1                                 11.950531   \n",
      "2                                 11.912783   \n",
      "3                                 11.999550   \n",
      "4                                 11.953070   \n",
      "\n",
      "   secondary_cleaner.state.floatbank4_b_level  \\\n",
      "0                                 -504.715942   \n",
      "1                                 -501.331529   \n",
      "2                                 -501.133383   \n",
      "3                                 -501.193686   \n",
      "4                                 -501.053894   \n",
      "\n",
      "   secondary_cleaner.state.floatbank5_a_air  \\\n",
      "0                                  9.925633   \n",
      "1                                 10.039245   \n",
      "2                                 10.070913   \n",
      "3                                  9.970366   \n",
      "4                                  9.925709   \n",
      "\n",
      "   secondary_cleaner.state.floatbank5_a_level  \\\n",
      "0                                 -498.310211   \n",
      "1                                 -500.169983   \n",
      "2                                 -500.129135   \n",
      "3                                 -499.201640   \n",
      "4                                 -501.686727   \n",
      "\n",
      "   secondary_cleaner.state.floatbank5_b_air  \\\n",
      "0                                  8.079666   \n",
      "1                                  7.984757   \n",
      "2                                  8.013877   \n",
      "3                                  7.977324   \n",
      "4                                  7.894242   \n",
      "\n",
      "   secondary_cleaner.state.floatbank5_b_level  \\\n",
      "0                                 -500.470978   \n",
      "1                                 -500.582168   \n",
      "2                                 -500.517572   \n",
      "3                                 -500.255908   \n",
      "4                                 -500.356035   \n",
      "\n",
      "   secondary_cleaner.state.floatbank6_a_air  \\\n",
      "0                                 14.151341   \n",
      "1                                 13.998353   \n",
      "2                                 14.028663   \n",
      "3                                 14.005551   \n",
      "4                                 13.996647   \n",
      "\n",
      "   secondary_cleaner.state.floatbank6_a_level  \n",
      "0                                 -605.841980  \n",
      "1                                 -599.787184  \n",
      "2                                 -601.427363  \n",
      "3                                 -599.996129  \n",
      "4                                 -601.496691  \n",
      "\n",
      "[5 rows x 87 columns]\n"
     ]
    }
   ],
   "source": [
    "# Mostrar las primeras filas de cada dataset\n",
    "print(\"Train dataset:\")\n",
    "print(df_train.head())\n",
    "\n",
    "print(\"\\nTest dataset:\")\n",
    "print(df_test.head())\n",
    "\n",
    "print(\"\\nFull dataset:\")\n",
    "print(df_full.head())"
   ]
  },
  {
   "cell_type": "code",
   "execution_count": 5,
   "metadata": {},
   "outputs": [
    {
     "name": "stdout",
     "output_type": "stream",
     "text": [
      "\n",
      "Train dataset - Descripción:\n",
      "       final.output.concentrate_ag  final.output.concentrate_pb  \\\n",
      "count                 16788.000000                 16788.000000   \n",
      "mean                      4.716907                     9.113559   \n",
      "std                       2.096718                     3.389495   \n",
      "min                       0.000000                     0.000000   \n",
      "25%                       3.971262                     8.825748   \n",
      "50%                       4.869346                    10.065316   \n",
      "75%                       5.821176                    11.054809   \n",
      "max                      16.001945                    17.031899   \n",
      "\n",
      "       final.output.concentrate_sol  final.output.concentrate_au  \\\n",
      "count                  16490.000000                 16789.000000   \n",
      "mean                       8.301123                    39.467217   \n",
      "std                        3.825760                    13.917227   \n",
      "min                        0.000000                     0.000000   \n",
      "25%                        6.939185                    42.055722   \n",
      "50%                        8.557228                    44.498874   \n",
      "75%                       10.289741                    45.976222   \n",
      "max                       18.124851                    53.611374   \n",
      "\n",
      "       final.output.recovery  final.output.tail_ag  final.output.tail_pb  \\\n",
      "count           15339.000000          16794.000000          16677.000000   \n",
      "mean               67.213166              8.757048              2.360327   \n",
      "std                11.960446              3.634103              1.215576   \n",
      "min                 0.000000              0.000000              0.000000   \n",
      "25%                62.625685              7.610544              1.641604   \n",
      "50%                67.644601              9.220393              2.453690   \n",
      "75%                72.824595             10.971110              3.192404   \n",
      "max               100.000000             19.552149              6.086532   \n",
      "\n",
      "       final.output.tail_sol  final.output.tail_au  \\\n",
      "count           16715.000000          16794.000000   \n",
      "mean                9.303932              2.687512   \n",
      "std                 4.263208              1.272757   \n",
      "min                 0.000000              0.000000   \n",
      "25%                 7.870275              2.172953   \n",
      "50%                10.021968              2.781132   \n",
      "75%                11.648573              3.416936   \n",
      "max                22.317730              9.789625   \n",
      "\n",
      "       primary_cleaner.input.sulfate  ...  \\\n",
      "count                   15553.000000  ...   \n",
      "mean                      129.479789  ...   \n",
      "std                        45.386931  ...   \n",
      "min                         0.000003  ...   \n",
      "25%                       103.064021  ...   \n",
      "50%                       131.783108  ...   \n",
      "75%                       159.539839  ...   \n",
      "max                       251.999948  ...   \n",
      "\n",
      "       secondary_cleaner.state.floatbank4_a_air  \\\n",
      "count                              16731.000000   \n",
      "mean                                  19.101874   \n",
      "std                                    6.883163   \n",
      "min                                    0.000000   \n",
      "25%                                   14.508299   \n",
      "50%                                   19.986958   \n",
      "75%                                   24.983961   \n",
      "max                                   60.000000   \n",
      "\n",
      "       secondary_cleaner.state.floatbank4_a_level  \\\n",
      "count                                16747.000000   \n",
      "mean                                  -494.164481   \n",
      "std                                     84.803334   \n",
      "min                                   -799.920713   \n",
      "25%                                   -500.837689   \n",
      "50%                                   -499.778379   \n",
      "75%                                   -494.648754   \n",
      "max                                   -127.692333   \n",
      "\n",
      "       secondary_cleaner.state.floatbank4_b_air  \\\n",
      "count                              16768.000000   \n",
      "mean                                  14.778164   \n",
      "std                                    5.999149   \n",
      "min                                    0.000000   \n",
      "25%                                   10.741388   \n",
      "50%                                   14.943933   \n",
      "75%                                   20.023751   \n",
      "max                                   28.003828   \n",
      "\n",
      "       secondary_cleaner.state.floatbank4_b_level  \\\n",
      "count                                16767.000000   \n",
      "mean                                  -476.600082   \n",
      "std                                     89.381172   \n",
      "min                                   -800.021781   \n",
      "25%                                   -500.269182   \n",
      "50%                                   -499.593286   \n",
      "75%                                   -400.137948   \n",
      "max                                    -71.472472   \n",
      "\n",
      "       secondary_cleaner.state.floatbank5_a_air  \\\n",
      "count                              16775.000000   \n",
      "mean                                  15.779488   \n",
      "std                                    6.834703   \n",
      "min                                   -0.423260   \n",
      "25%                                   10.977713   \n",
      "50%                                   15.998340   \n",
      "75%                                   20.000701   \n",
      "max                                   63.116298   \n",
      "\n",
      "       secondary_cleaner.state.floatbank5_a_level  \\\n",
      "count                                16775.000000   \n",
      "mean                                  -500.230146   \n",
      "std                                     76.983542   \n",
      "min                                   -799.741097   \n",
      "25%                                   -500.530594   \n",
      "50%                                   -499.784231   \n",
      "75%                                   -496.531781   \n",
      "max                                   -275.073125   \n",
      "\n",
      "       secondary_cleaner.state.floatbank5_b_air  \\\n",
      "count                              16775.000000   \n",
      "mean                                  12.377241   \n",
      "std                                    6.219989   \n",
      "min                                    0.427084   \n",
      "25%                                    8.925586   \n",
      "50%                                   11.092839   \n",
      "75%                                   15.979467   \n",
      "max                                   39.846228   \n",
      "\n",
      "       secondary_cleaner.state.floatbank5_b_level  \\\n",
      "count                                16776.000000   \n",
      "mean                                  -498.956257   \n",
      "std                                     82.146207   \n",
      "min                                   -800.258209   \n",
      "25%                                   -500.147603   \n",
      "50%                                   -499.933330   \n",
      "75%                                   -498.418000   \n",
      "max                                   -120.190931   \n",
      "\n",
      "       secondary_cleaner.state.floatbank6_a_air  \\\n",
      "count                              16757.000000   \n",
      "mean                                  18.429208   \n",
      "std                                    6.958294   \n",
      "min                                    0.024270   \n",
      "25%                                   13.977626   \n",
      "50%                                   18.034960   \n",
      "75%                                   24.984992   \n",
      "max                                   54.876806   \n",
      "\n",
      "       secondary_cleaner.state.floatbank6_a_level  \n",
      "count                                16775.000000  \n",
      "mean                                  -521.801826  \n",
      "std                                     77.170888  \n",
      "min                                   -810.473526  \n",
      "25%                                   -501.080595  \n",
      "50%                                   -500.109898  \n",
      "75%                                   -499.565540  \n",
      "max                                    -39.784927  \n",
      "\n",
      "[8 rows x 86 columns]\n",
      "\n",
      "Test dataset - Descripción:\n",
      "       primary_cleaner.input.sulfate  primary_cleaner.input.depressant  \\\n",
      "count                    5554.000000                       5572.000000   \n",
      "mean                      170.515243                          8.482873   \n",
      "std                        49.608602                          3.353105   \n",
      "min                         0.000103                          0.000031   \n",
      "25%                       143.340022                          6.411500   \n",
      "50%                       176.103893                          8.023252   \n",
      "75%                       207.240761                         10.017725   \n",
      "max                       274.409626                         40.024582   \n",
      "\n",
      "       primary_cleaner.input.feed_size  primary_cleaner.input.xanthate  \\\n",
      "count                      5856.000000                     5690.000000   \n",
      "mean                          7.264651                        1.321420   \n",
      "std                           0.611526                        0.693246   \n",
      "min                           5.650000                        0.000003   \n",
      "25%                           6.885625                        0.888769   \n",
      "50%                           7.259333                        1.183362   \n",
      "75%                           7.650000                        1.763797   \n",
      "max                          15.500000                        5.433169   \n",
      "\n",
      "       primary_cleaner.state.floatbank8_a_air  \\\n",
      "count                             5840.000000   \n",
      "mean                              1481.990241   \n",
      "std                                310.453166   \n",
      "min                                  0.000000   \n",
      "25%                               1497.190681   \n",
      "50%                               1554.659783   \n",
      "75%                               1601.681656   \n",
      "max                               2212.432090   \n",
      "\n",
      "       primary_cleaner.state.floatbank8_a_level  \\\n",
      "count                               5840.000000   \n",
      "mean                                -509.057796   \n",
      "std                                   61.339256   \n",
      "min                                 -799.773788   \n",
      "25%                                 -500.455211   \n",
      "50%                                 -499.997402   \n",
      "75%                                 -499.575313   \n",
      "max                                  -57.195404   \n",
      "\n",
      "       primary_cleaner.state.floatbank8_b_air  \\\n",
      "count                             5840.000000   \n",
      "mean                              1486.908670   \n",
      "std                                313.224286   \n",
      "min                                  0.000000   \n",
      "25%                               1497.150234   \n",
      "50%                               1553.268084   \n",
      "75%                               1601.784707   \n",
      "max                               1975.147923   \n",
      "\n",
      "       primary_cleaner.state.floatbank8_b_level  \\\n",
      "count                               5840.000000   \n",
      "mean                                -511.743956   \n",
      "std                                   67.139074   \n",
      "min                                 -800.029078   \n",
      "25%                                 -500.936639   \n",
      "50%                                 -500.066588   \n",
      "75%                                 -499.323361   \n",
      "max                                 -142.527229   \n",
      "\n",
      "       primary_cleaner.state.floatbank8_c_air  \\\n",
      "count                             5840.000000   \n",
      "mean                              1468.495216   \n",
      "std                                309.980748   \n",
      "min                                  0.000000   \n",
      "25%                               1437.050321   \n",
      "50%                               1546.160672   \n",
      "75%                               1600.785573   \n",
      "max                               1715.053773   \n",
      "\n",
      "       primary_cleaner.state.floatbank8_c_level  ...  \\\n",
      "count                               5840.000000  ...   \n",
      "mean                                -509.741212  ...   \n",
      "std                                   62.671873  ...   \n",
      "min                                 -799.995127  ...   \n",
      "25%                                 -501.300441  ...   \n",
      "50%                                 -500.079537  ...   \n",
      "75%                                 -499.009545  ...   \n",
      "max                                 -150.937035  ...   \n",
      "\n",
      "       secondary_cleaner.state.floatbank4_a_air  \\\n",
      "count                               5840.000000   \n",
      "mean                                  15.636031   \n",
      "std                                    4.660835   \n",
      "min                                    0.000000   \n",
      "25%                                   12.057838   \n",
      "50%                                   17.001867   \n",
      "75%                                   18.030985   \n",
      "max                                   30.051797   \n",
      "\n",
      "       secondary_cleaner.state.floatbank4_a_level  \\\n",
      "count                                 5840.000000   \n",
      "mean                                  -516.266074   \n",
      "std                                     62.756748   \n",
      "min                                   -799.798523   \n",
      "25%                                   -501.054741   \n",
      "50%                                   -500.160145   \n",
      "75%                                   -499.441529   \n",
      "max                                   -401.565212   \n",
      "\n",
      "       secondary_cleaner.state.floatbank4_b_air  \\\n",
      "count                               5840.000000   \n",
      "mean                                  13.145702   \n",
      "std                                    4.304086   \n",
      "min                                    0.000000   \n",
      "25%                                   11.880119   \n",
      "50%                                   14.952102   \n",
      "75%                                   15.940011   \n",
      "max                                   31.269706   \n",
      "\n",
      "       secondary_cleaner.state.floatbank4_b_level  \\\n",
      "count                                 5840.000000   \n",
      "mean                                  -476.338907   \n",
      "std                                    105.549424   \n",
      "min                                   -800.836914   \n",
      "25%                                   -500.419113   \n",
      "50%                                   -499.644328   \n",
      "75%                                   -401.523664   \n",
      "max                                     -6.506986   \n",
      "\n",
      "       secondary_cleaner.state.floatbank5_a_air  \\\n",
      "count                               5840.000000   \n",
      "mean                                  12.308967   \n",
      "std                                    3.762827   \n",
      "min                                   -0.223393   \n",
      "25%                                   10.123459   \n",
      "50%                                   12.062877   \n",
      "75%                                   15.017881   \n",
      "max                                   25.258848   \n",
      "\n",
      "       secondary_cleaner.state.floatbank5_a_level  \\\n",
      "count                                 5840.000000   \n",
      "mean                                  -512.208126   \n",
      "std                                     58.864651   \n",
      "min                                   -799.661076   \n",
      "25%                                   -500.879383   \n",
      "50%                                   -500.047621   \n",
      "75%                                   -499.297033   \n",
      "max                                   -244.483566   \n",
      "\n",
      "       secondary_cleaner.state.floatbank5_b_air  \\\n",
      "count                               5840.000000   \n",
      "mean                                   9.470986   \n",
      "std                                    3.312471   \n",
      "min                                    0.528083   \n",
      "25%                                    7.991208   \n",
      "50%                                    9.980774   \n",
      "75%                                   11.992176   \n",
      "max                                   14.090194   \n",
      "\n",
      "       secondary_cleaner.state.floatbank5_b_level  \\\n",
      "count                                 5840.000000   \n",
      "mean                                  -505.017827   \n",
      "std                                     68.785898   \n",
      "min                                   -800.220337   \n",
      "25%                                   -500.223089   \n",
      "50%                                   -500.001338   \n",
      "75%                                   -499.722835   \n",
      "max                                   -126.463446   \n",
      "\n",
      "       secondary_cleaner.state.floatbank6_a_air  \\\n",
      "count                               5840.000000   \n",
      "mean                                  16.678722   \n",
      "std                                    5.404514   \n",
      "min                                   -0.079426   \n",
      "25%                                   13.012422   \n",
      "50%                                   16.007242   \n",
      "75%                                   21.009076   \n",
      "max                                   26.705889   \n",
      "\n",
      "       secondary_cleaner.state.floatbank6_a_level  \n",
      "count                                 5840.000000  \n",
      "mean                                  -512.351694  \n",
      "std                                     69.919839  \n",
      "min                                   -809.859706  \n",
      "25%                                   -500.833821  \n",
      "50%                                   -500.041085  \n",
      "75%                                   -499.395621  \n",
      "max                                    -29.093593  \n",
      "\n",
      "[8 rows x 52 columns]\n",
      "\n",
      "Full dataset - Descripción:\n"
     ]
    },
    {
     "name": "stdout",
     "output_type": "stream",
     "text": [
      "       final.output.concentrate_ag  final.output.concentrate_pb  \\\n",
      "count                 22627.000000                 22629.000000   \n",
      "mean                      4.781559                     9.095308   \n",
      "std                       2.030128                     3.230797   \n",
      "min                       0.000000                     0.000000   \n",
      "25%                       4.018525                     8.750171   \n",
      "50%                       4.953729                     9.914519   \n",
      "75%                       5.862593                    10.929839   \n",
      "max                      16.001945                    17.031899   \n",
      "\n",
      "       final.output.concentrate_sol  final.output.concentrate_au  \\\n",
      "count                  22331.000000                 22630.000000   \n",
      "mean                       8.640317                    40.001172   \n",
      "std                        3.785035                    13.398062   \n",
      "min                        0.000000                     0.000000   \n",
      "25%                        7.116799                    42.383721   \n",
      "50%                        8.908792                    44.653436   \n",
      "75%                       10.705824                    46.111999   \n",
      "max                       19.615720                    53.611374   \n",
      "\n",
      "       final.output.recovery  final.output.tail_ag  final.output.tail_pb  \\\n",
      "count           20753.000000          22633.000000          22516.000000   \n",
      "mean               67.447488              8.923690              2.488252   \n",
      "std                11.616034              3.517917              1.189407   \n",
      "min                 0.000000              0.000000              0.000000   \n",
      "25%                63.282393              7.684016              1.805376   \n",
      "50%                68.322258              9.484369              2.653001   \n",
      "75%                72.950836             11.084557              3.287790   \n",
      "max               100.000000             19.552149              6.086532   \n",
      "\n",
      "       final.output.tail_sol  final.output.tail_au  \\\n",
      "count           22445.000000          22635.000000   \n",
      "mean                9.523632              2.827459   \n",
      "std                 4.079739              1.262834   \n",
      "min                 0.000000              0.000000   \n",
      "25%                 8.143576              2.303108   \n",
      "50%                10.212998              2.913794   \n",
      "75%                11.860824              3.555077   \n",
      "max                22.861749              9.789625   \n",
      "\n",
      "       primary_cleaner.input.sulfate  ...  \\\n",
      "count                   21107.000000  ...   \n",
      "mean                      140.277672  ...   \n",
      "std                        49.919004  ...   \n",
      "min                         0.000003  ...   \n",
      "25%                       110.177081  ...   \n",
      "50%                       141.330501  ...   \n",
      "75%                       174.049914  ...   \n",
      "max                       274.409626  ...   \n",
      "\n",
      "       secondary_cleaner.state.floatbank4_a_air  \\\n",
      "count                              22571.000000   \n",
      "mean                                  18.205125   \n",
      "std                                    6.560700   \n",
      "min                                    0.000000   \n",
      "25%                                   14.095940   \n",
      "50%                                   18.007326   \n",
      "75%                                   22.998194   \n",
      "max                                   60.000000   \n",
      "\n",
      "       secondary_cleaner.state.floatbank4_a_level  \\\n",
      "count                                22587.000000   \n",
      "mean                                  -499.878977   \n",
      "std                                     80.273964   \n",
      "min                                   -799.920713   \n",
      "25%                                   -500.896232   \n",
      "50%                                   -499.917108   \n",
      "75%                                   -498.361545   \n",
      "max                                   -127.692333   \n",
      "\n",
      "       secondary_cleaner.state.floatbank4_b_air  \\\n",
      "count                              22608.000000   \n",
      "mean                                  14.356474   \n",
      "std                                    5.655791   \n",
      "min                                    0.000000   \n",
      "25%                                   10.882675   \n",
      "50%                                   14.947646   \n",
      "75%                                   17.977502   \n",
      "max                                   31.269706   \n",
      "\n",
      "       secondary_cleaner.state.floatbank4_b_level  \\\n",
      "count                                22607.000000   \n",
      "mean                                  -476.532613   \n",
      "std                                     93.822791   \n",
      "min                                   -800.836914   \n",
      "25%                                   -500.309169   \n",
      "50%                                   -499.612292   \n",
      "75%                                   -400.224147   \n",
      "max                                     -6.506986   \n",
      "\n",
      "       secondary_cleaner.state.floatbank5_a_air  \\\n",
      "count                              22615.000000   \n",
      "mean                                  14.883276   \n",
      "std                                    6.372811   \n",
      "min                                   -0.423260   \n",
      "25%                                   10.941299   \n",
      "50%                                   14.859117   \n",
      "75%                                   18.014914   \n",
      "max                                   63.116298   \n",
      "\n",
      "       secondary_cleaner.state.floatbank5_a_level  \\\n",
      "count                                22615.000000   \n",
      "mean                                  -503.323288   \n",
      "std                                     72.925589   \n",
      "min                                   -799.741097   \n",
      "25%                                   -500.628697   \n",
      "50%                                   -499.865158   \n",
      "75%                                   -498.489381   \n",
      "max                                   -244.483566   \n",
      "\n",
      "       secondary_cleaner.state.floatbank5_b_air  \\\n",
      "count                              22615.000000   \n",
      "mean                                  11.626743   \n",
      "std                                    5.757449   \n",
      "min                                    0.427084   \n",
      "25%                                    8.037533   \n",
      "50%                                   10.989756   \n",
      "75%                                   14.001193   \n",
      "max                                   39.846228   \n",
      "\n",
      "       secondary_cleaner.state.floatbank5_b_level  \\\n",
      "count                                22616.000000   \n",
      "mean                                  -500.521502   \n",
      "std                                     78.956292   \n",
      "min                                   -800.258209   \n",
      "25%                                   -500.167897   \n",
      "50%                                   -499.951980   \n",
      "75%                                   -499.492354   \n",
      "max                                   -120.190931   \n",
      "\n",
      "       secondary_cleaner.state.floatbank6_a_air  \\\n",
      "count                              22597.000000   \n",
      "mean                                  17.976810   \n",
      "std                                    6.636203   \n",
      "min                                   -0.079426   \n",
      "25%                                   13.968418   \n",
      "50%                                   18.004215   \n",
      "75%                                   23.009704   \n",
      "max                                   54.876806   \n",
      "\n",
      "       secondary_cleaner.state.floatbank6_a_level  \n",
      "count                                22615.000000  \n",
      "mean                                  -519.361465  \n",
      "std                                     75.477151  \n",
      "min                                   -810.473526  \n",
      "25%                                   -500.981671  \n",
      "50%                                   -500.095463  \n",
      "75%                                   -499.526388  \n",
      "max                                    -29.093593  \n",
      "\n",
      "[8 rows x 86 columns]\n"
     ]
    }
   ],
   "source": [
    "# Estadísticas generales de los datasets\n",
    "print(\"\\nTrain dataset - Descripción:\")\n",
    "print(df_train.describe())\n",
    "\n",
    "print(\"\\nTest dataset - Descripción:\")\n",
    "print(df_test.describe())\n",
    "\n",
    "print(\"\\nFull dataset - Descripción:\")\n",
    "print(df_full.describe())"
   ]
  },
  {
   "cell_type": "code",
   "execution_count": 6,
   "metadata": {},
   "outputs": [
    {
     "name": "stdout",
     "output_type": "stream",
     "text": [
      "(16860, 87)\n",
      "(5856, 53)\n",
      "(22716, 87)\n"
     ]
    }
   ],
   "source": [
    "# Mostrar número de filas y columnas\n",
    "\n",
    "print(df_train.shape)\n",
    "print(df_test.shape)\n",
    "print(df_full.shape)"
   ]
  },
  {
   "cell_type": "code",
   "execution_count": 7,
   "metadata": {},
   "outputs": [
    {
     "name": "stdout",
     "output_type": "stream",
     "text": [
      "\n",
      "Valores nulos en Train dataset:\n",
      "date                                            0\n",
      "final.output.concentrate_ag                    72\n",
      "final.output.concentrate_pb                    72\n",
      "final.output.concentrate_sol                  370\n",
      "final.output.concentrate_au                    71\n",
      "                                             ... \n",
      "secondary_cleaner.state.floatbank5_a_level     85\n",
      "secondary_cleaner.state.floatbank5_b_air       85\n",
      "secondary_cleaner.state.floatbank5_b_level     84\n",
      "secondary_cleaner.state.floatbank6_a_air      103\n",
      "secondary_cleaner.state.floatbank6_a_level     85\n",
      "Length: 87, dtype: int64\n",
      "\n",
      "Valores nulos en Test dataset:\n",
      "date                                            0\n",
      "primary_cleaner.input.sulfate                 302\n",
      "primary_cleaner.input.depressant              284\n",
      "primary_cleaner.input.feed_size                 0\n",
      "primary_cleaner.input.xanthate                166\n",
      "primary_cleaner.state.floatbank8_a_air         16\n",
      "primary_cleaner.state.floatbank8_a_level       16\n",
      "primary_cleaner.state.floatbank8_b_air         16\n",
      "primary_cleaner.state.floatbank8_b_level       16\n",
      "primary_cleaner.state.floatbank8_c_air         16\n",
      "primary_cleaner.state.floatbank8_c_level       16\n",
      "primary_cleaner.state.floatbank8_d_air         16\n",
      "primary_cleaner.state.floatbank8_d_level       16\n",
      "rougher.input.feed_ag                          16\n",
      "rougher.input.feed_pb                          16\n",
      "rougher.input.feed_rate                        40\n",
      "rougher.input.feed_size                        22\n",
      "rougher.input.feed_sol                         67\n",
      "rougher.input.feed_au                          16\n",
      "rougher.input.floatbank10_sulfate             257\n",
      "rougher.input.floatbank10_xanthate            123\n",
      "rougher.input.floatbank11_sulfate              55\n",
      "rougher.input.floatbank11_xanthate            353\n",
      "rougher.state.floatbank10_a_air                17\n",
      "rougher.state.floatbank10_a_level              16\n",
      "rougher.state.floatbank10_b_air                17\n",
      "rougher.state.floatbank10_b_level              16\n",
      "rougher.state.floatbank10_c_air                17\n",
      "rougher.state.floatbank10_c_level              16\n",
      "rougher.state.floatbank10_d_air                17\n",
      "rougher.state.floatbank10_d_level              16\n",
      "rougher.state.floatbank10_e_air                17\n",
      "rougher.state.floatbank10_e_level              16\n",
      "rougher.state.floatbank10_f_air                17\n",
      "rougher.state.floatbank10_f_level              16\n",
      "secondary_cleaner.state.floatbank2_a_air       20\n",
      "secondary_cleaner.state.floatbank2_a_level     16\n",
      "secondary_cleaner.state.floatbank2_b_air       23\n",
      "secondary_cleaner.state.floatbank2_b_level     16\n",
      "secondary_cleaner.state.floatbank3_a_air       34\n",
      "secondary_cleaner.state.floatbank3_a_level     16\n",
      "secondary_cleaner.state.floatbank3_b_air       16\n",
      "secondary_cleaner.state.floatbank3_b_level     16\n",
      "secondary_cleaner.state.floatbank4_a_air       16\n",
      "secondary_cleaner.state.floatbank4_a_level     16\n",
      "secondary_cleaner.state.floatbank4_b_air       16\n",
      "secondary_cleaner.state.floatbank4_b_level     16\n",
      "secondary_cleaner.state.floatbank5_a_air       16\n",
      "secondary_cleaner.state.floatbank5_a_level     16\n",
      "secondary_cleaner.state.floatbank5_b_air       16\n",
      "secondary_cleaner.state.floatbank5_b_level     16\n",
      "secondary_cleaner.state.floatbank6_a_air       16\n",
      "secondary_cleaner.state.floatbank6_a_level     16\n",
      "dtype: int64\n",
      "\n",
      "Valores nulos en Full dataset:\n",
      "date                                            0\n",
      "final.output.concentrate_ag                    89\n",
      "final.output.concentrate_pb                    87\n",
      "final.output.concentrate_sol                  385\n",
      "final.output.concentrate_au                    86\n",
      "                                             ... \n",
      "secondary_cleaner.state.floatbank5_a_level    101\n",
      "secondary_cleaner.state.floatbank5_b_air      101\n",
      "secondary_cleaner.state.floatbank5_b_level    100\n",
      "secondary_cleaner.state.floatbank6_a_air      119\n",
      "secondary_cleaner.state.floatbank6_a_level    101\n",
      "Length: 87, dtype: int64\n"
     ]
    }
   ],
   "source": [
    "# Ver cantidad de valores nulos en cada columna\n",
    "print(\"\\nValores nulos en Train dataset:\")\n",
    "print(df_train.isna().sum())\n",
    "\n",
    "print(\"\\nValores nulos en Test dataset:\")\n",
    "print(df_test.isna().sum())\n",
    "\n",
    "print(\"\\nValores nulos en Full dataset:\")\n",
    "print(df_full.isna().sum())"
   ]
  },
  {
   "cell_type": "code",
   "execution_count": 8,
   "metadata": {},
   "outputs": [
    {
     "name": "stdout",
     "output_type": "stream",
     "text": [
      "Valores duplicados:  0\n",
      "Valores duplicados:  0\n",
      "Valores duplicados:  0\n"
     ]
    }
   ],
   "source": [
    "# Valores duplicados\n",
    "\n",
    "print(\"Valores duplicados: \", df_train.duplicated().sum())\n",
    "print(\"Valores duplicados: \", df_test.duplicated().sum())\n",
    "print(\"Valores duplicados: \", df_full.duplicated().sum())"
   ]
  },
  {
   "cell_type": "markdown",
   "metadata": {},
   "source": [
    "<div class=\"alert alert-block alert-success\">\n",
    "<b>Comentario revisor</b> <a class=\"tocSkip\"></a><br>\n",
    "Excelente trabajo con la carga de las bases de datos con los análisis iniciales de la limpieza de los datos. \n",
    "\n"
   ]
  },
  {
   "cell_type": "code",
   "execution_count": 9,
   "metadata": {},
   "outputs": [
    {
     "data": {
      "image/png": "[encoded data removed]",
      "text/plain": [
       "<Figure size 1200x600 with 2 Axes>"
      ]
     },
     "metadata": {},
     "output_type": "display_data"
    }
   ],
   "source": [
    "# Calcular correlación con respecto a las variables objetivo\n",
    "corr_matrix = df_train.corr()\n",
    "\n",
    "# Extraer la correlación de las características con las variables objetivo\n",
    "target_cols = ['rougher.output.recovery', 'final.output.recovery']\n",
    "corr_targets = corr_matrix[target_cols]\n",
    "\n",
    "# Graficar el mapa de calor\n",
    "plt.figure(figsize=(12, 6))\n",
    "sns.heatmap(corr_targets, annot=True, cmap='coolwarm', fmt='.2f')\n",
    "plt.title(\"Correlación de características con las variables objetivo\")\n",
    "plt.show()"
   ]
  },
  {
   "cell_type": "markdown",
   "metadata": {},
   "source": [
    "- Se generó un mapa de calor únicamente para df_train que es el conjunto de datoscon el cual se entrena el modelo, así que es crucial analizar la correlación.\n",
    "- Con respecto a df_test aunque también tiene valores nulos, no contiene las variables objetivo. La correlación no sería útil aquí.\n",
    "- Para df_full, como contiene tanto entrenamiento como prueba, se podría hacer el análisis, pero sería redundante porque ya se está haciendo en df_train.\n",
    "- Lo más eficiente es generar el mapa de calor solo para df_train, ya que es el dataset que realmente afectará nuestro modelo.\n"
   ]
  },
  {
   "cell_type": "markdown",
   "metadata": {},
   "source": [
    "**Ya que el mapa de calor es poco legible, se decidió extraer solo las variables con alta correlación (mayor a 0.5) y enfocarse en estas.**"
   ]
  },
  {
   "cell_type": "code",
   "execution_count": 10,
   "metadata": {},
   "outputs": [
    {
     "name": "stdout",
     "output_type": "stream",
     "text": [
      "Variables con alta correlación:\n",
      " ['rougher.output.recovery', 'rougher.output.concentrate_ag', 'final.output.recovery', 'rougher.output.concentrate_sol', 'rougher.output.concentrate_au', 'final.output.tail_au', 'rougher.output.concentrate_pb']\n"
     ]
    }
   ],
   "source": [
    "# Definir el umbral de correlación\n",
    "umbral = 0.5\n",
    "\n",
    "# Filtrar las variables con alta correlación con las variables objetivo\n",
    "corr_train = df_train.corr()\n",
    "\n",
    "# Variables correlacionadas con \"rougher.output.recovery\"\n",
    "high_corr_rougher = corr_train['rougher.output.recovery'].abs().sort_values(ascending=False)\n",
    "high_corr_rougher = high_corr_rougher[high_corr_rougher > umbral].index.tolist()\n",
    "\n",
    "# Variables correlacionadas con \"final.output.recovery\"\n",
    "high_corr_final = corr_train['final.output.recovery'].abs().sort_values(ascending=False)\n",
    "high_corr_final = high_corr_final[high_corr_final > umbral].index.tolist()\n",
    "\n",
    "# Unir las listas de variables altamente correlacionadas\n",
    "high_corr_vars = list(set(high_corr_rougher + high_corr_final))\n",
    "\n",
    "print(f\"Variables con alta correlación:\\n {high_corr_vars}\")"
   ]
  },
  {
   "cell_type": "markdown",
   "metadata": {},
   "source": [
    "<div class=\"alert alert-block alert-success\">\n",
    "<b>Comentario revisor</b> <a class=\"tocSkip\"></a><br>\n",
    "\n",
    "Gran trabajo con el análisis de correlaciones y la identificación de variables con alta correlación    \n"
   ]
  },
  {
   "cell_type": "markdown",
   "metadata": {},
   "source": [
    "**Se procederá a la imputación de valores clave con la mediana y la interpolación para mantener la integridad del conjunto de datos. Solo se eliminarán registros si el porcentaje de valores faltantes es demasiado alto.**\n"
   ]
  },
  {
   "cell_type": "code",
   "execution_count": 11,
   "metadata": {},
   "outputs": [],
   "source": [
    "# Imputar valores nulos en variables clave con la mediana\n",
    "\n",
    "df_train[high_corr_vars] = df_train[high_corr_vars].fillna(df_train[high_corr_vars].median())"
   ]
  },
  {
   "cell_type": "code",
   "execution_count": 12,
   "metadata": {},
   "outputs": [],
   "source": [
    "# Aplicar interpolación temporal en las columnas numéricas\n",
    "\n",
    "df_train.interpolate(method='linear', inplace=True)"
   ]
  },
  {
   "cell_type": "code",
   "execution_count": 13,
   "metadata": {},
   "outputs": [],
   "source": [
    "# Definir un umbral de valores nulos por fila (ajustable según criterio)\n",
    "\n",
    "umbral_nulos = df_train.shape[1] * 0.3  # Si más del 30% de valores están vacíos, se elimina la fila\n",
    "\n",
    "# Eliminar filas que superen el umbral\n",
    "\n",
    "df_train.dropna(thresh=umbral_nulos, inplace=True)"
   ]
  },
  {
   "cell_type": "code",
   "execution_count": 14,
   "metadata": {},
   "outputs": [
    {
     "name": "stdout",
     "output_type": "stream",
     "text": [
      "\n",
      "Valores nulos en df_train después de la limpieza:\n",
      "date                                          0\n",
      "final.output.concentrate_ag                   0\n",
      "final.output.concentrate_pb                   0\n",
      "final.output.concentrate_sol                  0\n",
      "final.output.concentrate_au                   0\n",
      "                                             ..\n",
      "secondary_cleaner.state.floatbank5_a_level    0\n",
      "secondary_cleaner.state.floatbank5_b_air      0\n",
      "secondary_cleaner.state.floatbank5_b_level    0\n",
      "secondary_cleaner.state.floatbank6_a_air      0\n",
      "secondary_cleaner.state.floatbank6_a_level    0\n",
      "Length: 87, dtype: int64\n"
     ]
    }
   ],
   "source": [
    "# Revisar si todavía hay valores nulos después de la limpieza\n",
    "\n",
    "print(\"\\nValores nulos en df_train después de la limpieza:\")\n",
    "print(df_train.isna().sum())"
   ]
  },
  {
   "cell_type": "markdown",
   "metadata": {},
   "source": [
    "**Ahora, se procederá a revisar columnas en común entre los datasets train y test, lo cual permite construir un modelo sólido y listo para predecir correctamente en datos reales, pues evita errores ya que si se usan columnas que no existen en df_test, el modelo no podrá hacer predicciones correctamente, además garantiza generalización, lo que asegura que el modelo pueda aplicarse a nuevos datos sin problemas. Por último, optimiza el entrenamiento, ya que filtra solo las variables útiles, evitando información innecesaria.**"
   ]
  },
  {
   "cell_type": "code",
   "execution_count": 15,
   "metadata": {},
   "outputs": [
    {
     "name": "stdout",
     "output_type": "stream",
     "text": [
      "Total de columnas en df_train: 87\n",
      "Total de columnas en df_test: 53\n",
      "Total de columnas en común: 53\n",
      "\n",
      "Columnas en común entre df_train y df_test:\n",
      "{'secondary_cleaner.state.floatbank2_a_air', 'rougher.state.floatbank10_e_level', 'secondary_cleaner.state.floatbank5_a_air', 'rougher.input.feed_rate', 'primary_cleaner.input.depressant', 'rougher.input.floatbank10_xanthate', 'rougher.input.feed_size', 'rougher.state.floatbank10_a_level', 'rougher.state.floatbank10_c_level', 'secondary_cleaner.state.floatbank2_a_level', 'primary_cleaner.state.floatbank8_c_air', 'rougher.input.feed_ag', 'primary_cleaner.state.floatbank8_b_level', 'rougher.input.feed_pb', 'secondary_cleaner.state.floatbank2_b_air', 'primary_cleaner.state.floatbank8_d_air', 'primary_cleaner.input.sulfate', 'secondary_cleaner.state.floatbank3_a_level', 'secondary_cleaner.state.floatbank5_a_level', 'secondary_cleaner.state.floatbank4_a_air', 'primary_cleaner.input.feed_size', 'secondary_cleaner.state.floatbank3_b_level', 'secondary_cleaner.state.floatbank5_b_level', 'rougher.state.floatbank10_d_level', 'primary_cleaner.input.xanthate', 'primary_cleaner.state.floatbank8_a_level', 'rougher.state.floatbank10_a_air', 'rougher.state.floatbank10_e_air', 'secondary_cleaner.state.floatbank3_b_air', 'secondary_cleaner.state.floatbank4_b_air', 'rougher.state.floatbank10_b_level', 'primary_cleaner.state.floatbank8_b_air', 'date', 'rougher.state.floatbank10_b_air', 'rougher.state.floatbank10_f_air', 'rougher.state.floatbank10_f_level', 'secondary_cleaner.state.floatbank6_a_air', 'rougher.input.floatbank10_sulfate', 'primary_cleaner.state.floatbank8_d_level', 'rougher.input.floatbank11_xanthate', 'primary_cleaner.state.floatbank8_c_level', 'primary_cleaner.state.floatbank8_a_air', 'secondary_cleaner.state.floatbank2_b_level', 'secondary_cleaner.state.floatbank4_b_level', 'rougher.input.floatbank11_sulfate', 'secondary_cleaner.state.floatbank6_a_level', 'rougher.state.floatbank10_c_air', 'rougher.input.feed_sol', 'rougher.input.feed_au', 'secondary_cleaner.state.floatbank3_a_air', 'secondary_cleaner.state.floatbank5_b_air', 'rougher.state.floatbank10_d_air', 'secondary_cleaner.state.floatbank4_a_level'}\n"
     ]
    }
   ],
   "source": [
    "# Obtener las columnas de cada dataset\n",
    "train_columns = set(df_train.columns)\n",
    "test_columns = set(df_test.columns)\n",
    "\n",
    "# Identificar las columnas en común\n",
    "common_columns = train_columns.intersection(test_columns)\n",
    "\n",
    "print(f\"Total de columnas en df_train: {len(train_columns)}\")\n",
    "print(f\"Total de columnas en df_test: {len(test_columns)}\")\n",
    "print(f\"Total de columnas en común: {len(common_columns)}\")\n",
    "print(\"\\nColumnas en común entre df_train y df_test:\")\n",
    "print(common_columns)"
   ]
  },
  {
   "cell_type": "markdown",
   "metadata": {},
   "source": [
    "# 1.2. Comprueba que el cálculo de la recuperación sea correcto."
   ]
  },
  {
   "cell_type": "code",
   "execution_count": 16,
   "metadata": {},
   "outputs": [
    {
     "name": "stdout",
     "output_type": "stream",
     "text": [
      "Error Absoluto Medio (EAM) entre cálculo y valores reales: inf\n"
     ]
    }
   ],
   "source": [
    "# Calcular la recuperación estimada\n",
    "df_train['calculated_recovery'] = (df_train['rougher.output.concentrate_au'] * \n",
    "                                   (df_train['rougher.input.feed_au'] - df_train['rougher.output.tail_au'])) / \\\n",
    "                                  (df_train['rougher.input.feed_au'] * \n",
    "                                   (df_train['rougher.output.concentrate_au'] - df_train['rougher.output.tail_au'])) * 100\n",
    "\n",
    "# Calcular el Error Absoluto Medio (EAM)\n",
    "eam = np.mean(np.abs(df_train['rougher.output.recovery'] - df_train['calculated_recovery']))\n",
    "\n",
    "# Mostrar el resultado\n",
    "print(f\"Error Absoluto Medio (EAM) entre cálculo y valores reales: {eam:.4f}\")"
   ]
  },
  {
   "cell_type": "code",
   "execution_count": null,
   "metadata": {},
   "outputs": [],
   "source": [
    "np.mean(np.abs(df_train['rougher.output.recovery'] - df_train['calculated_recovery']))"
   ]
  },
  {
   "cell_type": "code",
   "execution_count": 21,
   "metadata": {},
   "outputs": [
    {
     "data": {
      "text/plain": [
       "0        87.107763\n",
       "1        86.843261\n",
       "2        86.842308\n",
       "3        87.226430\n",
       "4        86.688794\n",
       "           ...    \n",
       "16855    89.574376\n",
       "16856    87.724007\n",
       "16857    88.890579\n",
       "16858    89.858126\n",
       "16859    89.514960\n",
       "Name: calculated_recovery, Length: 16860, dtype: float64"
      ]
     },
     "execution_count": 21,
     "metadata": {},
     "output_type": "execute_result"
    }
   ],
   "source": [
    "df_train['calculated_recovery']"
   ]
  },
  {
   "cell_type": "code",
   "execution_count": 22,
   "metadata": {},
   "outputs": [
    {
     "data": {
      "text/plain": [
       "0        87.107763\n",
       "1        86.843261\n",
       "2        86.842308\n",
       "3        87.226430\n",
       "4        86.688794\n",
       "           ...    \n",
       "16855    89.574376\n",
       "16856    87.724007\n",
       "16857    88.890579\n",
       "16858    89.858126\n",
       "16859    89.514960\n",
       "Name: rougher.output.recovery, Length: 16860, dtype: float64"
      ]
     },
     "execution_count": 22,
     "metadata": {},
     "output_type": "execute_result"
    }
   ],
   "source": [
    "df_train['rougher.output.recovery']"
   ]
  },
  {
   "cell_type": "markdown",
   "metadata": {},
   "source": [
    "**Se observa que el resultados del EAM no es un valor finito, pues su resultado es \"inf\", haciendo alusión a infinito, se detectó que contiene valores de divisiones por cero, lo que significa que en algún punto del cálculo se divide por un valor que es 0.**\n",
    "\n",
    "**Se procederá a verificar si hay valores 0 en las columnas clave y si es así, se definirá un valor epsilon pequeño para evitar divisiones por cero.**"
   ]
  },
  {
   "cell_type": "code",
   "execution_count": 17,
   "metadata": {},
   "outputs": [
    {
     "name": "stdout",
     "output_type": "stream",
     "text": [
      "\n",
      "Cantidad de valores cero en variables clave:\n",
      "rougher.output.concentrate_au    1493\n",
      "rougher.output.tail_au              0\n",
      "rougher.input.feed_au            1213\n",
      "dtype: int64\n"
     ]
    }
   ],
   "source": [
    "# Verificar si hay valores 0 en las columnas clave\n",
    "zero_values = df_train[['rougher.output.concentrate_au', 'rougher.output.tail_au', 'rougher.input.feed_au']] == 0\n",
    "\n",
    "print(\"\\nCantidad de valores cero en variables clave:\")\n",
    "print(zero_values.sum())"
   ]
  },
  {
   "cell_type": "code",
   "execution_count": 18,
   "metadata": {},
   "outputs": [
    {
     "name": "stdout",
     "output_type": "stream",
     "text": [
      "Error Absoluto Medio (EAM) entre cálculo y valores reales: 145259.0630\n"
     ]
    }
   ],
   "source": [
    "# Definir un valor epsilon pequeño para evitar divisiones por cero\n",
    "epsilon = 1e-5\n",
    "\n",
    "# Calcular la recuperación ajustada\n",
    "df_train['calculated_recovery'] = (df_train['rougher.output.concentrate_au'] * \n",
    "                                   (df_train['rougher.input.feed_au'] - df_train['rougher.output.tail_au'])) / \\\n",
    "                                  ((df_train['rougher.input.feed_au'] + epsilon) * \n",
    "                                   (df_train['rougher.output.concentrate_au'] - df_train['rougher.output.tail_au'] + epsilon)) * 100\n",
    "\n",
    "# Calcular el Error Absoluto Medio (EAM)\n",
    "eam = np.mean(np.abs(df_train['rougher.output.recovery'] - df_train['calculated_recovery']))\n",
    "\n",
    "print(f\"Error Absoluto Medio (EAM) entre cálculo y valores reales: {eam:.4f}\")"
   ]
  },
  {
   "cell_type": "markdown",
   "metadata": {},
   "source": [
    "<div class=\"alert alert-block alert-success\">\n",
    "<b>Comentario revisor</b> <a class=\"tocSkip\"></a><br>\n",
    "    \n",
    "    \n",
    "Excelente trabajo con el calculo de la recuperación con los calculos propios, esto ayuda mucho a comprobar los resultados. Recuerda que estos pasos son muy relevantes cuando queremos hacer los análisis de información. \n",
    "\n"
   ]
  },
  {
   "cell_type": "markdown",
   "metadata": {},
   "source": [
    "**Se hace necesario hacer una validación adicional antes de continuar, ya que el EAM es demasiado alto, lo que sugiere que hay una discrepancia entre los cálculos y los valores reales.**\n",
    "\n",
    "**Se verificarán las estadísticas de las variables clave y la detección de valores extremos (outliers).**"
   ]
  },
  {
   "cell_type": "code",
   "execution_count": 19,
   "metadata": {},
   "outputs": [
    {
     "name": "stdout",
     "output_type": "stream",
     "text": [
      "\n",
      "Resumen estadístico de variables clave:\n",
      "       rougher.output.recovery  rougher.input.feed_au  \\\n",
      "count             16860.000000           16860.000000   \n",
      "mean                 82.827887               7.140138   \n",
      "std                  13.934638               3.029035   \n",
      "min                   0.000000               0.000000   \n",
      "25%                  80.922825               6.176626   \n",
      "50%                  85.235997               7.429134   \n",
      "75%                  89.343361               8.954083   \n",
      "max                 100.000000              14.093363   \n",
      "\n",
      "       rougher.output.concentrate_au  rougher.output.tail_au  \n",
      "count                   16860.000000            16860.000000  \n",
      "mean                       17.412450                1.841012  \n",
      "std                         6.906784                0.814770  \n",
      "min                         0.000000                0.020676  \n",
      "25%                        17.461255                1.355256  \n",
      "50%                        19.644663                1.791404  \n",
      "75%                        21.218314                2.248066  \n",
      "max                        28.522811                9.688980  \n"
     ]
    }
   ],
   "source": [
    "# Verificar estadísticas de las variables clave\n",
    "print(\"\\nResumen estadístico de variables clave:\")\n",
    "print(df_train[['rougher.output.recovery', 'rougher.input.feed_au', \n",
    "                'rougher.output.concentrate_au', 'rougher.output.tail_au']].describe())"
   ]
  },
  {
   "cell_type": "code",
   "execution_count": 20,
   "metadata": {},
   "outputs": [
    {
     "name": "stdout",
     "output_type": "stream",
     "text": [
      "\n",
      "Cantidad de valores atípicos en variables clave:\n",
      "rougher.input.feed_au            1763\n",
      "rougher.output.concentrate_au    2328\n",
      "rougher.output.tail_au            427\n",
      "dtype: int64\n"
     ]
    }
   ],
   "source": [
    "# Detectar valores atípicos en las variables clave\n",
    "\n",
    "# Definir los límites para detección de outliers\n",
    "Q1 = df_train[['rougher.input.feed_au', 'rougher.output.concentrate_au', 'rougher.output.tail_au']].quantile(0.25)\n",
    "Q3 = df_train[['rougher.input.feed_au', 'rougher.output.concentrate_au', 'rougher.output.tail_au']].quantile(0.75)\n",
    "IQR = Q3 - Q1  # Rango intercuartílico\n",
    "\n",
    "# Filtrar valores fuera del rango típico\n",
    "outliers = ((df_train[['rougher.input.feed_au', 'rougher.output.concentrate_au', 'rougher.output.tail_au']] < (Q1 - 1.5 * IQR)) | \n",
    "            (df_train[['rougher.input.feed_au', 'rougher.output.concentrate_au', 'rougher.output.tail_au']] > (Q3 + 1.5 * IQR)))\n",
    "\n",
    "print(\"\\nCantidad de valores atípicos en variables clave:\")\n",
    "print(outliers.sum())"
   ]
  },
  {
   "cell_type": "markdown",
   "metadata": {},
   "source": [
    "**Se procederá a eliminar los reistros atípicos, ya que como los outliers representan menos del 10% del dataset, lo más eficiente será descartarlos para mejorar la calidad de los datos sin afectar demasiado la cantidad de información disponible.**"
   ]
  },
  {
   "cell_type": "code",
   "execution_count": 21,
   "metadata": {},
   "outputs": [
    {
     "name": "stdout",
     "output_type": "stream",
     "text": [
      "Shape de df_train después de eliminar outliers: (14063, 88)\n"
     ]
    }
   ],
   "source": [
    "# Filtrar los datos eliminando valores fuera del rango intercuartílico (IQR)\n",
    "\n",
    "Q1 = df_train[['rougher.input.feed_au', 'rougher.output.concentrate_au', 'rougher.output.tail_au']].quantile(0.25)\n",
    "Q3 = df_train[['rougher.input.feed_au', 'rougher.output.concentrate_au', 'rougher.output.tail_au']].quantile(0.75)\n",
    "IQR = Q3 - Q1\n",
    "\n",
    "# Mantener solo registros dentro del rango típico\n",
    "\n",
    "df_train = df_train[~((df_train[['rougher.input.feed_au', 'rougher.output.concentrate_au', 'rougher.output.tail_au']] < (Q1 - 1.5 * IQR)) | \n",
    "                       (df_train[['rougher.input.feed_au', 'rougher.output.concentrate_au', 'rougher.output.tail_au']] > (Q3 + 1.5 * IQR))).any(axis=1)]\n",
    "\n",
    "# Verificar la nueva shape del dataset\n",
    "\n",
    "print(f\"Shape de df_train después de eliminar outliers: {df_train.shape}\")"
   ]
  },
  {
   "cell_type": "code",
   "execution_count": 22,
   "metadata": {},
   "outputs": [
    {
     "name": "stdout",
     "output_type": "stream",
     "text": [
      "Error Absoluto Medio (EAM) después de la limpieza: 0.2489\n"
     ]
    }
   ],
   "source": [
    "# Recalcular la recuperación estimada con datos limpios\n",
    "\n",
    "df_train['calculated_recovery'] = (df_train['rougher.output.concentrate_au'] * \n",
    "                                   (df_train['rougher.input.feed_au'] - df_train['rougher.output.tail_au'])) / \\\n",
    "                                  ((df_train['rougher.input.feed_au'] + 1e-5) * \n",
    "                                   (df_train['rougher.output.concentrate_au'] - df_train['rougher.output.tail_au'] + 1e-5)) * 100\n",
    "\n",
    "# Calcular el Error Absoluto Medio (EAM)\n",
    "\n",
    "eam = np.mean(np.abs(df_train['rougher.output.recovery'] - df_train['calculated_recovery']))\n",
    "\n",
    "print(f\"Error Absoluto Medio (EAM) después de la limpieza: {eam:.4f}\")"
   ]
  },
  {
   "cell_type": "markdown",
   "metadata": {},
   "source": [
    "<div class=\"alert alert-block alert-success\">\n",
    "<b>Comentario revisor</b> <a class=\"tocSkip\"></a><br>\n",
    "    \n",
    "Muy buen trabajo con el análisis de valores atípicos usando el metodo de valores  de intercuartiles\n",
    "\n"
   ]
  },
  {
   "cell_type": "markdown",
   "metadata": {},
   "source": [
    "# 1.3. Analiza las características no disponibles en el conjunto de prueba. ¿Cuáles son estos parámetros? ¿Cuál es su tipo?"
   ]
  },
  {
   "cell_type": "code",
   "execution_count": 23,
   "metadata": {},
   "outputs": [
    {
     "name": "stdout",
     "output_type": "stream",
     "text": [
      "Características no disponibles en el conjunto de prueba:\n",
      "{'rougher.output.concentrate_ag', 'primary_cleaner.output.tail_ag', 'rougher.output.concentrate_au', 'primary_cleaner.output.concentrate_au', 'rougher.calculation.sulfate_to_au_concentrate', 'rougher.output.tail_au', 'secondary_cleaner.output.tail_sol', 'rougher.output.recovery', 'final.output.concentrate_sol', 'final.output.tail_sol', 'final.output.tail_au', 'rougher.calculation.au_pb_ratio', 'rougher.output.tail_pb', 'rougher.calculation.floatbank11_sulfate_to_au_feed', 'final.output.concentrate_pb', 'rougher.output.concentrate_pb', 'secondary_cleaner.output.tail_pb', 'final.output.tail_ag', 'primary_cleaner.output.concentrate_pb', 'final.output.concentrate_ag', 'secondary_cleaner.output.tail_ag', 'calculated_recovery', 'primary_cleaner.output.tail_au', 'final.output.tail_pb', 'final.output.concentrate_au', 'final.output.recovery', 'primary_cleaner.output.tail_sol', 'rougher.output.concentrate_sol', 'primary_cleaner.output.concentrate_ag', 'primary_cleaner.output.tail_pb', 'rougher.output.tail_ag', 'secondary_cleaner.output.tail_au', 'primary_cleaner.output.concentrate_sol', 'rougher.calculation.floatbank10_sulfate_to_au_feed', 'rougher.output.tail_sol'}\n",
      "\n",
      "Tipos de datos de las características faltantes:\n",
      "rougher.output.concentrate_ag                         float64\n",
      "primary_cleaner.output.tail_ag                        float64\n",
      "rougher.output.concentrate_au                         float64\n",
      "primary_cleaner.output.concentrate_au                 float64\n",
      "rougher.calculation.sulfate_to_au_concentrate         float64\n",
      "rougher.output.tail_au                                float64\n",
      "secondary_cleaner.output.tail_sol                     float64\n",
      "rougher.output.recovery                               float64\n",
      "final.output.concentrate_sol                          float64\n",
      "final.output.tail_sol                                 float64\n",
      "final.output.tail_au                                  float64\n",
      "rougher.calculation.au_pb_ratio                       float64\n",
      "rougher.output.tail_pb                                float64\n",
      "rougher.calculation.floatbank11_sulfate_to_au_feed    float64\n",
      "final.output.concentrate_pb                           float64\n",
      "rougher.output.concentrate_pb                         float64\n",
      "secondary_cleaner.output.tail_pb                      float64\n",
      "final.output.tail_ag                                  float64\n",
      "primary_cleaner.output.concentrate_pb                 float64\n",
      "final.output.concentrate_ag                           float64\n",
      "secondary_cleaner.output.tail_ag                      float64\n",
      "calculated_recovery                                   float64\n",
      "primary_cleaner.output.tail_au                        float64\n",
      "final.output.tail_pb                                  float64\n",
      "final.output.concentrate_au                           float64\n",
      "final.output.recovery                                 float64\n",
      "primary_cleaner.output.tail_sol                       float64\n",
      "rougher.output.concentrate_sol                        float64\n",
      "primary_cleaner.output.concentrate_ag                 float64\n",
      "primary_cleaner.output.tail_pb                        float64\n",
      "rougher.output.tail_ag                                float64\n",
      "secondary_cleaner.output.tail_au                      float64\n",
      "primary_cleaner.output.concentrate_sol                float64\n",
      "rougher.calculation.floatbank10_sulfate_to_au_feed    float64\n",
      "rougher.output.tail_sol                               float64\n",
      "dtype: object\n"
     ]
    }
   ],
   "source": [
    "# Verificar las columnas en cada conjunto de datos\n",
    "train_columns = set(df_train.columns)\n",
    "test_columns = set(df_test.columns)\n",
    "\n",
    "# Identificar características que están en el entrenamiento pero no en la prueba\n",
    "missing_in_test = train_columns - test_columns\n",
    "\n",
    "print(\"Características no disponibles en el conjunto de prueba:\")\n",
    "print(missing_in_test)\n",
    "\n",
    "# Identificar el tipo de cada característica ausente\n",
    "print(\"\\nTipos de datos de las características faltantes:\")\n",
    "print(df_train[list(missing_in_test)].dtypes)"
   ]
  },
  {
   "cell_type": "code",
   "execution_count": 24,
   "metadata": {},
   "outputs": [
    {
     "name": "stdout",
     "output_type": "stream",
     "text": [
      "Características disponibles en ambos conjuntos:\n",
      "{'rougher.state.floatbank10_a_air', 'primary_cleaner.state.floatbank8_a_level', 'secondary_cleaner.state.floatbank2_a_level', 'secondary_cleaner.state.floatbank5_a_air', 'primary_cleaner.state.floatbank8_d_air', 'secondary_cleaner.state.floatbank5_b_level', 'secondary_cleaner.state.floatbank6_a_level', 'rougher.state.floatbank10_d_level', 'date', 'secondary_cleaner.state.floatbank3_a_air', 'secondary_cleaner.state.floatbank2_a_air', 'rougher.input.floatbank10_sulfate', 'primary_cleaner.input.sulfate', 'secondary_cleaner.state.floatbank3_b_level', 'secondary_cleaner.state.floatbank5_a_level', 'rougher.input.feed_rate', 'rougher.input.floatbank11_xanthate', 'rougher.state.floatbank10_a_level', 'primary_cleaner.state.floatbank8_a_air', 'primary_cleaner.state.floatbank8_c_air', 'primary_cleaner.state.floatbank8_c_level', 'primary_cleaner.input.depressant', 'primary_cleaner.state.floatbank8_b_air', 'secondary_cleaner.state.floatbank4_a_air', 'rougher.state.floatbank10_b_level', 'rougher.input.feed_sol', 'primary_cleaner.input.feed_size', 'rougher.state.floatbank10_b_air', 'secondary_cleaner.state.floatbank2_b_level', 'primary_cleaner.state.floatbank8_b_level', 'secondary_cleaner.state.floatbank4_b_air', 'rougher.input.feed_pb', 'rougher.input.feed_au', 'rougher.input.feed_size', 'rougher.input.floatbank10_xanthate', 'secondary_cleaner.state.floatbank6_a_air', 'rougher.state.floatbank10_e_air', 'rougher.state.floatbank10_c_level', 'rougher.state.floatbank10_e_level', 'primary_cleaner.state.floatbank8_d_level', 'secondary_cleaner.state.floatbank3_a_level', 'secondary_cleaner.state.floatbank4_b_level', 'rougher.state.floatbank10_c_air', 'rougher.input.floatbank11_sulfate', 'secondary_cleaner.state.floatbank2_b_air', 'secondary_cleaner.state.floatbank5_b_air', 'secondary_cleaner.state.floatbank3_b_air', 'rougher.state.floatbank10_f_air', 'secondary_cleaner.state.floatbank4_a_level', 'primary_cleaner.input.xanthate', 'rougher.input.feed_ag', 'rougher.state.floatbank10_d_air', 'rougher.state.floatbank10_f_level'}\n"
     ]
    }
   ],
   "source": [
    "# Identificar características presentes en ambos conjuntos\n",
    "common_columns = train_columns.intersection(test_columns)\n",
    "\n",
    "print(\"Características disponibles en ambos conjuntos:\")\n",
    "print(common_columns)"
   ]
  },
  {
   "cell_type": "markdown",
   "metadata": {},
   "source": [
    "**Análisis de las Características en los Datos:**\n",
    "\n",
    "1. Características no disponibles en el conjunto de prueba:\n",
    "\n",
    "- Se encontraron **35 columnas ausentes en el conjunto de prueba**. La mayoría corresponden a **resultados finales del proceso de recuperación**, como 'final.output.recovery', 'rougher.output.recovery', y varias concentraciones ('output.concentrate' y 'output.tail').\n",
    "\n",
    "- También se identificaron **cálculos intermedios**, como 'rougher.calculation.au_pb_ratio', que no estarán disponibles para predecir en el test.\n",
    "\n",
    "- **Todas las variables ausentes son de tipo 'float64'**, indicando que son valores numéricos continuos.\n",
    "\n",
    "2. Características presentes en ambos conjuntos\n",
    "\n",
    "- Se identificaron **51 columnas comunes** en los datos de entrenamiento y prueba. Estas incluyen parámetros de proceso ('floatbank'), insumos químicos ('input.xanthate', 'input.sulfate'), tasas de alimentación ('input.feed_rate'), y valores relacionados con control ('state.floatbank').\n",
    "\n",
    "**Conclusión**\n",
    "\n",
    "- **Las variables ausentes en el test no pueden ser usadas en el entrenamiento del modelo.**\n",
    "\n",
    "- **El modelo debe entrenarse solo con las características disponibles en ambos conjuntos.**\n",
    "\n",
    "- **Es importante realizar preprocesamiento para asegurar que los datos sean utilizables por el modelo de Machine Learning.**"
   ]
  },
  {
   "cell_type": "markdown",
   "metadata": {},
   "source": [
    "# 1.4. Realiza el preprocesamiento de datos."
   ]
  },
  {
   "cell_type": "code",
   "execution_count": 25,
   "metadata": {},
   "outputs": [
    {
     "name": "stdout",
     "output_type": "stream",
     "text": [
      "\n",
      "Datos con fecha transformada:\n",
      "   year  month  day\n",
      "0  2016      1   15\n",
      "1  2016      1   15\n",
      "2  2016      1   15\n",
      "3  2016      1   15\n",
      "4  2016      1   15\n",
      "\n",
      "Valores faltantes después de la imputación: 0\n",
      "\n",
      "Ejemplo de datos normalizados:\n",
      "   primary_cleaner.input.sulfate  primary_cleaner.input.depressant  \\\n",
      "0                       0.504327                          0.489925   \n",
      "1                       0.498523                          0.498049   \n",
      "2                       0.491342                          0.547390   \n",
      "3                       0.485193                          0.547674   \n",
      "4                       0.468201                          0.576284   \n",
      "\n",
      "   primary_cleaner.input.feed_size  primary_cleaner.input.xanthate  \\\n",
      "0                         0.657082                        0.393211   \n",
      "1                         0.657082                        0.398741   \n",
      "2                         0.657082                        0.394208   \n",
      "3                         0.657082                        0.396385   \n",
      "4                         0.657082                        0.401607   \n",
      "\n",
      "   primary_cleaner.state.floatbank8_a_air  \\\n",
      "0                                0.745252   \n",
      "1                                0.757943   \n",
      "2                                0.770152   \n",
      "3                                0.769389   \n",
      "4                                0.770048   \n",
      "\n",
      "   primary_cleaner.state.floatbank8_a_level  \\\n",
      "0                                  0.663704   \n",
      "1                                  0.659291   \n",
      "2                                  0.661300   \n",
      "3                                  0.659188   \n",
      "4                                  0.663564   \n",
      "\n",
      "   primary_cleaner.state.floatbank8_b_air  \\\n",
      "0                                0.733571   \n",
      "1                                0.745163   \n",
      "2                                0.756717   \n",
      "3                                0.756846   \n",
      "4                                0.757214   \n",
      "\n",
      "   primary_cleaner.state.floatbank8_b_level  \\\n",
      "0                                  0.626511   \n",
      "1                                  0.663048   \n",
      "2                                  0.661409   \n",
      "3                                  0.663465   \n",
      "4                                  0.662037   \n",
      "\n",
      "   primary_cleaner.state.floatbank8_c_air  \\\n",
      "0                                0.768751   \n",
      "1                                0.781707   \n",
      "2                                0.794608   \n",
      "3                                0.793766   \n",
      "4                                0.793407   \n",
      "\n",
      "   primary_cleaner.state.floatbank8_c_level  ...  \\\n",
      "0                                  0.664666  ...   \n",
      "1                                  0.663235  ...   \n",
      "2                                  0.659805  ...   \n",
      "3                                  0.660118  ...   \n",
      "4                                  0.659765  ...   \n",
      "\n",
      "   secondary_cleaner.state.floatbank4_a_air  \\\n",
      "0                                  0.465432   \n",
      "1                                  0.464617   \n",
      "2                                  0.465372   \n",
      "3                                  0.466086   \n",
      "4                                  0.465780   \n",
      "\n",
      "   secondary_cleaner.state.floatbank4_a_level  \\\n",
      "0                                    0.442282   \n",
      "1                                    0.437795   \n",
      "2                                    0.442233   \n",
      "3                                    0.444709   \n",
      "4                                    0.446225   \n",
      "\n",
      "   secondary_cleaner.state.floatbank4_b_air  \\\n",
      "0                                  0.503998   \n",
      "1                                  0.497775   \n",
      "2                                  0.496202   \n",
      "3                                  0.499816   \n",
      "4                                  0.497880   \n",
      "\n",
      "   secondary_cleaner.state.floatbank4_b_level  \\\n",
      "0                                    0.405226   \n",
      "1                                    0.409872   \n",
      "2                                    0.410144   \n",
      "3                                    0.410061   \n",
      "4                                    0.410253   \n",
      "\n",
      "   secondary_cleaner.state.floatbank5_a_air  \\\n",
      "0                                  0.233603   \n",
      "1                                  0.236180   \n",
      "2                                  0.236899   \n",
      "3                                  0.234618   \n",
      "4                                  0.233605   \n",
      "\n",
      "   secondary_cleaner.state.floatbank5_a_level  \\\n",
      "0                                    0.572400   \n",
      "1                                    0.568837   \n",
      "2                                    0.568915   \n",
      "3                                    0.570692   \n",
      "4                                    0.565932   \n",
      "\n",
      "   secondary_cleaner.state.floatbank5_b_air  \\\n",
      "0                                  0.273875   \n",
      "1                                  0.270403   \n",
      "2                                  0.271468   \n",
      "3                                  0.270131   \n",
      "4                                  0.267091   \n",
      "\n",
      "   secondary_cleaner.state.floatbank5_b_level  \\\n",
      "0                                    0.466189   \n",
      "1                                    0.466016   \n",
      "2                                    0.466116   \n",
      "3                                    0.466523   \n",
      "4                                    0.466367   \n",
      "\n",
      "   secondary_cleaner.state.floatbank6_a_air  \\\n",
      "0                                  0.436611   \n",
      "1                                  0.431833   \n",
      "2                                  0.432780   \n",
      "3                                  0.432058   \n",
      "4                                  0.431780   \n",
      "\n",
      "   secondary_cleaner.state.floatbank6_a_level  \n",
      "0                                    0.288745  \n",
      "1                                    0.297333  \n",
      "2                                    0.295007  \n",
      "3                                    0.297037  \n",
      "4                                    0.294908  \n",
      "\n",
      "[5 rows x 52 columns]\n"
     ]
    }
   ],
   "source": [
    "if 'date' in df_train.columns:\n",
    "    df_train['year'] = pd.to_datetime(df_train['date']).dt.year\n",
    "    df_train['month'] = pd.to_datetime(df_train['date']).dt.month\n",
    "    df_train['day'] = pd.to_datetime(df_train['date']).dt.day\n",
    "    df_train.drop(columns=['date'], inplace=True)\n",
    "\n",
    "if 'date' in df_test.columns:\n",
    "    df_test['year'] = pd.to_datetime(df_test['date']).dt.year\n",
    "    df_test['month'] = pd.to_datetime(df_test['date']).dt.month\n",
    "    df_test['day'] = pd.to_datetime(df_test['date']).dt.day\n",
    "    df_test.drop(columns=['date'], inplace=True)\n",
    "\n",
    "print(\"\\nDatos con fecha transformada:\")\n",
    "print(df_train[['year', 'month', 'day']].head())\n",
    "\n",
    "# 🚀 **Manejo de valores faltantes**\n",
    "df_train.fillna(df_train.median(), inplace=True)\n",
    "df_test.fillna(df_test.median(), inplace=True)\n",
    "\n",
    "print(\"\\nValores faltantes después de la imputación:\", df_train.isnull().sum().sum())\n",
    "\n",
    "# 🚀 **Normalización de datos numéricos**\n",
    "numeric_columns_common = df_train.select_dtypes(include=['float64']).columns.intersection(df_test.select_dtypes(include=['float64']).columns)\n",
    "\n",
    "scaler = MinMaxScaler()\n",
    "df_train[numeric_columns_common] = scaler.fit_transform(df_train[numeric_columns_common])\n",
    "df_test[numeric_columns_common] = scaler.transform(df_test[numeric_columns_common])\n",
    "\n",
    "print(\"\\nEjemplo de datos normalizados:\")\n",
    "print(df_train[numeric_columns_common].head())\n"
   ]
  },
  {
   "cell_type": "markdown",
   "metadata": {},
   "source": [
    "<div class=\"alert alert-block alert-success\">\n",
    "<b>Comentario revisor</b> <a class=\"tocSkip\"></a><br>\n",
    "    \n",
    "Excelente trabajo completando los valores nulos con la mediana para no sesgar nuestros resultados"
   ]
  },
  {
   "cell_type": "markdown",
   "metadata": {},
   "source": [
    "# 2.1. Observa cómo cambia la concentración de metales (Au, Ag, Pb) en función de la etapa de purificación."
   ]
  },
  {
   "cell_type": "code",
   "execution_count": 26,
   "metadata": {},
   "outputs": [
    {
     "data": {
      "image/png": "[encoded data removed]",
      "text/plain": [
       "<Figure size 1200x600 with 1 Axes>"
      ]
     },
     "metadata": {},
     "output_type": "display_data"
    }
   ],
   "source": [
    "# Visualizar la evoluación de la concentración\n",
    "\n",
    "# Verificar qué columnas existen en el dataset\n",
    "available_columns = df_train.columns\n",
    "\n",
    "# Filtrar etapas de purificación que realmente están en los datos\n",
    "stages = [stage for stage in [\"rougher.output.concentrate_\", \"primary_cleaner.output.concentrate_\", \n",
    "                              \"secondary_cleaner.output.concentrate_\", \"final.output.concentrate_\"] \n",
    "          if any(col.startswith(stage) for col in available_columns)]\n",
    "\n",
    "# Crear gráfico corregido\n",
    "import matplotlib.pyplot as plt\n",
    "\n",
    "metals = [\"au\", \"ag\", \"pb\"]\n",
    "plt.figure(figsize=(12, 6))\n",
    "\n",
    "for metal in metals:\n",
    "    concentrations = [df_train[f\"{stage}{metal}\"].mean() for stage in stages if f\"{stage}{metal}\" in available_columns]\n",
    "    plt.plot(stages[:len(concentrations)], concentrations, marker='o', label=f\"{metal.upper()}\")\n",
    "\n",
    "plt.xlabel(\"Etapa de Purificación\")\n",
    "plt.ylabel(\"Concentración Promedio\")\n",
    "plt.title(\"Cambio en la Concentración de Metales en Función de la Purificación\")\n",
    "plt.legend()\n",
    "plt.grid()\n",
    "plt.show()"
   ]
  },
  {
   "cell_type": "code",
   "execution_count": 27,
   "metadata": {},
   "outputs": [
    {
     "data": {
      "image/png": "[encoded data removed]",
      "text/plain": [
       "<Figure size 1200x600 with 1 Axes>"
      ]
     },
     "metadata": {},
     "output_type": "display_data"
    }
   ],
   "source": [
    "plt.figure(figsize=(12, 6))\n",
    "\n",
    "# Histograma y KDE para visualizar la distribución en ambos conjuntos\n",
    "sns.histplot(df_train['primary_cleaner.input.feed_size'], kde=True, color='blue', label=\"Entrenamiento\", alpha=0.5)\n",
    "sns.histplot(df_test['primary_cleaner.input.feed_size'], kde=True, color='red', label=\"Prueba\", alpha=0.5)\n",
    "\n",
    "plt.xlabel(\"Tamaño de Partícula de Alimentación\")\n",
    "plt.ylabel(\"Frecuencia\")\n",
    "plt.title(\"Comparación de Distribuciones del Tamaño de Partículas\")\n",
    "plt.legend()\n",
    "plt.grid()\n",
    "plt.show()"
   ]
  },
  {
   "cell_type": "markdown",
   "metadata": {},
   "source": [
    "<div class=\"alert alert-block alert-success\">\n",
    "<b>Comentario revisor</b> <a class=\"tocSkip\"></a><br>\n",
    "    \n",
    "Excelente trabajo con el calculo de la de la evolución de la concentración de los matelas. Además lo complementas con gráficas que se pueden vincular a los resultados que obtienes. \n",
    "    \n",
    "\n"
   ]
  },
  {
   "cell_type": "markdown",
   "metadata": {},
   "source": [
    "# 2.3. Considera las concentraciones totales de todas las sustancias en las diferentes etapas: materia prima, concentrado rougher y concentrado final."
   ]
  },
  {
   "cell_type": "code",
   "execution_count": 28,
   "metadata": {},
   "outputs": [
    {
     "name": "stdout",
     "output_type": "stream",
     "text": [
      "\n",
      "Valores atípicos detectados:\n",
      "Materia Prima: {'rougher.input.feed_ag': 16, 'rougher.input.feed_pb': 101, 'rougher.input.feed_au': 75, 'rougher.input.feed_sol': 575}\n",
      "Concentrado Rougher: {'rougher.output.concentrate_ag': 92, 'rougher.output.concentrate_pb': 493, 'rougher.output.concentrate_au': 221, 'rougher.output.concentrate_sol': 463}\n",
      "Concentrado Final: {'final.output.concentrate_ag': 590, 'final.output.concentrate_pb': 392, 'final.output.concentrate_au': 920, 'final.output.concentrate_sol': 900}\n"
     ]
    }
   ],
   "source": [
    "# Definir las columnas clave para cada etapa ANTES de detectar valores atípicos\n",
    "raw_material = ['rougher.input.feed_ag', 'rougher.input.feed_pb', 'rougher.input.feed_au', 'rougher.input.feed_sol']\n",
    "rougher_concentrate = ['rougher.output.concentrate_ag', 'rougher.output.concentrate_pb', 'rougher.output.concentrate_au', 'rougher.output.concentrate_sol']\n",
    "final_concentrate = ['final.output.concentrate_ag', 'final.output.concentrate_pb', 'final.output.concentrate_au', 'final.output.concentrate_sol']\n",
    "\n",
    "# Función para detectar valores atípicos con IQR\n",
    "def detect_outliers(df, columns):\n",
    "    outliers = {}\n",
    "    for col in columns:\n",
    "        Q1 = df[col].quantile(0.25)\n",
    "        Q3 = df[col].quantile(0.75)\n",
    "        IQR = Q3 - Q1\n",
    "        outliers[col] = df[(df[col] < Q1 - 1.5 * IQR) | (df[col] > Q3 + 1.5 * IQR)].shape[0]\n",
    "    return outliers\n",
    "\n",
    "# Ejecutar la detección asegurando que las variables están definidas\n",
    "outliers_raw = detect_outliers(df_train, raw_material)\n",
    "outliers_rougher = detect_outliers(df_train, rougher_concentrate)\n",
    "outliers_final = detect_outliers(df_train, final_concentrate)\n",
    "\n",
    "print(\"\\nValores atípicos detectados:\")\n",
    "print(\"Materia Prima:\", outliers_raw)\n",
    "print(\"Concentrado Rougher:\", outliers_rougher)\n",
    "print(\"Concentrado Final:\", outliers_final)"
   ]
  },
  {
   "cell_type": "code",
   "execution_count": 29,
   "metadata": {},
   "outputs": [
    {
     "data": {
      "image/png": "[encoded data removed]",
      "text/plain": [
       "<Figure size 1800x600 with 3 Axes>"
      ]
     },
     "metadata": {},
     "output_type": "display_data"
    }
   ],
   "source": [
    "# Definir las columnas clave para cada etapa\n",
    "\n",
    "raw_material = ['rougher.input.feed_ag', 'rougher.input.feed_pb', 'rougher.input.feed_au', 'rougher.input.feed_sol']\n",
    "rougher_concentrate = ['rougher.output.concentrate_ag', 'rougher.output.concentrate_pb', 'rougher.output.concentrate_au', 'rougher.output.concentrate_sol']\n",
    "final_concentrate = ['final.output.concentrate_ag', 'final.output.concentrate_pb', 'final.output.concentrate_au', 'final.output.concentrate_sol']\n",
    "\n",
    "# Crear gráfico de boxplots para cada etapa\n",
    "\n",
    "fig, axes = plt.subplots(1, 3, figsize=(18,6))\n",
    "\n",
    "sns.boxplot(data=df_train[raw_material], ax=axes[0])\n",
    "axes[0].set_title(\"Distribución de Materia Prima\")\n",
    "\n",
    "sns.boxplot(data=df_train[rougher_concentrate], ax=axes[1])\n",
    "axes[1].set_title(\"Distribución de Concentrado Rougher\")\n",
    "\n",
    "sns.boxplot(data=df_train[final_concentrate], ax=axes[2])\n",
    "axes[2].set_title(\"Distribución de Concentrado Final\")\n",
    "\n",
    "plt.tight_layout()\n",
    "plt.show()"
   ]
  },
  {
   "cell_type": "code",
   "execution_count": 30,
   "metadata": {},
   "outputs": [
    {
     "data": {
      "image/png": "[encoded data removed]",
      "text/plain": [
       "<Figure size 1400x1200 with 6 Axes>"
      ]
     },
     "metadata": {},
     "output_type": "display_data"
    }
   ],
   "source": [
    "# Definir las etapas a visualizar\n",
    "etapas = {\n",
    "    \"Materia Prima\": ['rougher.input.feed_ag', 'rougher.input.feed_pb', 'rougher.input.feed_au', 'rougher.input.feed_sol'],\n",
    "    \"Concentrado Rougher\": ['rougher.output.concentrate_ag', 'rougher.output.concentrate_pb', 'rougher.output.concentrate_au', 'rougher.output.concentrate_sol'],\n",
    "    \"Concentrado Final\": ['final.output.concentrate_ag', 'final.output.concentrate_pb', 'final.output.concentrate_au', 'final.output.concentrate_sol']\n",
    "}\n",
    "\n",
    "# Crear histogramas y gráficos KDE para cada etapa\n",
    "fig, axes = plt.subplots(len(etapas), 2, figsize=(14, 12))\n",
    "\n",
    "for i, (etapa, columnas) in enumerate(etapas.items()):\n",
    "    for columna in columnas:\n",
    "        sns.histplot(df_train[columna], kde=False, bins=30, ax=axes[i, 0], alpha=0.6, label=columna)\n",
    "        sns.kdeplot(df_train[columna], ax=axes[i, 1], label=columna, linewidth=2)\n",
    "\n",
    "    axes[i, 0].set_title(f\"Histograma - {etapa}\")\n",
    "    axes[i, 1].set_title(f\"KDE - {etapa}\")\n",
    "    axes[i, 0].set_xlabel(\"Concentración\")\n",
    "    axes[i, 1].set_xlabel(\"Concentración\")\n",
    "    axes[i, 0].set_ylabel(\"Frecuencia\")\n",
    "    axes[i, 1].set_ylabel(\"Densidad\")\n",
    "    axes[i, 0].legend()\n",
    "    axes[i, 1].legend()\n",
    "\n",
    "plt.tight_layout()\n",
    "plt.show()"
   ]
  },
  {
   "cell_type": "code",
   "execution_count": 31,
   "metadata": {},
   "outputs": [
    {
     "name": "stdout",
     "output_type": "stream",
     "text": [
      "\n",
      "Tamaño después de la eliminación de valores atípicos:\n",
      "Train: (1228, 90)\n",
      "Test: (200, 55)\n"
     ]
    }
   ],
   "source": [
    "# Definir las columnas clave para cada etapa\n",
    "raw_material = ['rougher.input.feed_ag', 'rougher.input.feed_pb', 'rougher.input.feed_au', 'rougher.input.feed_sol']\n",
    "rougher_concentrate = ['rougher.output.concentrate_ag', 'rougher.output.concentrate_pb', 'rougher.output.concentrate_au', 'rougher.output.concentrate_sol']\n",
    "final_concentrate = ['final.output.concentrate_ag', 'final.output.concentrate_pb', 'final.output.concentrate_au', 'final.output.concentrate_sol']\n",
    "\n",
    "# Función para eliminar valores atípicos con IQR\n",
    "def remove_outliers(df, columns):\n",
    "    for col in columns:\n",
    "        Q1 = df[col].quantile(0.25)\n",
    "        Q3 = df[col].quantile(0.75)\n",
    "        IQR = Q3 - Q1\n",
    "        df = df[(df[col] >= Q1 - 1.5 * IQR) & (df[col] <= Q3 + 1.5 * IQR)]\n",
    "    return df\n",
    "\n",
    "# Asegurar que trabajamos solo con columnas en ambos datasets\n",
    "common_columns = df_train.columns.intersection(df_test.columns)\n",
    "\n",
    "# Aplicar eliminación de valores atípicos\n",
    "df_train_filtered = remove_outliers(df_train, common_columns)\n",
    "df_test_filtered = remove_outliers(df_test, common_columns)\n",
    "\n",
    "print(\"\\nTamaño después de la eliminación de valores atípicos:\")\n",
    "print(\"Train:\", df_train_filtered.shape)\n",
    "print(\"Test:\", df_test_filtered.shape)"
   ]
  },
  {
   "cell_type": "markdown",
   "metadata": {},
   "source": [
    "**Conclusiones de la Instrucción 2 - Análisis de Distribuciones y Valores Atípicos:**\n",
    "\n",
    "**2.1 Comparación de distribuciones de tamaño de partículas**\n",
    "\n",
    "- Se compararon las distribuciones de tamaño de partículas en los conjuntos de entrenamiento y prueba.\n",
    "\n",
    "- No se observaron diferencias significativas, lo que sugiere que el modelo no tendrá problemas de generalización.\n",
    "\n",
    "- Si la distribución variara significativamente entre entrenamiento y prueba, la evaluación del modelo no sería correcta.\n",
    "\n",
    "**2.2 Análisis de concentraciones en distintas etapas del proceso:**\n",
    "\n",
    "- Se analizaron las concentraciones de metales (Au, Ag, Pb) desde la materia prima hasta el concentrado final.\n",
    "\n",
    "- Se observaron valores extremos en algunos metales, principalmente en final.output.concentrate_au.\n",
    "\n",
    "- La distribución de ciertos elementos como Sol mostró una alta concentración.\n",
    "\n",
    "**2.3 Eliminación de valores atípicos:**\n",
    "\n",
    "- Se identificaron valores anómalos mediante el método IQR en cada etapa del proceso.\n",
    "\n",
    "- Se procedió con la eliminación de valores fuera del rango esperado para estabilizar el dataset.\n",
    "\n",
    "- Tras la limpieza, el conjunto de entrenamiento quedó con 1,228 registros y el de prueba con 200 registros.\n",
    "\n",
    "- Esto mejora la estabilidad del modelo al reducir el impacto de datos extremos.\n",
    "\n",
    "**Conclusión general:**\n",
    "\n",
    "- La estructura del dataset se mantiene representativa después de eliminar valores atípicos.\n",
    "\n",
    "- La similitud de las distribuciones entre los conjuntos de entrenamiento y prueba asegura que el modelo tendrá una evaluación correcta.\n",
    "\n",
    "- Con estos ajustes, el modelo puede entrenarse de manera más estable y confiable."
   ]
  },
  {
   "cell_type": "markdown",
   "metadata": {},
   "source": [
    "<div class=\"alert alert-block alert-success\">\n",
    "<b>Comentario revisor</b> <a class=\"tocSkip\"></a><br>\n",
    "    \n",
    "Gran trabajo con el análisis de de valores atípicos usando el metodo de intecuartiles. Esto es importante en los análisis dado que evite que estemos considerando sesgos en los resultados.     \n",
    "\n",
    "\n"
   ]
  },
  {
   "cell_type": "markdown",
   "metadata": {},
   "source": [
    "# 3.1. Escribe una función para calcular el valor final de sMAPE."
   ]
  },
  {
   "cell_type": "code",
   "execution_count": 32,
   "metadata": {},
   "outputs": [
    {
     "name": "stdout",
     "output_type": "stream",
     "text": [
      "sMAPE: 5.115587186556267\n"
     ]
    }
   ],
   "source": [
    "def smape(y_real, y_pred):\n",
    "    \"\"\"\n",
    "    Calcula el Symmetric Mean Absolute Percentage Error (sMAPE).\n",
    "    \n",
    "    Parámetros:\n",
    "    - y_real: Array de valores reales.\n",
    "    - y_pred: Array de valores predichos.\n",
    "\n",
    "    Retorna:\n",
    "    - Valor de sMAPE en porcentaje.\n",
    "    \"\"\"\n",
    "    y_real, y_pred = np.array(y_real), np.array(y_pred)\n",
    "    smape_value = 100 * np.mean(np.abs(y_pred - y_real) / ((np.abs(y_real) + np.abs(y_pred)) / 2))\n",
    "    return smape_value\n",
    "\n",
    "# Ejemplo de uso\n",
    "y_real = np.array([100, 200, 300, 400])\n",
    "y_pred = np.array([110, 190, 310, 390])\n",
    "print(\"sMAPE:\", smape(y_real, y_pred))"
   ]
  },
  {
   "cell_type": "markdown",
   "metadata": {},
   "source": [
    "<div class=\"alert alert-block alert-success\">\n",
    "<b>Comentario revisor</b> <a class=\"tocSkip\"></a><br>\n",
    "    \n",
    "Excelente trabajo con el calculo de la metrica sMAPE personalizada, con esto ponderamos de forma correcta la importancia relativa en cada una de las etapas. Edto ayuda a entender el impacto relativo de cada error.     \n",
    "\n",
    "</div>"
   ]
  },
  {
   "cell_type": "markdown",
   "metadata": {},
   "source": [
    "# 3.2. Entrena diferentes modelos. Evalúalos aplicando la validación cruzada. Elige el mejor modelo y pruébalo utilizando la muestra de prueba. Facilita los resultados."
   ]
  },
  {
   "cell_type": "code",
   "execution_count": 33,
   "metadata": {},
   "outputs": [
    {
     "name": "stdout",
     "output_type": "stream",
     "text": [
      "Tamaño de los conjuntos:\n",
      "X_train: (982, 88)\n",
      "X_test: (246, 88)\n",
      "y_train: (982, 2)\n",
      "y_test: (246, 2)\n"
     ]
    }
   ],
   "source": [
    "# Definir las variables objetivo\n",
    "\n",
    "target_columns = ['rougher.output.recovery', 'final.output.recovery']\n",
    "\n",
    "# Definir las características eliminando las variables objetivo\n",
    "\n",
    "features = df_train_filtered.drop(columns=target_columns)\n",
    "targets = df_train_filtered[target_columns]\n",
    "\n",
    "# División en entrenamiento y prueba\n",
    "\n",
    "X_train, X_test, y_train, y_test = train_test_split(features, targets, test_size=0.2, random_state=42)\n",
    "\n",
    "print(\"Tamaño de los conjuntos:\")\n",
    "print(\"X_train:\", X_train.shape)\n",
    "print(\"X_test:\", X_test.shape)\n",
    "print(\"y_train:\", y_train.shape)\n",
    "print(\"y_test:\", y_test.shape)"
   ]
  },
  {
   "cell_type": "code",
   "execution_count": 34,
   "metadata": {},
   "outputs": [
    {
     "name": "stdout",
     "output_type": "stream",
     "text": [
      "\n",
      "Resultados de Validación Cruzada:\n",
      "Linear Regression: MAE = 0.6405\n",
      "Decision Tree: MAE = 1.8085\n",
      "Random Forest: MAE = 1.1827\n"
     ]
    }
   ],
   "source": [
    "# Definir los modelos\n",
    "\n",
    "models = {\n",
    "    \"Linear Regression\": LinearRegression(),\n",
    "    \"Decision Tree\": DecisionTreeRegressor(random_state=42),\n",
    "    \"Random Forest\": RandomForestRegressor(n_estimators=100, random_state=42)\n",
    "}\n",
    "\n",
    "# Evaluación con validación cruzada\n",
    "\n",
    "results = {}\n",
    "\n",
    "for name, model in models.items():\n",
    "    scores = cross_val_score(model, X_train, y_train, cv=5, scoring='neg_mean_absolute_error')\n",
    "    results[name] = np.mean(scores) * -1  # Convertir MAE a positivo\n",
    "\n",
    "# Mostrar resultados\n",
    "\n",
    "print(\"\\nResultados de Validación Cruzada:\")\n",
    "for model, score in results.items():\n",
    "    print(f\"{model}: MAE = {score:.4f}\")"
   ]
  },
  {
   "cell_type": "markdown",
   "metadata": {},
   "source": [
    "**Análisis de los resultados:**\n",
    "\n",
    "- Los conjuntos de entrenamiento y prueba están bien distribuidos (X_train: 982, X_test: 246), asegurando un tamaño adecuado para evaluar el modelo.\n",
    "\n",
    "- El mejor modelo según MAE es Linear Regression, con un error de 0.6405, significativamente menor que los otros métodos.\n",
    "\n",
    "- Decision Tree tiene el MAE más alto (1.8085), lo que indica que es el modelo menos preciso en esta validación.\n",
    "\n",
    "- Random Forest mejora respecto a Decision Tree, pero su error (1.1827) sigue siendo mayor al de Linear Regression.\n",
    "\n",
    "- Esto sugiere que Linear Regression generaliza mejor la relación entre variables, evitando sobreajuste."
   ]
  },
  {
   "cell_type": "code",
   "execution_count": 35,
   "metadata": {},
   "outputs": [
    {
     "name": "stdout",
     "output_type": "stream",
     "text": [
      "sMAPE Rougher: 0.3828\n",
      "sMAPE Final: 1.3713\n",
      "sMAPE Total: 1.1242\n"
     ]
    }
   ],
   "source": [
    "# Entrenar el modelo de Linear Regression\n",
    "\n",
    "lr_model = LinearRegression()\n",
    "lr_model.fit(X_train, y_train)\n",
    "\n",
    "# Realizar predicciones en el conjunto de prueba\n",
    "\n",
    "y_pred_test = lr_model.predict(X_test)\n",
    "\n",
    "# Función para calcular sMAPE\n",
    "\n",
    "def smape(y_real, y_pred):\n",
    "    y_real, y_pred = np.array(y_real), np.array(y_pred)\n",
    "    return 100 * np.mean(np.abs(y_pred - y_real) / ((np.abs(y_real) + np.abs(y_pred)) / 2))\n",
    "\n",
    "# Calcular sMAPE para rougher y final\n",
    "\n",
    "smape_rougher = smape(y_test['rougher.output.recovery'], y_pred_test[:,0])\n",
    "smape_final = smape(y_test['final.output.recovery'], y_pred_test[:,1])\n",
    "\n",
    "# Calcular sMAPE final ponderado\n",
    "\n",
    "smape_total = 0.25 * smape_rougher + 0.75 * smape_final\n",
    "\n",
    "# Mostrar resultados\n",
    "print(f\"sMAPE Rougher: {smape_rougher:.4f}\")\n",
    "print(f\"sMAPE Final: {smape_final:.4f}\")\n",
    "print(f\"sMAPE Total: {smape_total:.4f}\")"
   ]
  },
  {
   "cell_type": "markdown",
   "metadata": {},
   "source": [
    "<div class=\"alert alert-block alert-success\">\n",
    "<b>Comentario revisor</b> <a class=\"tocSkip\"></a><br>\n",
    "    \n",
    "\n",
    "    \n",
    "Hola, Daniel! Has realizado un excelente trabajo, el proyecto cuenta con una estructua correcta y con la aplicación de todos los aprendizajes de manera perfecta, Además las etapas de modelado mediantes tres metodos es correcta, así como su comparación. Desde la limpieza de los datos y los calculos de las métricas. Sigue con el excelente trabajo!    \n",
    "\n",
    "\n"
   ]
  },
  {
   "cell_type": "markdown",
   "metadata": {},
   "source": [
    "**Análisis de los resultados:**\n",
    "\n",
    "- El sMAPE Rougher es bastante bajo (0.3828), lo que indica que el modelo predice bien la recuperación en la etapa rougher.\n",
    "\n",
    "- El sMAPE Final es mayor (1.3713), lo que sugiere que hay más variabilidad en la recuperación en la etapa final.\n",
    "\n",
    "- El sMAPE Total es 1.1242, lo que nos da una visión global del desempeño del modelo en ambas etapas.\n",
    "\n",
    "- Aunque el error en la etapa final es más alto, el sMAPE Total sigue siendo razonablemente bajo, indicando que el modelo tiene una precisión aceptable en general.\n",
    "\n",
    "**Conclusión final:**\n",
    "\n",
    "- El modelo Linear Regression ha demostrado ser el más eficiente en comparación con Random Forest y Decision Tree.\n",
    "\n",
    "- La precisión en la etapa rougher es muy buena, se podrían explorar mejoras en la etapa final, tal vez probando técnicas adicionales como la selección de características o modelos más avanzados.\n",
    "\n",
    "- Los resultados indican que el modelo está bien calibrado y puede usarse como referencia sólida para la predicción de recuperación en el proceso de purificación del oro."
   ]
  },
  {
   "cell_type": "markdown",
   "metadata": {},
   "source": [
    "   **Conclusiones y Hallazgos del Proyecto - Optimización del Modelo de Recuperación de Oro:**\n",
    "\n",
    "**1. Análisis de Datos Inicial:**\n",
    "\n",
    "- Se realizó una exploración de datos para entender la estructura del dataset.\n",
    "\n",
    "- Se identificaron distribuciones clave y relaciones entre variables para el proceso de purificación.\n",
    "\n",
    "- Se detectaron valores faltantes y anomalías en ciertas etapas del proceso.\n",
    "\n",
    "**2. Evaluación y Limpieza de Datos:**\n",
    "\n",
    "- Se compararon distribuciones para verificar la coherencia entre conjuntos de entrenamiento y prueba.\n",
    "\n",
    "- Se aplicó eliminación de valores atípicos usando el método IQR, reduciendo el ruido en los datos.\n",
    "\n",
    "- La eliminación de anomalías mejoró la estabilidad del dataset y evitó sesgos en la evaluación del modelo.\n",
    "\n",
    "**3. Construcción del Modelo:**\n",
    "\n",
    "- Se entrenaron diferentes modelos (Linear Regression, Decision Tree, Random Forest) con validación cruzada.\n",
    "\n",
    "- Linear Regression demostró ser el modelo más eficiente con un MAE de 0.6405, menor que los otros enfoques.\n",
    "\n",
    "- Se seleccionó Linear Regression como el mejor modelo y se evaluó con el conjunto de prueba.\n",
    "\n",
    "\n",
    "**4. Evaluación Final y sMAPE:**\n",
    "\n",
    "- Se calculó el sMAPE Rougher (0.3828) y sMAPE Final (1.3713).\n",
    "\n",
    "- El sMAPE Total fue 1.1242, indicando una precisión aceptable, pero con posibilidad de optimización en la etapa final.\n",
    "\n",
    "- La evaluación demostró que el modelo generaliza bien en la etapa rougher, aunque puede mejorarse en la fase final.\n",
    "\n",
    "**HALLAZGOS CLAVE:**\n",
    "\n",
    "- La eliminación de valores atípicos y la validación cruzada fueron determinantes en la estabilidad del modelo.\n",
    "\n",
    "- Linear Regression fue el modelo más eficiente, evitando el sobreajuste presente en Decision Tree y Random Forest.\n",
    "\n",
    "- Si se busca mejorar la precisión en la etapa final, se podrían explorar técnicas avanzadas como selección de características o modelos como Gradient Boosting."
   ]
  }
 ],
 "metadata": {
  "ExecuteTimeLog": [
   {
    "duration": 325,
    "start_time": "2025-05-07T04:07:52.656Z"
   },
   {
    "duration": 619,
    "start_time": "2025-05-07T04:07:52.982Z"
   },
   {
    "duration": 40,
    "start_time": "2025-05-07T04:07:53.603Z"
   },
   {
    "duration": 21,
    "start_time": "2025-05-07T04:07:53.645Z"
   },
   {
    "duration": 400,
    "start_time": "2025-05-07T04:07:53.668Z"
   },
   {
    "duration": 3,
    "start_time": "2025-05-07T04:07:54.069Z"
   },
   {
    "duration": 12,
    "start_time": "2025-05-07T04:07:54.074Z"
   },
   {
    "duration": 176,
    "start_time": "2025-05-07T04:07:54.087Z"
   },
   {
    "duration": 370,
    "start_time": "2025-05-07T04:26:11.833Z"
   },
   {
    "duration": 2291,
    "start_time": "2025-05-07T04:26:17.521Z"
   },
   {
    "duration": 506,
    "start_time": "2025-05-07T04:26:19.814Z"
   },
   {
    "duration": 31,
    "start_time": "2025-05-07T04:26:20.322Z"
   },
   {
    "duration": 20,
    "start_time": "2025-05-07T04:26:20.355Z"
   },
   {
    "duration": 403,
    "start_time": "2025-05-07T04:26:20.377Z"
   },
   {
    "duration": 3,
    "start_time": "2025-05-07T04:26:20.782Z"
   },
   {
    "duration": 12,
    "start_time": "2025-05-07T04:26:20.787Z"
   },
   {
    "duration": 170,
    "start_time": "2025-05-07T04:26:20.800Z"
   },
   {
    "duration": 1369,
    "start_time": "2025-05-07T04:26:20.972Z"
   },
   {
    "duration": 216,
    "start_time": "2025-05-07T04:33:26.338Z"
   },
   {
    "duration": 9,
    "start_time": "2025-05-07T04:38:01.194Z"
   },
   {
    "duration": 41,
    "start_time": "2025-05-07T04:38:25.884Z"
   },
   {
    "duration": 9,
    "start_time": "2025-05-07T04:39:10.162Z"
   },
   {
    "duration": 15,
    "start_time": "2025-05-07T04:40:35.119Z"
   },
   {
    "duration": 9,
    "start_time": "2025-05-07T04:40:52.365Z"
   },
   {
    "duration": 4,
    "start_time": "2025-05-07T04:46:28.464Z"
   },
   {
    "duration": 66,
    "start_time": "2025-05-07T04:54:05.438Z"
   },
   {
    "duration": 3,
    "start_time": "2025-05-07T04:54:08.969Z"
   },
   {
    "duration": 503,
    "start_time": "2025-05-07T04:54:08.977Z"
   },
   {
    "duration": 28,
    "start_time": "2025-05-07T04:54:09.483Z"
   },
   {
    "duration": 25,
    "start_time": "2025-05-07T04:54:09.525Z"
   },
   {
    "duration": 450,
    "start_time": "2025-05-07T04:54:09.552Z"
   },
   {
    "duration": 3,
    "start_time": "2025-05-07T04:54:10.005Z"
   },
   {
    "duration": 16,
    "start_time": "2025-05-07T04:54:10.025Z"
   },
   {
    "duration": 161,
    "start_time": "2025-05-07T04:54:10.043Z"
   },
   {
    "duration": 1400,
    "start_time": "2025-05-07T04:54:10.206Z"
   },
   {
    "duration": 217,
    "start_time": "2025-05-07T04:54:11.608Z"
   },
   {
    "duration": 12,
    "start_time": "2025-05-07T04:54:11.827Z"
   },
   {
    "duration": 31,
    "start_time": "2025-05-07T04:54:11.842Z"
   },
   {
    "duration": 10,
    "start_time": "2025-05-07T04:54:11.875Z"
   },
   {
    "duration": 44,
    "start_time": "2025-05-07T04:54:11.887Z"
   },
   {
    "duration": 4,
    "start_time": "2025-05-07T04:54:11.935Z"
   },
   {
    "duration": 7,
    "start_time": "2025-05-07T04:54:11.941Z"
   },
   {
    "duration": 9,
    "start_time": "2025-05-07T04:57:35.414Z"
   },
   {
    "duration": 7,
    "start_time": "2025-05-07T04:58:49.229Z"
   },
   {
    "duration": 6,
    "start_time": "2025-05-07T05:06:23.214Z"
   },
   {
    "duration": 8,
    "start_time": "2025-05-07T05:06:25.583Z"
   },
   {
    "duration": 17,
    "start_time": "2025-05-07T05:08:43.403Z"
   },
   {
    "duration": 12,
    "start_time": "2025-05-07T05:08:52.705Z"
   },
   {
    "duration": 15,
    "start_time": "2025-05-07T05:14:18.651Z"
   },
   {
    "duration": 11,
    "start_time": "2025-05-07T05:16:04.931Z"
   },
   {
    "duration": 2651,
    "start_time": "2025-05-07T15:16:46.332Z"
   },
   {
    "duration": 602,
    "start_time": "2025-05-07T15:16:48.986Z"
   },
   {
    "duration": 30,
    "start_time": "2025-05-07T15:16:49.590Z"
   },
   {
    "duration": 29,
    "start_time": "2025-05-07T15:16:49.622Z"
   },
   {
    "duration": 417,
    "start_time": "2025-05-07T15:16:49.653Z"
   },
   {
    "duration": 4,
    "start_time": "2025-05-07T15:16:50.071Z"
   },
   {
    "duration": 12,
    "start_time": "2025-05-07T15:16:50.077Z"
   },
   {
    "duration": 169,
    "start_time": "2025-05-07T15:16:50.091Z"
   },
   {
    "duration": 1422,
    "start_time": "2025-05-07T15:16:50.262Z"
   },
   {
    "duration": 200,
    "start_time": "2025-05-07T15:16:51.685Z"
   },
   {
    "duration": 8,
    "start_time": "2025-05-07T15:16:51.887Z"
   },
   {
    "duration": 41,
    "start_time": "2025-05-07T15:16:51.897Z"
   },
   {
    "duration": 11,
    "start_time": "2025-05-07T15:16:51.940Z"
   },
   {
    "duration": 11,
    "start_time": "2025-05-07T15:16:51.961Z"
   },
   {
    "duration": 3,
    "start_time": "2025-05-07T15:16:51.974Z"
   },
   {
    "duration": 7,
    "start_time": "2025-05-07T15:16:51.979Z"
   },
   {
    "duration": 10,
    "start_time": "2025-05-07T15:16:51.987Z"
   },
   {
    "duration": 35,
    "start_time": "2025-05-07T15:16:51.999Z"
   },
   {
    "duration": 14,
    "start_time": "2025-05-07T15:16:52.036Z"
   },
   {
    "duration": 10,
    "start_time": "2025-05-07T15:16:52.052Z"
   },
   {
    "duration": 13,
    "start_time": "2025-05-07T15:16:52.064Z"
   },
   {
    "duration": 6,
    "start_time": "2025-05-07T15:16:52.078Z"
   },
   {
    "duration": 833,
    "start_time": "2025-05-07T15:17:09.934Z"
   },
   {
    "duration": 485,
    "start_time": "2025-05-07T15:17:10.769Z"
   },
   {
    "duration": 30,
    "start_time": "2025-05-07T15:17:11.255Z"
   },
   {
    "duration": 21,
    "start_time": "2025-05-07T15:17:11.287Z"
   },
   {
    "duration": 415,
    "start_time": "2025-05-07T15:17:11.310Z"
   },
   {
    "duration": 3,
    "start_time": "2025-05-07T15:17:11.731Z"
   },
   {
    "duration": 13,
    "start_time": "2025-05-07T15:17:11.736Z"
   },
   {
    "duration": 175,
    "start_time": "2025-05-07T15:17:11.751Z"
   },
   {
    "duration": 1475,
    "start_time": "2025-05-07T15:17:11.928Z"
   },
   {
    "duration": 199,
    "start_time": "2025-05-07T15:17:13.407Z"
   },
   {
    "duration": 8,
    "start_time": "2025-05-07T15:17:13.608Z"
   },
   {
    "duration": 44,
    "start_time": "2025-05-07T15:17:13.618Z"
   },
   {
    "duration": 9,
    "start_time": "2025-05-07T15:17:13.665Z"
   },
   {
    "duration": 6,
    "start_time": "2025-05-07T15:17:13.675Z"
   },
   {
    "duration": 4,
    "start_time": "2025-05-07T15:17:13.682Z"
   },
   {
    "duration": 7,
    "start_time": "2025-05-07T15:17:13.687Z"
   },
   {
    "duration": 38,
    "start_time": "2025-05-07T15:17:13.695Z"
   },
   {
    "duration": 5,
    "start_time": "2025-05-07T15:17:13.735Z"
   },
   {
    "duration": 12,
    "start_time": "2025-05-07T15:17:13.742Z"
   },
   {
    "duration": 11,
    "start_time": "2025-05-07T15:17:13.758Z"
   },
   {
    "duration": 11,
    "start_time": "2025-05-07T15:17:13.771Z"
   },
   {
    "duration": 5,
    "start_time": "2025-05-07T15:17:13.784Z"
   },
   {
    "duration": 6,
    "start_time": "2025-05-07T19:08:23.996Z"
   },
   {
    "duration": 3,
    "start_time": "2025-05-07T19:11:35.095Z"
   },
   {
    "duration": 41,
    "start_time": "2025-05-07T19:22:27.643Z"
   },
   {
    "duration": 39,
    "start_time": "2025-05-07T19:22:39.629Z"
   },
   {
    "duration": 216,
    "start_time": "2025-05-07T19:23:13.841Z"
   },
   {
    "duration": 130,
    "start_time": "2025-05-07T19:23:21.964Z"
   },
   {
    "duration": 471,
    "start_time": "2025-05-07T19:23:22.096Z"
   },
   {
    "duration": 29,
    "start_time": "2025-05-07T19:23:22.569Z"
   },
   {
    "duration": 18,
    "start_time": "2025-05-07T19:23:22.601Z"
   },
   {
    "duration": 383,
    "start_time": "2025-05-07T19:23:22.631Z"
   },
   {
    "duration": 4,
    "start_time": "2025-05-07T19:23:23.016Z"
   },
   {
    "duration": 12,
    "start_time": "2025-05-07T19:23:23.031Z"
   },
   {
    "duration": 156,
    "start_time": "2025-05-07T19:23:23.045Z"
   },
   {
    "duration": 1361,
    "start_time": "2025-05-07T19:23:23.203Z"
   },
   {
    "duration": 206,
    "start_time": "2025-05-07T19:23:24.568Z"
   },
   {
    "duration": 9,
    "start_time": "2025-05-07T19:23:24.776Z"
   },
   {
    "duration": 28,
    "start_time": "2025-05-07T19:23:24.786Z"
   },
   {
    "duration": 9,
    "start_time": "2025-05-07T19:23:24.831Z"
   },
   {
    "duration": 7,
    "start_time": "2025-05-07T19:23:24.842Z"
   },
   {
    "duration": 3,
    "start_time": "2025-05-07T19:23:24.851Z"
   },
   {
    "duration": 6,
    "start_time": "2025-05-07T19:23:24.856Z"
   },
   {
    "duration": 8,
    "start_time": "2025-05-07T19:23:24.864Z"
   },
   {
    "duration": 7,
    "start_time": "2025-05-07T19:23:24.874Z"
   },
   {
    "duration": 59,
    "start_time": "2025-05-07T19:23:24.882Z"
   },
   {
    "duration": 10,
    "start_time": "2025-05-07T19:23:24.943Z"
   },
   {
    "duration": 11,
    "start_time": "2025-05-07T19:23:24.954Z"
   },
   {
    "duration": 7,
    "start_time": "2025-05-07T19:23:24.967Z"
   },
   {
    "duration": 7,
    "start_time": "2025-05-07T19:23:24.976Z"
   },
   {
    "duration": 4,
    "start_time": "2025-05-07T19:23:24.984Z"
   },
   {
    "duration": 78,
    "start_time": "2025-05-07T19:23:24.989Z"
   },
   {
    "duration": 384,
    "start_time": "2025-05-07T19:23:25.069Z"
   },
   {
    "duration": 148,
    "start_time": "2025-05-07T19:24:02.994Z"
   },
   {
    "duration": 147,
    "start_time": "2025-05-07T19:24:37.863Z"
   },
   {
    "duration": 23,
    "start_time": "2025-05-07T19:27:08.353Z"
   },
   {
    "duration": 290,
    "start_time": "2025-05-07T19:27:17.696Z"
   },
   {
    "duration": 43,
    "start_time": "2025-05-07T19:27:25.588Z"
   },
   {
    "duration": 7,
    "start_time": "2025-05-07T19:27:32.528Z"
   },
   {
    "duration": 482,
    "start_time": "2025-05-07T19:27:32.537Z"
   },
   {
    "duration": 30,
    "start_time": "2025-05-07T19:27:33.021Z"
   },
   {
    "duration": 18,
    "start_time": "2025-05-07T19:27:33.053Z"
   },
   {
    "duration": 394,
    "start_time": "2025-05-07T19:27:33.074Z"
   },
   {
    "duration": 3,
    "start_time": "2025-05-07T19:27:33.470Z"
   },
   {
    "duration": 13,
    "start_time": "2025-05-07T19:27:33.475Z"
   },
   {
    "duration": 163,
    "start_time": "2025-05-07T19:27:33.489Z"
   },
   {
    "duration": 1329,
    "start_time": "2025-05-07T19:27:33.654Z"
   },
   {
    "duration": 212,
    "start_time": "2025-05-07T19:27:34.985Z"
   },
   {
    "duration": 8,
    "start_time": "2025-05-07T19:27:35.199Z"
   },
   {
    "duration": 48,
    "start_time": "2025-05-07T19:27:35.209Z"
   },
   {
    "duration": 17,
    "start_time": "2025-05-07T19:27:35.259Z"
   },
   {
    "duration": 6,
    "start_time": "2025-05-07T19:27:35.280Z"
   },
   {
    "duration": 5,
    "start_time": "2025-05-07T19:27:35.287Z"
   },
   {
    "duration": 6,
    "start_time": "2025-05-07T19:27:35.293Z"
   },
   {
    "duration": 10,
    "start_time": "2025-05-07T19:27:35.300Z"
   },
   {
    "duration": 6,
    "start_time": "2025-05-07T19:27:35.330Z"
   },
   {
    "duration": 14,
    "start_time": "2025-05-07T19:27:35.337Z"
   },
   {
    "duration": 9,
    "start_time": "2025-05-07T19:27:35.353Z"
   },
   {
    "duration": 12,
    "start_time": "2025-05-07T19:27:35.364Z"
   },
   {
    "duration": 6,
    "start_time": "2025-05-07T19:27:35.377Z"
   },
   {
    "duration": 7,
    "start_time": "2025-05-07T19:27:35.385Z"
   },
   {
    "duration": 39,
    "start_time": "2025-05-07T19:27:35.393Z"
   },
   {
    "duration": 42,
    "start_time": "2025-05-07T19:27:35.434Z"
   },
   {
    "duration": 165,
    "start_time": "2025-05-07T19:27:35.479Z"
   },
   {
    "duration": 0,
    "start_time": "2025-05-07T19:27:35.647Z"
   },
   {
    "duration": 22,
    "start_time": "2025-05-07T19:27:44.169Z"
   },
   {
    "duration": 123,
    "start_time": "2025-05-07T19:29:41.026Z"
   },
   {
    "duration": 54,
    "start_time": "2025-05-07T19:38:34.002Z"
   },
   {
    "duration": 3,
    "start_time": "2025-05-07T19:38:45.326Z"
   },
   {
    "duration": 488,
    "start_time": "2025-05-07T19:38:45.331Z"
   },
   {
    "duration": 41,
    "start_time": "2025-05-07T19:38:45.821Z"
   },
   {
    "duration": 20,
    "start_time": "2025-05-07T19:38:45.864Z"
   },
   {
    "duration": 409,
    "start_time": "2025-05-07T19:38:45.888Z"
   },
   {
    "duration": 2,
    "start_time": "2025-05-07T19:38:46.299Z"
   },
   {
    "duration": 13,
    "start_time": "2025-05-07T19:38:46.302Z"
   },
   {
    "duration": 177,
    "start_time": "2025-05-07T19:38:46.317Z"
   },
   {
    "duration": 1400,
    "start_time": "2025-05-07T19:38:46.496Z"
   },
   {
    "duration": 206,
    "start_time": "2025-05-07T19:38:47.898Z"
   },
   {
    "duration": 7,
    "start_time": "2025-05-07T19:38:48.106Z"
   },
   {
    "duration": 41,
    "start_time": "2025-05-07T19:38:48.114Z"
   },
   {
    "duration": 14,
    "start_time": "2025-05-07T19:38:48.159Z"
   },
   {
    "duration": 7,
    "start_time": "2025-05-07T19:38:48.175Z"
   },
   {
    "duration": 4,
    "start_time": "2025-05-07T19:38:48.184Z"
   },
   {
    "duration": 8,
    "start_time": "2025-05-07T19:38:48.190Z"
   },
   {
    "duration": 32,
    "start_time": "2025-05-07T19:38:48.200Z"
   },
   {
    "duration": 6,
    "start_time": "2025-05-07T19:38:48.234Z"
   },
   {
    "duration": 14,
    "start_time": "2025-05-07T19:38:48.242Z"
   },
   {
    "duration": 10,
    "start_time": "2025-05-07T19:38:48.257Z"
   },
   {
    "duration": 11,
    "start_time": "2025-05-07T19:38:48.269Z"
   },
   {
    "duration": 6,
    "start_time": "2025-05-07T19:38:48.281Z"
   },
   {
    "duration": 5,
    "start_time": "2025-05-07T19:38:48.288Z"
   },
   {
    "duration": 37,
    "start_time": "2025-05-07T19:38:48.295Z"
   },
   {
    "duration": 42,
    "start_time": "2025-05-07T19:38:48.334Z"
   },
   {
    "duration": 67,
    "start_time": "2025-05-07T19:38:48.378Z"
   },
   {
    "duration": 0,
    "start_time": "2025-05-07T19:38:48.447Z"
   },
   {
    "duration": 0,
    "start_time": "2025-05-07T19:38:48.447Z"
   },
   {
    "duration": 927,
    "start_time": "2025-05-07T19:39:38.024Z"
   },
   {
    "duration": 504,
    "start_time": "2025-05-07T19:39:38.954Z"
   },
   {
    "duration": 82,
    "start_time": "2025-05-07T19:39:39.460Z"
   },
   {
    "duration": 21,
    "start_time": "2025-05-07T19:39:39.545Z"
   },
   {
    "duration": 384,
    "start_time": "2025-05-07T19:39:39.567Z"
   },
   {
    "duration": 4,
    "start_time": "2025-05-07T19:39:39.952Z"
   },
   {
    "duration": 12,
    "start_time": "2025-05-07T19:39:39.957Z"
   },
   {
    "duration": 172,
    "start_time": "2025-05-07T19:39:39.971Z"
   },
   {
    "duration": 1379,
    "start_time": "2025-05-07T19:39:40.145Z"
   },
   {
    "duration": 200,
    "start_time": "2025-05-07T19:39:41.527Z"
   },
   {
    "duration": 7,
    "start_time": "2025-05-07T19:39:41.729Z"
   },
   {
    "duration": 31,
    "start_time": "2025-05-07T19:39:41.738Z"
   },
   {
    "duration": 11,
    "start_time": "2025-05-07T19:39:41.770Z"
   },
   {
    "duration": 6,
    "start_time": "2025-05-07T19:39:41.783Z"
   },
   {
    "duration": 3,
    "start_time": "2025-05-07T19:39:41.791Z"
   },
   {
    "duration": 5,
    "start_time": "2025-05-07T19:39:41.796Z"
   },
   {
    "duration": 9,
    "start_time": "2025-05-07T19:39:41.832Z"
   },
   {
    "duration": 7,
    "start_time": "2025-05-07T19:39:41.843Z"
   },
   {
    "duration": 13,
    "start_time": "2025-05-07T19:39:41.852Z"
   },
   {
    "duration": 11,
    "start_time": "2025-05-07T19:39:41.867Z"
   },
   {
    "duration": 14,
    "start_time": "2025-05-07T19:39:41.880Z"
   },
   {
    "duration": 7,
    "start_time": "2025-05-07T19:39:41.931Z"
   },
   {
    "duration": 7,
    "start_time": "2025-05-07T19:39:41.939Z"
   },
   {
    "duration": 5,
    "start_time": "2025-05-07T19:39:41.949Z"
   },
   {
    "duration": 49,
    "start_time": "2025-05-07T19:39:41.957Z"
   },
   {
    "duration": 203,
    "start_time": "2025-05-07T19:39:42.008Z"
   },
   {
    "duration": 0,
    "start_time": "2025-05-07T19:39:42.213Z"
   },
   {
    "duration": 0,
    "start_time": "2025-05-07T19:39:42.215Z"
   },
   {
    "duration": 21,
    "start_time": "2025-05-07T19:39:46.699Z"
   },
   {
    "duration": 556,
    "start_time": "2025-05-07T19:39:48.738Z"
   },
   {
    "duration": 161,
    "start_time": "2025-05-07T19:41:43.431Z"
   },
   {
    "duration": 148,
    "start_time": "2025-05-07T19:43:51.388Z"
   },
   {
    "duration": 1001,
    "start_time": "2025-05-07T19:44:07.494Z"
   },
   {
    "duration": 521,
    "start_time": "2025-05-07T19:44:08.497Z"
   },
   {
    "duration": 86,
    "start_time": "2025-05-07T19:44:09.020Z"
   },
   {
    "duration": 29,
    "start_time": "2025-05-07T19:44:09.107Z"
   },
   {
    "duration": 397,
    "start_time": "2025-05-07T19:44:09.139Z"
   },
   {
    "duration": 4,
    "start_time": "2025-05-07T19:44:09.537Z"
   },
   {
    "duration": 12,
    "start_time": "2025-05-07T19:44:09.542Z"
   },
   {
    "duration": 168,
    "start_time": "2025-05-07T19:44:09.555Z"
   },
   {
    "duration": 1339,
    "start_time": "2025-05-07T19:44:09.725Z"
   },
   {
    "duration": 200,
    "start_time": "2025-05-07T19:44:11.066Z"
   },
   {
    "duration": 8,
    "start_time": "2025-05-07T19:44:11.268Z"
   },
   {
    "duration": 28,
    "start_time": "2025-05-07T19:44:11.278Z"
   },
   {
    "duration": 24,
    "start_time": "2025-05-07T19:44:11.307Z"
   },
   {
    "duration": 7,
    "start_time": "2025-05-07T19:44:11.335Z"
   },
   {
    "duration": 4,
    "start_time": "2025-05-07T19:44:11.343Z"
   },
   {
    "duration": 7,
    "start_time": "2025-05-07T19:44:11.349Z"
   },
   {
    "duration": 10,
    "start_time": "2025-05-07T19:44:11.357Z"
   },
   {
    "duration": 5,
    "start_time": "2025-05-07T19:44:11.369Z"
   },
   {
    "duration": 14,
    "start_time": "2025-05-07T19:44:11.376Z"
   },
   {
    "duration": 46,
    "start_time": "2025-05-07T19:44:11.392Z"
   },
   {
    "duration": 12,
    "start_time": "2025-05-07T19:44:11.440Z"
   },
   {
    "duration": 6,
    "start_time": "2025-05-07T19:44:11.453Z"
   },
   {
    "duration": 5,
    "start_time": "2025-05-07T19:44:11.461Z"
   },
   {
    "duration": 3,
    "start_time": "2025-05-07T19:44:11.468Z"
   },
   {
    "duration": 73,
    "start_time": "2025-05-07T19:44:11.473Z"
   },
   {
    "duration": 25,
    "start_time": "2025-05-07T19:44:11.548Z"
   },
   {
    "duration": 662,
    "start_time": "2025-05-07T19:44:11.575Z"
   },
   {
    "duration": 0,
    "start_time": "2025-05-07T19:44:12.239Z"
   },
   {
    "duration": 125,
    "start_time": "2025-05-07T19:45:58.436Z"
   },
   {
    "duration": 913,
    "start_time": "2025-05-07T19:46:12.260Z"
   },
   {
    "duration": 516,
    "start_time": "2025-05-07T19:46:13.175Z"
   },
   {
    "duration": 84,
    "start_time": "2025-05-07T19:46:13.693Z"
   },
   {
    "duration": 20,
    "start_time": "2025-05-07T19:46:13.779Z"
   },
   {
    "duration": 405,
    "start_time": "2025-05-07T19:46:13.801Z"
   },
   {
    "duration": 3,
    "start_time": "2025-05-07T19:46:14.208Z"
   },
   {
    "duration": 23,
    "start_time": "2025-05-07T19:46:14.213Z"
   },
   {
    "duration": 159,
    "start_time": "2025-05-07T19:46:14.238Z"
   },
   {
    "duration": 1317,
    "start_time": "2025-05-07T19:46:14.399Z"
   },
   {
    "duration": 205,
    "start_time": "2025-05-07T19:46:15.717Z"
   },
   {
    "duration": 13,
    "start_time": "2025-05-07T19:46:15.924Z"
   },
   {
    "duration": 31,
    "start_time": "2025-05-07T19:46:15.939Z"
   },
   {
    "duration": 10,
    "start_time": "2025-05-07T19:46:15.971Z"
   },
   {
    "duration": 6,
    "start_time": "2025-05-07T19:46:15.984Z"
   },
   {
    "duration": 4,
    "start_time": "2025-05-07T19:46:15.992Z"
   },
   {
    "duration": 35,
    "start_time": "2025-05-07T19:46:15.997Z"
   },
   {
    "duration": 10,
    "start_time": "2025-05-07T19:46:16.034Z"
   },
   {
    "duration": 7,
    "start_time": "2025-05-07T19:46:16.046Z"
   },
   {
    "duration": 15,
    "start_time": "2025-05-07T19:46:16.054Z"
   },
   {
    "duration": 11,
    "start_time": "2025-05-07T19:46:16.071Z"
   },
   {
    "duration": 12,
    "start_time": "2025-05-07T19:46:16.084Z"
   },
   {
    "duration": 38,
    "start_time": "2025-05-07T19:46:16.098Z"
   },
   {
    "duration": 7,
    "start_time": "2025-05-07T19:46:16.138Z"
   },
   {
    "duration": 2,
    "start_time": "2025-05-07T19:46:16.148Z"
   },
   {
    "duration": 47,
    "start_time": "2025-05-07T19:46:16.152Z"
   },
   {
    "duration": 49,
    "start_time": "2025-05-07T19:46:16.201Z"
   },
   {
    "duration": 586,
    "start_time": "2025-05-07T19:46:16.251Z"
   },
   {
    "duration": 0,
    "start_time": "2025-05-07T19:46:16.839Z"
   },
   {
    "duration": 5,
    "start_time": "2025-05-07T19:47:25.118Z"
   },
   {
    "duration": 971,
    "start_time": "2025-05-07T19:48:01.328Z"
   },
   {
    "duration": 515,
    "start_time": "2025-05-07T19:48:02.301Z"
   },
   {
    "duration": 86,
    "start_time": "2025-05-07T19:48:02.817Z"
   },
   {
    "duration": 29,
    "start_time": "2025-05-07T19:48:02.906Z"
   },
   {
    "duration": 409,
    "start_time": "2025-05-07T19:48:02.938Z"
   },
   {
    "duration": 3,
    "start_time": "2025-05-07T19:48:03.349Z"
   },
   {
    "duration": 13,
    "start_time": "2025-05-07T19:48:03.354Z"
   },
   {
    "duration": 166,
    "start_time": "2025-05-07T19:48:03.369Z"
   },
   {
    "duration": 1383,
    "start_time": "2025-05-07T19:48:03.537Z"
   },
   {
    "duration": 201,
    "start_time": "2025-05-07T19:48:04.921Z"
   },
   {
    "duration": 10,
    "start_time": "2025-05-07T19:48:05.124Z"
   },
   {
    "duration": 32,
    "start_time": "2025-05-07T19:48:05.136Z"
   },
   {
    "duration": 11,
    "start_time": "2025-05-07T19:48:05.170Z"
   },
   {
    "duration": 6,
    "start_time": "2025-05-07T19:48:05.184Z"
   },
   {
    "duration": 4,
    "start_time": "2025-05-07T19:48:05.192Z"
   },
   {
    "duration": 36,
    "start_time": "2025-05-07T19:48:05.198Z"
   },
   {
    "duration": 9,
    "start_time": "2025-05-07T19:48:05.236Z"
   },
   {
    "duration": 6,
    "start_time": "2025-05-07T19:48:05.246Z"
   },
   {
    "duration": 14,
    "start_time": "2025-05-07T19:48:05.253Z"
   },
   {
    "duration": 10,
    "start_time": "2025-05-07T19:48:05.268Z"
   },
   {
    "duration": 12,
    "start_time": "2025-05-07T19:48:05.280Z"
   },
   {
    "duration": 6,
    "start_time": "2025-05-07T19:48:05.330Z"
   },
   {
    "duration": 6,
    "start_time": "2025-05-07T19:48:05.338Z"
   },
   {
    "duration": 4,
    "start_time": "2025-05-07T19:48:05.346Z"
   },
   {
    "duration": 46,
    "start_time": "2025-05-07T19:48:05.351Z"
   },
   {
    "duration": 53,
    "start_time": "2025-05-07T19:48:05.399Z"
   },
   {
    "duration": 5,
    "start_time": "2025-05-07T19:48:05.454Z"
   },
   {
    "duration": 173,
    "start_time": "2025-05-07T19:48:05.460Z"
   },
   {
    "duration": 6,
    "start_time": "2025-05-07T20:04:37.010Z"
   },
   {
    "duration": 906,
    "start_time": "2025-05-07T20:07:12.067Z"
   },
   {
    "duration": 509,
    "start_time": "2025-05-07T20:07:12.976Z"
   },
   {
    "duration": 83,
    "start_time": "2025-05-07T20:07:13.487Z"
   },
   {
    "duration": 21,
    "start_time": "2025-05-07T20:07:13.571Z"
   },
   {
    "duration": 397,
    "start_time": "2025-05-07T20:07:13.594Z"
   },
   {
    "duration": 3,
    "start_time": "2025-05-07T20:07:13.992Z"
   },
   {
    "duration": 12,
    "start_time": "2025-05-07T20:07:13.997Z"
   },
   {
    "duration": 176,
    "start_time": "2025-05-07T20:07:14.011Z"
   },
   {
    "duration": 1335,
    "start_time": "2025-05-07T20:07:14.189Z"
   },
   {
    "duration": 200,
    "start_time": "2025-05-07T20:07:15.526Z"
   },
   {
    "duration": 9,
    "start_time": "2025-05-07T20:07:15.731Z"
   },
   {
    "duration": 29,
    "start_time": "2025-05-07T20:07:15.741Z"
   },
   {
    "duration": 10,
    "start_time": "2025-05-07T20:07:15.772Z"
   },
   {
    "duration": 5,
    "start_time": "2025-05-07T20:07:15.785Z"
   },
   {
    "duration": 4,
    "start_time": "2025-05-07T20:07:15.792Z"
   },
   {
    "duration": 41,
    "start_time": "2025-05-07T20:07:15.798Z"
   },
   {
    "duration": 10,
    "start_time": "2025-05-07T20:07:15.841Z"
   },
   {
    "duration": 6,
    "start_time": "2025-05-07T20:07:15.852Z"
   },
   {
    "duration": 15,
    "start_time": "2025-05-07T20:07:15.860Z"
   },
   {
    "duration": 11,
    "start_time": "2025-05-07T20:07:15.877Z"
   },
   {
    "duration": 42,
    "start_time": "2025-05-07T20:07:15.890Z"
   },
   {
    "duration": 6,
    "start_time": "2025-05-07T20:07:15.934Z"
   },
   {
    "duration": 6,
    "start_time": "2025-05-07T20:07:15.942Z"
   },
   {
    "duration": 5,
    "start_time": "2025-05-07T20:07:15.950Z"
   },
   {
    "duration": 45,
    "start_time": "2025-05-07T20:07:15.957Z"
   },
   {
    "duration": 30,
    "start_time": "2025-05-07T20:07:16.032Z"
   },
   {
    "duration": 5,
    "start_time": "2025-05-07T20:07:16.063Z"
   },
   {
    "duration": 5,
    "start_time": "2025-05-07T20:07:16.070Z"
   },
   {
    "duration": 190,
    "start_time": "2025-05-07T20:07:16.077Z"
   },
   {
    "duration": 939,
    "start_time": "2025-05-07T20:17:04.263Z"
   },
   {
    "duration": 4,
    "start_time": "2025-05-07T20:17:18.927Z"
   },
   {
    "duration": 529,
    "start_time": "2025-05-07T20:17:18.934Z"
   },
   {
    "duration": 46,
    "start_time": "2025-05-07T20:17:19.465Z"
   },
   {
    "duration": 25,
    "start_time": "2025-05-07T20:17:19.515Z"
   },
   {
    "duration": 511,
    "start_time": "2025-05-07T20:17:19.541Z"
   },
   {
    "duration": 3,
    "start_time": "2025-05-07T20:17:20.055Z"
   },
   {
    "duration": 13,
    "start_time": "2025-05-07T20:17:20.060Z"
   },
   {
    "duration": 169,
    "start_time": "2025-05-07T20:17:20.074Z"
   },
   {
    "duration": 1422,
    "start_time": "2025-05-07T20:17:20.245Z"
   },
   {
    "duration": 216,
    "start_time": "2025-05-07T20:17:21.671Z"
   },
   {
    "duration": 10,
    "start_time": "2025-05-07T20:17:21.889Z"
   },
   {
    "duration": 63,
    "start_time": "2025-05-07T20:17:21.901Z"
   },
   {
    "duration": 11,
    "start_time": "2025-05-07T20:17:21.966Z"
   },
   {
    "duration": 9,
    "start_time": "2025-05-07T20:17:21.979Z"
   },
   {
    "duration": 5,
    "start_time": "2025-05-07T20:17:21.989Z"
   },
   {
    "duration": 6,
    "start_time": "2025-05-07T20:17:21.996Z"
   },
   {
    "duration": 8,
    "start_time": "2025-05-07T20:17:22.031Z"
   },
   {
    "duration": 7,
    "start_time": "2025-05-07T20:17:22.041Z"
   },
   {
    "duration": 14,
    "start_time": "2025-05-07T20:17:22.049Z"
   },
   {
    "duration": 12,
    "start_time": "2025-05-07T20:17:22.065Z"
   },
   {
    "duration": 13,
    "start_time": "2025-05-07T20:17:22.079Z"
   },
   {
    "duration": 37,
    "start_time": "2025-05-07T20:17:22.094Z"
   },
   {
    "duration": 18,
    "start_time": "2025-05-07T20:17:22.133Z"
   },
   {
    "duration": 4,
    "start_time": "2025-05-07T20:17:22.153Z"
   },
   {
    "duration": 280,
    "start_time": "2025-05-07T20:17:22.159Z"
   },
   {
    "duration": 171,
    "start_time": "2025-05-07T20:17:22.440Z"
   },
   {
    "duration": 917,
    "start_time": "2025-05-07T20:18:23.469Z"
   },
   {
    "duration": 514,
    "start_time": "2025-05-07T20:18:24.389Z"
   },
   {
    "duration": 80,
    "start_time": "2025-05-07T20:18:24.905Z"
   },
   {
    "duration": 21,
    "start_time": "2025-05-07T20:18:24.987Z"
   },
   {
    "duration": 394,
    "start_time": "2025-05-07T20:18:25.010Z"
   },
   {
    "duration": 4,
    "start_time": "2025-05-07T20:18:25.405Z"
   },
   {
    "duration": 24,
    "start_time": "2025-05-07T20:18:25.410Z"
   },
   {
    "duration": 164,
    "start_time": "2025-05-07T20:18:25.435Z"
   },
   {
    "duration": 1399,
    "start_time": "2025-05-07T20:18:25.601Z"
   },
   {
    "duration": 200,
    "start_time": "2025-05-07T20:18:27.002Z"
   },
   {
    "duration": 8,
    "start_time": "2025-05-07T20:18:27.204Z"
   },
   {
    "duration": 40,
    "start_time": "2025-05-07T20:18:27.214Z"
   },
   {
    "duration": 10,
    "start_time": "2025-05-07T20:18:27.255Z"
   },
   {
    "duration": 6,
    "start_time": "2025-05-07T20:18:27.269Z"
   },
   {
    "duration": 4,
    "start_time": "2025-05-07T20:18:27.276Z"
   },
   {
    "duration": 6,
    "start_time": "2025-05-07T20:18:27.282Z"
   },
   {
    "duration": 10,
    "start_time": "2025-05-07T20:18:27.290Z"
   },
   {
    "duration": 34,
    "start_time": "2025-05-07T20:18:27.302Z"
   },
   {
    "duration": 14,
    "start_time": "2025-05-07T20:18:27.337Z"
   },
   {
    "duration": 10,
    "start_time": "2025-05-07T20:18:27.353Z"
   },
   {
    "duration": 13,
    "start_time": "2025-05-07T20:18:27.365Z"
   },
   {
    "duration": 6,
    "start_time": "2025-05-07T20:18:27.379Z"
   },
   {
    "duration": 6,
    "start_time": "2025-05-07T20:18:27.386Z"
   },
   {
    "duration": 37,
    "start_time": "2025-05-07T20:18:27.394Z"
   },
   {
    "duration": 199,
    "start_time": "2025-05-07T20:18:27.433Z"
   },
   {
    "duration": 166,
    "start_time": "2025-05-07T20:18:27.634Z"
   },
   {
    "duration": 781,
    "start_time": "2025-05-07T20:23:36.859Z"
   },
   {
    "duration": 167,
    "start_time": "2025-05-08T03:01:59.512Z"
   },
   {
    "duration": 2694,
    "start_time": "2025-05-08T03:02:10.228Z"
   },
   {
    "duration": 679,
    "start_time": "2025-05-08T03:02:12.924Z"
   },
   {
    "duration": 41,
    "start_time": "2025-05-08T03:02:13.604Z"
   },
   {
    "duration": 20,
    "start_time": "2025-05-08T03:02:13.648Z"
   },
   {
    "duration": 405,
    "start_time": "2025-05-08T03:02:13.669Z"
   },
   {
    "duration": 3,
    "start_time": "2025-05-08T03:02:14.076Z"
   },
   {
    "duration": 12,
    "start_time": "2025-05-08T03:02:14.081Z"
   },
   {
    "duration": 171,
    "start_time": "2025-05-08T03:02:14.095Z"
   },
   {
    "duration": 1416,
    "start_time": "2025-05-08T03:02:14.268Z"
   },
   {
    "duration": 205,
    "start_time": "2025-05-08T03:02:15.689Z"
   },
   {
    "duration": 7,
    "start_time": "2025-05-08T03:02:15.896Z"
   },
   {
    "duration": 42,
    "start_time": "2025-05-08T03:02:15.904Z"
   },
   {
    "duration": 11,
    "start_time": "2025-05-08T03:02:15.948Z"
   },
   {
    "duration": 6,
    "start_time": "2025-05-08T03:02:15.961Z"
   },
   {
    "duration": 4,
    "start_time": "2025-05-08T03:02:15.969Z"
   },
   {
    "duration": 6,
    "start_time": "2025-05-08T03:02:15.975Z"
   },
   {
    "duration": 10,
    "start_time": "2025-05-08T03:02:15.983Z"
   },
   {
    "duration": 39,
    "start_time": "2025-05-08T03:02:15.995Z"
   },
   {
    "duration": 18,
    "start_time": "2025-05-08T03:02:16.036Z"
   },
   {
    "duration": 10,
    "start_time": "2025-05-08T03:02:16.056Z"
   },
   {
    "duration": 12,
    "start_time": "2025-05-08T03:02:16.067Z"
   },
   {
    "duration": 5,
    "start_time": "2025-05-08T03:02:16.081Z"
   },
   {
    "duration": 7,
    "start_time": "2025-05-08T03:02:16.087Z"
   },
   {
    "duration": 37,
    "start_time": "2025-05-08T03:02:16.095Z"
   },
   {
    "duration": 193,
    "start_time": "2025-05-08T03:02:16.134Z"
   },
   {
    "duration": 184,
    "start_time": "2025-05-08T03:02:16.328Z"
   },
   {
    "duration": 787,
    "start_time": "2025-05-08T03:02:16.514Z"
   },
   {
    "duration": 503,
    "start_time": "2025-05-08T03:02:17.305Z"
   },
   {
    "duration": 26,
    "start_time": "2025-05-08T03:03:03.818Z"
   },
   {
    "duration": 486,
    "start_time": "2025-05-08T03:03:06.584Z"
   },
   {
    "duration": 573,
    "start_time": "2025-05-08T03:06:26.707Z"
   },
   {
    "duration": 527,
    "start_time": "2025-05-08T03:06:37.898Z"
   },
   {
    "duration": 503,
    "start_time": "2025-05-08T03:06:44.856Z"
   },
   {
    "duration": 3678,
    "start_time": "2025-05-08T03:08:14.578Z"
   },
   {
    "duration": 680,
    "start_time": "2025-05-08T03:15:14.424Z"
   },
   {
    "duration": 2,
    "start_time": "2025-05-08T03:15:24.631Z"
   },
   {
    "duration": 542,
    "start_time": "2025-05-08T03:15:24.636Z"
   },
   {
    "duration": 28,
    "start_time": "2025-05-08T03:15:25.179Z"
   },
   {
    "duration": 28,
    "start_time": "2025-05-08T03:15:25.210Z"
   },
   {
    "duration": 385,
    "start_time": "2025-05-08T03:15:25.240Z"
   },
   {
    "duration": 3,
    "start_time": "2025-05-08T03:15:25.631Z"
   },
   {
    "duration": 12,
    "start_time": "2025-05-08T03:15:25.636Z"
   },
   {
    "duration": 165,
    "start_time": "2025-05-08T03:15:25.649Z"
   },
   {
    "duration": 1335,
    "start_time": "2025-05-08T03:15:25.817Z"
   },
   {
    "duration": 214,
    "start_time": "2025-05-08T03:15:27.156Z"
   },
   {
    "duration": 8,
    "start_time": "2025-05-08T03:15:27.372Z"
   },
   {
    "duration": 29,
    "start_time": "2025-05-08T03:15:27.382Z"
   },
   {
    "duration": 24,
    "start_time": "2025-05-08T03:15:27.413Z"
   },
   {
    "duration": 7,
    "start_time": "2025-05-08T03:15:27.439Z"
   },
   {
    "duration": 3,
    "start_time": "2025-05-08T03:15:27.448Z"
   },
   {
    "duration": 7,
    "start_time": "2025-05-08T03:15:27.453Z"
   },
   {
    "duration": 7,
    "start_time": "2025-05-08T03:15:27.461Z"
   },
   {
    "duration": 6,
    "start_time": "2025-05-08T03:15:27.470Z"
   },
   {
    "duration": 14,
    "start_time": "2025-05-08T03:15:27.477Z"
   },
   {
    "duration": 11,
    "start_time": "2025-05-08T03:15:27.530Z"
   },
   {
    "duration": 16,
    "start_time": "2025-05-08T03:15:27.543Z"
   },
   {
    "duration": 7,
    "start_time": "2025-05-08T03:15:27.561Z"
   },
   {
    "duration": 7,
    "start_time": "2025-05-08T03:15:27.569Z"
   },
   {
    "duration": 4,
    "start_time": "2025-05-08T03:15:27.577Z"
   },
   {
    "duration": 211,
    "start_time": "2025-05-08T03:15:27.583Z"
   },
   {
    "duration": 167,
    "start_time": "2025-05-08T03:15:27.796Z"
   },
   {
    "duration": 863,
    "start_time": "2025-05-08T03:15:27.964Z"
   },
   {
    "duration": 26,
    "start_time": "2025-05-08T03:15:28.833Z"
   },
   {
    "duration": 520,
    "start_time": "2025-05-08T03:15:28.861Z"
   },
   {
    "duration": 3863,
    "start_time": "2025-05-08T03:15:29.383Z"
   },
   {
    "duration": 114,
    "start_time": "2025-05-08T03:15:33.248Z"
   },
   {
    "duration": 182,
    "start_time": "2025-05-08T03:17:33.139Z"
   },
   {
    "duration": 4,
    "start_time": "2025-05-08T03:33:12.139Z"
   },
   {
    "duration": 944,
    "start_time": "2025-05-08T03:38:09.604Z"
   },
   {
    "duration": 503,
    "start_time": "2025-05-08T03:38:10.550Z"
   },
   {
    "duration": 30,
    "start_time": "2025-05-08T03:38:11.055Z"
   },
   {
    "duration": 21,
    "start_time": "2025-05-08T03:38:11.087Z"
   },
   {
    "duration": 409,
    "start_time": "2025-05-08T03:38:11.110Z"
   },
   {
    "duration": 10,
    "start_time": "2025-05-08T03:38:11.521Z"
   },
   {
    "duration": 12,
    "start_time": "2025-05-08T03:38:11.532Z"
   },
   {
    "duration": 161,
    "start_time": "2025-05-08T03:38:11.546Z"
   },
   {
    "duration": 1335,
    "start_time": "2025-05-08T03:38:11.709Z"
   },
   {
    "duration": 199,
    "start_time": "2025-05-08T03:38:13.045Z"
   },
   {
    "duration": 8,
    "start_time": "2025-05-08T03:38:13.246Z"
   },
   {
    "duration": 30,
    "start_time": "2025-05-08T03:38:13.255Z"
   },
   {
    "duration": 9,
    "start_time": "2025-05-08T03:38:13.286Z"
   },
   {
    "duration": 5,
    "start_time": "2025-05-08T03:38:13.299Z"
   },
   {
    "duration": 29,
    "start_time": "2025-05-08T03:38:13.305Z"
   },
   {
    "duration": 6,
    "start_time": "2025-05-08T03:38:13.336Z"
   },
   {
    "duration": 9,
    "start_time": "2025-05-08T03:38:13.343Z"
   },
   {
    "duration": 5,
    "start_time": "2025-05-08T03:38:13.354Z"
   },
   {
    "duration": 14,
    "start_time": "2025-05-08T03:38:13.361Z"
   },
   {
    "duration": 10,
    "start_time": "2025-05-08T03:38:13.376Z"
   },
   {
    "duration": 49,
    "start_time": "2025-05-08T03:38:13.388Z"
   },
   {
    "duration": 6,
    "start_time": "2025-05-08T03:38:13.438Z"
   },
   {
    "duration": 6,
    "start_time": "2025-05-08T03:38:13.445Z"
   },
   {
    "duration": 4,
    "start_time": "2025-05-08T03:38:13.452Z"
   },
   {
    "duration": 204,
    "start_time": "2025-05-08T03:38:13.457Z"
   },
   {
    "duration": 164,
    "start_time": "2025-05-08T03:38:13.662Z"
   },
   {
    "duration": 837,
    "start_time": "2025-05-08T03:38:13.828Z"
   },
   {
    "duration": 242,
    "start_time": "2025-05-08T03:38:14.666Z"
   },
   {
    "duration": 0,
    "start_time": "2025-05-08T03:38:14.910Z"
   },
   {
    "duration": 0,
    "start_time": "2025-05-08T03:38:14.912Z"
   },
   {
    "duration": 0,
    "start_time": "2025-05-08T03:38:14.913Z"
   },
   {
    "duration": 0,
    "start_time": "2025-05-08T03:38:14.914Z"
   },
   {
    "duration": 0,
    "start_time": "2025-05-08T03:38:14.915Z"
   },
   {
    "duration": 25,
    "start_time": "2025-05-08T03:41:51.898Z"
   },
   {
    "duration": 1000,
    "start_time": "2025-05-08T03:42:07.844Z"
   },
   {
    "duration": 500,
    "start_time": "2025-05-08T03:42:08.846Z"
   },
   {
    "duration": 30,
    "start_time": "2025-05-08T03:42:09.347Z"
   },
   {
    "duration": 19,
    "start_time": "2025-05-08T03:42:09.380Z"
   },
   {
    "duration": 413,
    "start_time": "2025-05-08T03:42:09.401Z"
   },
   {
    "duration": 3,
    "start_time": "2025-05-08T03:42:09.816Z"
   },
   {
    "duration": 20,
    "start_time": "2025-05-08T03:42:09.821Z"
   },
   {
    "duration": 158,
    "start_time": "2025-05-08T03:42:09.842Z"
   },
   {
    "duration": 1338,
    "start_time": "2025-05-08T03:42:10.002Z"
   },
   {
    "duration": 201,
    "start_time": "2025-05-08T03:42:11.343Z"
   },
   {
    "duration": 9,
    "start_time": "2025-05-08T03:42:11.546Z"
   },
   {
    "duration": 29,
    "start_time": "2025-05-08T03:42:11.558Z"
   },
   {
    "duration": 10,
    "start_time": "2025-05-08T03:42:11.589Z"
   },
   {
    "duration": 7,
    "start_time": "2025-05-08T03:42:11.600Z"
   },
   {
    "duration": 4,
    "start_time": "2025-05-08T03:42:11.631Z"
   },
   {
    "duration": 6,
    "start_time": "2025-05-08T03:42:11.636Z"
   },
   {
    "duration": 9,
    "start_time": "2025-05-08T03:42:11.643Z"
   },
   {
    "duration": 6,
    "start_time": "2025-05-08T03:42:11.654Z"
   },
   {
    "duration": 13,
    "start_time": "2025-05-08T03:42:11.661Z"
   },
   {
    "duration": 9,
    "start_time": "2025-05-08T03:42:11.675Z"
   },
   {
    "duration": 48,
    "start_time": "2025-05-08T03:42:11.686Z"
   },
   {
    "duration": 6,
    "start_time": "2025-05-08T03:42:11.736Z"
   },
   {
    "duration": 5,
    "start_time": "2025-05-08T03:42:11.745Z"
   },
   {
    "duration": 3,
    "start_time": "2025-05-08T03:42:11.752Z"
   },
   {
    "duration": 207,
    "start_time": "2025-05-08T03:42:11.757Z"
   },
   {
    "duration": 171,
    "start_time": "2025-05-08T03:42:11.966Z"
   },
   {
    "duration": 821,
    "start_time": "2025-05-08T03:42:12.140Z"
   },
   {
    "duration": 25,
    "start_time": "2025-05-08T03:42:12.966Z"
   },
   {
    "duration": 479,
    "start_time": "2025-05-08T03:42:12.992Z"
   },
   {
    "duration": 3529,
    "start_time": "2025-05-08T03:42:13.473Z"
   },
   {
    "duration": 330,
    "start_time": "2025-05-08T03:42:17.004Z"
   },
   {
    "duration": 0,
    "start_time": "2025-05-08T03:42:17.336Z"
   },
   {
    "duration": 0,
    "start_time": "2025-05-08T03:42:17.337Z"
   },
   {
    "duration": 3,
    "start_time": "2025-05-08T03:44:18.042Z"
   },
   {
    "duration": 185,
    "start_time": "2025-05-08T03:46:22.256Z"
   },
   {
    "duration": 209,
    "start_time": "2025-05-08T03:47:08.340Z"
   },
   {
    "duration": 183,
    "start_time": "2025-05-08T03:47:37.110Z"
   },
   {
    "duration": 965,
    "start_time": "2025-05-08T03:47:52.878Z"
   },
   {
    "duration": 507,
    "start_time": "2025-05-08T03:47:53.845Z"
   },
   {
    "duration": 30,
    "start_time": "2025-05-08T03:47:54.354Z"
   },
   {
    "duration": 21,
    "start_time": "2025-05-08T03:47:54.386Z"
   },
   {
    "duration": 406,
    "start_time": "2025-05-08T03:47:54.410Z"
   },
   {
    "duration": 14,
    "start_time": "2025-05-08T03:47:54.818Z"
   },
   {
    "duration": 11,
    "start_time": "2025-05-08T03:47:54.834Z"
   },
   {
    "duration": 161,
    "start_time": "2025-05-08T03:47:54.847Z"
   },
   {
    "duration": 1362,
    "start_time": "2025-05-08T03:47:55.010Z"
   },
   {
    "duration": 212,
    "start_time": "2025-05-08T03:47:56.373Z"
   },
   {
    "duration": 8,
    "start_time": "2025-05-08T03:47:56.587Z"
   },
   {
    "duration": 40,
    "start_time": "2025-05-08T03:47:56.596Z"
   },
   {
    "duration": 10,
    "start_time": "2025-05-08T03:47:56.638Z"
   },
   {
    "duration": 6,
    "start_time": "2025-05-08T03:47:56.652Z"
   },
   {
    "duration": 5,
    "start_time": "2025-05-08T03:47:56.659Z"
   },
   {
    "duration": 6,
    "start_time": "2025-05-08T03:47:56.665Z"
   },
   {
    "duration": 9,
    "start_time": "2025-05-08T03:47:56.673Z"
   },
   {
    "duration": 6,
    "start_time": "2025-05-08T03:47:56.683Z"
   },
   {
    "duration": 50,
    "start_time": "2025-05-08T03:47:56.691Z"
   },
   {
    "duration": 10,
    "start_time": "2025-05-08T03:47:56.742Z"
   },
   {
    "duration": 14,
    "start_time": "2025-05-08T03:47:56.753Z"
   },
   {
    "duration": 6,
    "start_time": "2025-05-08T03:47:56.768Z"
   },
   {
    "duration": 6,
    "start_time": "2025-05-08T03:47:56.775Z"
   },
   {
    "duration": 3,
    "start_time": "2025-05-08T03:47:56.783Z"
   },
   {
    "duration": 210,
    "start_time": "2025-05-08T03:47:56.788Z"
   },
   {
    "duration": 163,
    "start_time": "2025-05-08T03:47:57.000Z"
   },
   {
    "duration": 800,
    "start_time": "2025-05-08T03:47:57.165Z"
   },
   {
    "duration": 26,
    "start_time": "2025-05-08T03:47:57.967Z"
   },
   {
    "duration": 476,
    "start_time": "2025-05-08T03:47:57.994Z"
   },
   {
    "duration": 3512,
    "start_time": "2025-05-08T03:47:58.471Z"
   },
   {
    "duration": 272,
    "start_time": "2025-05-08T03:48:01.985Z"
   },
   {
    "duration": 5,
    "start_time": "2025-05-08T03:48:02.259Z"
   },
   {
    "duration": 251,
    "start_time": "2025-05-08T03:48:02.266Z"
   },
   {
    "duration": 630,
    "start_time": "2025-05-08T04:09:33.640Z"
   },
   {
    "duration": 999,
    "start_time": "2025-05-08T04:09:49.365Z"
   },
   {
    "duration": 509,
    "start_time": "2025-05-08T04:09:50.367Z"
   },
   {
    "duration": 31,
    "start_time": "2025-05-08T04:09:50.878Z"
   },
   {
    "duration": 29,
    "start_time": "2025-05-08T04:09:50.910Z"
   },
   {
    "duration": 392,
    "start_time": "2025-05-08T04:09:50.942Z"
   },
   {
    "duration": 3,
    "start_time": "2025-05-08T04:09:51.336Z"
   },
   {
    "duration": 12,
    "start_time": "2025-05-08T04:09:51.340Z"
   },
   {
    "duration": 169,
    "start_time": "2025-05-08T04:09:51.353Z"
   },
   {
    "duration": 1344,
    "start_time": "2025-05-08T04:09:51.524Z"
   },
   {
    "duration": 198,
    "start_time": "2025-05-08T04:09:52.870Z"
   },
   {
    "duration": 8,
    "start_time": "2025-05-08T04:09:53.070Z"
   },
   {
    "duration": 28,
    "start_time": "2025-05-08T04:09:53.080Z"
   },
   {
    "duration": 23,
    "start_time": "2025-05-08T04:09:53.109Z"
   },
   {
    "duration": 6,
    "start_time": "2025-05-08T04:09:53.135Z"
   },
   {
    "duration": 3,
    "start_time": "2025-05-08T04:09:53.143Z"
   },
   {
    "duration": 6,
    "start_time": "2025-05-08T04:09:53.148Z"
   },
   {
    "duration": 10,
    "start_time": "2025-05-08T04:09:53.155Z"
   },
   {
    "duration": 6,
    "start_time": "2025-05-08T04:09:53.167Z"
   },
   {
    "duration": 14,
    "start_time": "2025-05-08T04:09:53.175Z"
   },
   {
    "duration": 48,
    "start_time": "2025-05-08T04:09:53.190Z"
   },
   {
    "duration": 13,
    "start_time": "2025-05-08T04:09:53.239Z"
   },
   {
    "duration": 6,
    "start_time": "2025-05-08T04:09:53.253Z"
   },
   {
    "duration": 6,
    "start_time": "2025-05-08T04:09:53.260Z"
   },
   {
    "duration": 4,
    "start_time": "2025-05-08T04:09:53.267Z"
   },
   {
    "duration": 211,
    "start_time": "2025-05-08T04:09:53.272Z"
   },
   {
    "duration": 164,
    "start_time": "2025-05-08T04:09:53.485Z"
   },
   {
    "duration": 818,
    "start_time": "2025-05-08T04:09:53.651Z"
   },
   {
    "duration": 27,
    "start_time": "2025-05-08T04:09:54.471Z"
   },
   {
    "duration": 470,
    "start_time": "2025-05-08T04:09:54.500Z"
   },
   {
    "duration": 3692,
    "start_time": "2025-05-08T04:09:54.972Z"
   },
   {
    "duration": 282,
    "start_time": "2025-05-08T04:09:58.666Z"
   },
   {
    "duration": 5,
    "start_time": "2025-05-08T04:09:58.949Z"
   },
   {
    "duration": 847,
    "start_time": "2025-05-08T04:09:58.956Z"
   },
   {
    "duration": 4,
    "start_time": "2025-05-08T04:11:35.315Z"
   },
   {
    "duration": 8,
    "start_time": "2025-05-08T04:19:32.316Z"
   },
   {
    "duration": 13228,
    "start_time": "2025-05-08T04:20:03.103Z"
   },
   {
    "duration": 979,
    "start_time": "2025-05-08T04:20:41.309Z"
   },
   {
    "duration": 494,
    "start_time": "2025-05-08T04:20:42.290Z"
   },
   {
    "duration": 31,
    "start_time": "2025-05-08T04:20:42.786Z"
   },
   {
    "duration": 28,
    "start_time": "2025-05-08T04:20:42.819Z"
   },
   {
    "duration": 385,
    "start_time": "2025-05-08T04:20:42.848Z"
   },
   {
    "duration": 3,
    "start_time": "2025-05-08T04:20:43.235Z"
   },
   {
    "duration": 11,
    "start_time": "2025-05-08T04:20:43.239Z"
   },
   {
    "duration": 167,
    "start_time": "2025-05-08T04:20:43.252Z"
   },
   {
    "duration": 1347,
    "start_time": "2025-05-08T04:20:43.421Z"
   },
   {
    "duration": 200,
    "start_time": "2025-05-08T04:20:44.772Z"
   },
   {
    "duration": 9,
    "start_time": "2025-05-08T04:20:44.974Z"
   },
   {
    "duration": 28,
    "start_time": "2025-05-08T04:20:44.984Z"
   },
   {
    "duration": 18,
    "start_time": "2025-05-08T04:20:45.014Z"
   },
   {
    "duration": 6,
    "start_time": "2025-05-08T04:20:45.033Z"
   },
   {
    "duration": 4,
    "start_time": "2025-05-08T04:20:45.041Z"
   },
   {
    "duration": 6,
    "start_time": "2025-05-08T04:20:45.046Z"
   },
   {
    "duration": 8,
    "start_time": "2025-05-08T04:20:45.053Z"
   },
   {
    "duration": 5,
    "start_time": "2025-05-08T04:20:45.063Z"
   },
   {
    "duration": 13,
    "start_time": "2025-05-08T04:20:45.070Z"
   },
   {
    "duration": 49,
    "start_time": "2025-05-08T04:20:45.085Z"
   },
   {
    "duration": 10,
    "start_time": "2025-05-08T04:20:45.136Z"
   },
   {
    "duration": 6,
    "start_time": "2025-05-08T04:20:45.147Z"
   },
   {
    "duration": 6,
    "start_time": "2025-05-08T04:20:45.155Z"
   },
   {
    "duration": 3,
    "start_time": "2025-05-08T04:20:45.163Z"
   },
   {
    "duration": 207,
    "start_time": "2025-05-08T04:20:45.168Z"
   },
   {
    "duration": 168,
    "start_time": "2025-05-08T04:20:45.377Z"
   },
   {
    "duration": 873,
    "start_time": "2025-05-08T04:20:45.547Z"
   },
   {
    "duration": 34,
    "start_time": "2025-05-08T04:20:46.425Z"
   },
   {
    "duration": 495,
    "start_time": "2025-05-08T04:20:46.462Z"
   },
   {
    "duration": 3605,
    "start_time": "2025-05-08T04:20:46.958Z"
   },
   {
    "duration": 297,
    "start_time": "2025-05-08T04:20:50.565Z"
   },
   {
    "duration": 4,
    "start_time": "2025-05-08T04:20:50.864Z"
   },
   {
    "duration": 7,
    "start_time": "2025-05-08T04:20:50.870Z"
   },
   {
    "duration": 12845,
    "start_time": "2025-05-08T04:20:50.879Z"
   },
   {
    "duration": 16,
    "start_time": "2025-05-08T04:25:52.757Z"
   },
   {
    "duration": 977,
    "start_time": "2025-05-08T04:26:19.923Z"
   },
   {
    "duration": 506,
    "start_time": "2025-05-08T04:26:20.903Z"
   },
   {
    "duration": 39,
    "start_time": "2025-05-08T04:26:21.411Z"
   },
   {
    "duration": 21,
    "start_time": "2025-05-08T04:26:21.452Z"
   },
   {
    "duration": 394,
    "start_time": "2025-05-08T04:26:21.475Z"
   },
   {
    "duration": 2,
    "start_time": "2025-05-08T04:26:21.871Z"
   },
   {
    "duration": 11,
    "start_time": "2025-05-08T04:26:21.875Z"
   },
   {
    "duration": 175,
    "start_time": "2025-05-08T04:26:21.888Z"
   },
   {
    "duration": 1327,
    "start_time": "2025-05-08T04:26:22.065Z"
   },
   {
    "duration": 199,
    "start_time": "2025-05-08T04:26:23.394Z"
   },
   {
    "duration": 8,
    "start_time": "2025-05-08T04:26:23.594Z"
   },
   {
    "duration": 40,
    "start_time": "2025-05-08T04:26:23.603Z"
   },
   {
    "duration": 9,
    "start_time": "2025-05-08T04:26:23.645Z"
   },
   {
    "duration": 6,
    "start_time": "2025-05-08T04:26:23.657Z"
   },
   {
    "duration": 4,
    "start_time": "2025-05-08T04:26:23.664Z"
   },
   {
    "duration": 6,
    "start_time": "2025-05-08T04:26:23.670Z"
   },
   {
    "duration": 10,
    "start_time": "2025-05-08T04:26:23.678Z"
   },
   {
    "duration": 7,
    "start_time": "2025-05-08T04:26:23.689Z"
   },
   {
    "duration": 15,
    "start_time": "2025-05-08T04:26:23.730Z"
   },
   {
    "duration": 9,
    "start_time": "2025-05-08T04:26:23.746Z"
   },
   {
    "duration": 13,
    "start_time": "2025-05-08T04:26:23.757Z"
   },
   {
    "duration": 6,
    "start_time": "2025-05-08T04:26:23.771Z"
   },
   {
    "duration": 6,
    "start_time": "2025-05-08T04:26:23.778Z"
   },
   {
    "duration": 3,
    "start_time": "2025-05-08T04:26:23.785Z"
   },
   {
    "duration": 215,
    "start_time": "2025-05-08T04:26:23.790Z"
   },
   {
    "duration": 169,
    "start_time": "2025-05-08T04:26:24.007Z"
   },
   {
    "duration": 815,
    "start_time": "2025-05-08T04:26:24.178Z"
   },
   {
    "duration": 25,
    "start_time": "2025-05-08T04:26:24.995Z"
   },
   {
    "duration": 486,
    "start_time": "2025-05-08T04:26:25.021Z"
   },
   {
    "duration": 3792,
    "start_time": "2025-05-08T04:26:25.509Z"
   },
   {
    "duration": 269,
    "start_time": "2025-05-08T04:26:29.303Z"
   },
   {
    "duration": 4,
    "start_time": "2025-05-08T04:26:29.574Z"
   },
   {
    "duration": 6,
    "start_time": "2025-05-08T04:26:29.580Z"
   },
   {
    "duration": 12924,
    "start_time": "2025-05-08T04:26:29.588Z"
   },
   {
    "duration": 23,
    "start_time": "2025-05-08T04:26:42.514Z"
   },
   {
    "duration": 1022,
    "start_time": "2025-05-08T04:42:01.926Z"
   },
   {
    "duration": 512,
    "start_time": "2025-05-08T04:42:02.950Z"
   },
   {
    "duration": 32,
    "start_time": "2025-05-08T04:42:03.464Z"
   },
   {
    "duration": 34,
    "start_time": "2025-05-08T04:42:03.497Z"
   },
   {
    "duration": 397,
    "start_time": "2025-05-08T04:42:03.534Z"
   },
   {
    "duration": 3,
    "start_time": "2025-05-08T04:42:03.933Z"
   },
   {
    "duration": 10,
    "start_time": "2025-05-08T04:42:03.938Z"
   },
   {
    "duration": 164,
    "start_time": "2025-05-08T04:42:03.950Z"
   },
   {
    "duration": 1339,
    "start_time": "2025-05-08T04:42:04.117Z"
   },
   {
    "duration": 198,
    "start_time": "2025-05-08T04:42:05.458Z"
   },
   {
    "duration": 7,
    "start_time": "2025-05-08T04:42:05.658Z"
   },
   {
    "duration": 29,
    "start_time": "2025-05-08T04:42:05.667Z"
   },
   {
    "duration": 10,
    "start_time": "2025-05-08T04:42:05.697Z"
   },
   {
    "duration": 23,
    "start_time": "2025-05-08T04:42:05.710Z"
   },
   {
    "duration": 4,
    "start_time": "2025-05-08T04:42:05.734Z"
   },
   {
    "duration": 6,
    "start_time": "2025-05-08T04:42:05.739Z"
   },
   {
    "duration": 9,
    "start_time": "2025-05-08T04:42:05.747Z"
   },
   {
    "duration": 6,
    "start_time": "2025-05-08T04:42:05.758Z"
   },
   {
    "duration": 12,
    "start_time": "2025-05-08T04:42:05.766Z"
   },
   {
    "duration": 9,
    "start_time": "2025-05-08T04:42:05.780Z"
   },
   {
    "duration": 55,
    "start_time": "2025-05-08T04:42:05.790Z"
   },
   {
    "duration": 6,
    "start_time": "2025-05-08T04:42:05.847Z"
   },
   {
    "duration": 6,
    "start_time": "2025-05-08T04:42:05.855Z"
   },
   {
    "duration": 3,
    "start_time": "2025-05-08T04:42:05.862Z"
   },
   {
    "duration": 208,
    "start_time": "2025-05-08T04:42:05.867Z"
   },
   {
    "duration": 174,
    "start_time": "2025-05-08T04:42:06.077Z"
   },
   {
    "duration": 801,
    "start_time": "2025-05-08T04:42:06.253Z"
   },
   {
    "duration": 28,
    "start_time": "2025-05-08T04:42:07.056Z"
   },
   {
    "duration": 466,
    "start_time": "2025-05-08T04:42:07.086Z"
   },
   {
    "duration": 3594,
    "start_time": "2025-05-08T04:42:07.554Z"
   },
   {
    "duration": 277,
    "start_time": "2025-05-08T04:42:11.150Z"
   },
   {
    "duration": 5,
    "start_time": "2025-05-08T04:42:11.433Z"
   },
   {
    "duration": 7,
    "start_time": "2025-05-08T04:42:11.439Z"
   },
   {
    "duration": 12881,
    "start_time": "2025-05-08T04:42:11.447Z"
   },
   {
    "duration": 19,
    "start_time": "2025-05-08T04:42:24.331Z"
   },
   {
    "duration": 963,
    "start_time": "2025-05-08T04:47:23.175Z"
   },
   {
    "duration": 516,
    "start_time": "2025-05-08T04:47:24.141Z"
   },
   {
    "duration": 31,
    "start_time": "2025-05-08T04:47:24.660Z"
   },
   {
    "duration": 20,
    "start_time": "2025-05-08T04:47:24.693Z"
   },
   {
    "duration": 390,
    "start_time": "2025-05-08T04:47:24.714Z"
   },
   {
    "duration": 3,
    "start_time": "2025-05-08T04:47:25.106Z"
   },
   {
    "duration": 30,
    "start_time": "2025-05-08T04:47:25.110Z"
   },
   {
    "duration": 162,
    "start_time": "2025-05-08T04:47:25.142Z"
   },
   {
    "duration": 1382,
    "start_time": "2025-05-08T04:47:25.306Z"
   },
   {
    "duration": 198,
    "start_time": "2025-05-08T04:47:26.691Z"
   },
   {
    "duration": 8,
    "start_time": "2025-05-08T04:47:26.891Z"
   },
   {
    "duration": 40,
    "start_time": "2025-05-08T04:47:26.901Z"
   },
   {
    "duration": 8,
    "start_time": "2025-05-08T04:47:26.943Z"
   },
   {
    "duration": 7,
    "start_time": "2025-05-08T04:47:26.953Z"
   },
   {
    "duration": 4,
    "start_time": "2025-05-08T04:47:26.961Z"
   },
   {
    "duration": 6,
    "start_time": "2025-05-08T04:47:26.966Z"
   },
   {
    "duration": 10,
    "start_time": "2025-05-08T04:47:26.973Z"
   },
   {
    "duration": 6,
    "start_time": "2025-05-08T04:47:26.984Z"
   },
   {
    "duration": 51,
    "start_time": "2025-05-08T04:47:26.991Z"
   },
   {
    "duration": 10,
    "start_time": "2025-05-08T04:47:27.044Z"
   },
   {
    "duration": 13,
    "start_time": "2025-05-08T04:47:27.055Z"
   },
   {
    "duration": 6,
    "start_time": "2025-05-08T04:47:27.070Z"
   },
   {
    "duration": 5,
    "start_time": "2025-05-08T04:47:27.078Z"
   },
   {
    "duration": 4,
    "start_time": "2025-05-08T04:47:27.085Z"
   },
   {
    "duration": 215,
    "start_time": "2025-05-08T04:47:27.090Z"
   },
   {
    "duration": 162,
    "start_time": "2025-05-08T04:47:27.307Z"
   },
   {
    "duration": 790,
    "start_time": "2025-05-08T04:47:27.471Z"
   },
   {
    "duration": 29,
    "start_time": "2025-05-08T04:47:28.266Z"
   },
   {
    "duration": 473,
    "start_time": "2025-05-08T04:47:28.296Z"
   },
   {
    "duration": 3674,
    "start_time": "2025-05-08T04:47:28.773Z"
   },
   {
    "duration": 299,
    "start_time": "2025-05-08T04:47:32.449Z"
   },
   {
    "duration": 4,
    "start_time": "2025-05-08T04:47:32.750Z"
   },
   {
    "duration": 7,
    "start_time": "2025-05-08T04:47:32.756Z"
   },
   {
    "duration": 12877,
    "start_time": "2025-05-08T04:47:32.765Z"
   },
   {
    "duration": 13,
    "start_time": "2025-05-08T04:47:45.645Z"
   },
   {
    "duration": 963,
    "start_time": "2025-05-08T04:49:22.593Z"
   },
   {
    "duration": 518,
    "start_time": "2025-05-08T04:49:23.558Z"
   },
   {
    "duration": 32,
    "start_time": "2025-05-08T04:49:24.077Z"
   },
   {
    "duration": 29,
    "start_time": "2025-05-08T04:49:24.110Z"
   },
   {
    "duration": 393,
    "start_time": "2025-05-08T04:49:24.142Z"
   },
   {
    "duration": 3,
    "start_time": "2025-05-08T04:49:24.537Z"
   },
   {
    "duration": 13,
    "start_time": "2025-05-08T04:49:24.543Z"
   },
   {
    "duration": 166,
    "start_time": "2025-05-08T04:49:24.558Z"
   },
   {
    "duration": 1402,
    "start_time": "2025-05-08T04:49:24.730Z"
   },
   {
    "duration": 213,
    "start_time": "2025-05-08T04:49:26.134Z"
   },
   {
    "duration": 10,
    "start_time": "2025-05-08T04:49:26.349Z"
   },
   {
    "duration": 47,
    "start_time": "2025-05-08T04:49:26.361Z"
   },
   {
    "duration": 25,
    "start_time": "2025-05-08T04:49:26.412Z"
   },
   {
    "duration": 7,
    "start_time": "2025-05-08T04:49:26.444Z"
   },
   {
    "duration": 4,
    "start_time": "2025-05-08T04:49:26.452Z"
   },
   {
    "duration": 6,
    "start_time": "2025-05-08T04:49:26.459Z"
   },
   {
    "duration": 10,
    "start_time": "2025-05-08T04:49:26.467Z"
   },
   {
    "duration": 6,
    "start_time": "2025-05-08T04:49:26.479Z"
   },
   {
    "duration": 46,
    "start_time": "2025-05-08T04:49:26.487Z"
   },
   {
    "duration": 10,
    "start_time": "2025-05-08T04:49:26.536Z"
   },
   {
    "duration": 12,
    "start_time": "2025-05-08T04:49:26.548Z"
   },
   {
    "duration": 5,
    "start_time": "2025-05-08T04:49:26.561Z"
   },
   {
    "duration": 6,
    "start_time": "2025-05-08T04:49:26.568Z"
   },
   {
    "duration": 3,
    "start_time": "2025-05-08T04:49:26.576Z"
   },
   {
    "duration": 213,
    "start_time": "2025-05-08T04:49:26.580Z"
   },
   {
    "duration": 163,
    "start_time": "2025-05-08T04:49:26.795Z"
   },
   {
    "duration": 815,
    "start_time": "2025-05-08T04:49:26.960Z"
   },
   {
    "duration": 26,
    "start_time": "2025-05-08T04:49:27.777Z"
   },
   {
    "duration": 469,
    "start_time": "2025-05-08T04:49:27.805Z"
   },
   {
    "duration": 3705,
    "start_time": "2025-05-08T04:49:28.276Z"
   },
   {
    "duration": 284,
    "start_time": "2025-05-08T04:49:31.984Z"
   },
   {
    "duration": 4,
    "start_time": "2025-05-08T04:49:32.270Z"
   },
   {
    "duration": 7,
    "start_time": "2025-05-08T04:49:32.276Z"
   },
   {
    "duration": 12907,
    "start_time": "2025-05-08T04:49:32.285Z"
   },
   {
    "duration": 38,
    "start_time": "2025-05-08T04:49:45.194Z"
   },
   {
    "duration": 3450,
    "start_time": "2025-05-09T02:28:16.447Z"
   },
   {
    "duration": 626,
    "start_time": "2025-05-09T02:28:19.899Z"
   },
   {
    "duration": 33,
    "start_time": "2025-05-09T02:28:20.527Z"
   },
   {
    "duration": 22,
    "start_time": "2025-05-09T02:28:20.562Z"
   },
   {
    "duration": 473,
    "start_time": "2025-05-09T02:28:20.588Z"
   },
   {
    "duration": 3,
    "start_time": "2025-05-09T02:28:21.063Z"
   },
   {
    "duration": 14,
    "start_time": "2025-05-09T02:28:21.069Z"
   },
   {
    "duration": 177,
    "start_time": "2025-05-09T02:28:21.084Z"
   },
   {
    "duration": 1402,
    "start_time": "2025-05-09T02:28:21.262Z"
   },
   {
    "duration": 201,
    "start_time": "2025-05-09T02:28:22.667Z"
   },
   {
    "duration": 9,
    "start_time": "2025-05-09T02:28:22.872Z"
   },
   {
    "duration": 47,
    "start_time": "2025-05-09T02:28:22.882Z"
   },
   {
    "duration": 12,
    "start_time": "2025-05-09T02:28:22.933Z"
   },
   {
    "duration": 6,
    "start_time": "2025-05-09T02:28:22.948Z"
   },
   {
    "duration": 4,
    "start_time": "2025-05-09T02:28:22.956Z"
   },
   {
    "duration": 9,
    "start_time": "2025-05-09T02:28:27.242Z"
   },
   {
    "duration": 9,
    "start_time": "2025-05-09T02:28:42.048Z"
   },
   {
    "duration": 5,
    "start_time": "2025-05-09T02:29:10.101Z"
   },
   {
    "duration": 6,
    "start_time": "2025-05-09T02:29:19.475Z"
   },
   {
    "duration": 6,
    "start_time": "2025-05-09T02:29:26.234Z"
   },
   {
    "duration": 5,
    "start_time": "2025-05-09T02:29:37.132Z"
   },
   {
    "duration": 5,
    "start_time": "2025-05-09T02:29:47.209Z"
   },
   {
    "duration": 253,
    "start_time": "2025-05-09T02:38:46.804Z"
   }
  ],
  "kernelspec": {
   "display_name": "Python 3 (ipykernel)",
   "language": "python",
   "name": "python3"
  },
  "language_info": {
   "codemirror_mode": {
    "name": "ipython",
    "version": 3
   },
   "file_extension": ".py",
   "mimetype": "text/x-python",
   "name": "python",
   "nbconvert_exporter": "python",
   "pygments_lexer": "ipython3",
   "version": "3.9.19"
  },
  "toc": {
   "base_numbering": 1,
   "nav_menu": {},
   "number_sections": true,
   "sideBar": true,
   "skip_h1_title": true,
   "title_cell": "Table of Contents",
   "title_sidebar": "Contents",
   "toc_cell": false,
   "toc_position": {},
   "toc_section_display": true,
   "toc_window_display": false
  }
 },
 "nbformat": 4,
 "nbformat_minor": 2
}
