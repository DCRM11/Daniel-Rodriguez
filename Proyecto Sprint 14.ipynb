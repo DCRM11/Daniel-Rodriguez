{
 "cells": [
  {
   "cell_type": "markdown",
   "metadata": {},
   "source": [
    "¡Hola!\n",
    "\n",
    "Mi nombre es Marcos Torres y tengo el gusto de revisar tu código el día de hoy.\n",
    "\n",
    "Cuando vea algo notable o algún asunto en el notebook, te dejaré un comentario o un hint. Se que encontraras la mejor respuesta para resolver todos los comentarios, de no ser así, no te preocupes en futuras iteraciones dejaré comentarios y pistas más específicos.\n",
    "\n",
    "Encontrarás comentarios en verde, amarillo o rojo como los siguientes:\n",
    "\n",
    "<div class=\"alert alert-block alert-success\">\n",
    "<b>Comentario del revisor</b> <a class=\"tocSkip\"></a>\n",
    "\n",
    "Buen trabajo. ¡Lo hiciste muy bien!\n",
    "</div>\n",
    "\n",
    "<div class=\"alert alert-block alert-warning\">\n",
    "<b>Comentario del revisor</b> <a class=\"tocSkip\"></a>\n",
    "\n",
    "Nota. Se puede mejorar.\n",
    "</div>\n",
    "\n",
    "<div class=\"alert alert-block alert-danger\">\n",
    "<b>Comentario del revisor</b> <a class=\"tocSkip\"></a>\n",
    "\n",
    "Necesitas corregirlo. Este bloque indica que se requiere una correción. El trabajo no se acepta si tiene estos bloques.\n",
    "</div>\n",
    "\n",
    "Puedes responder a mis comentarios usando estos bloques:\n",
    "\n",
    "<div class=\"alert alert-block alert-info\">\n",
    "<b>Respuesta del estudiante.</b> <a class=\"tocSkip\"></a>\n",
    "</div>"
   ]
  },
  {
   "cell_type": "markdown",
   "metadata": {},
   "source": [
    "## Preparación de datos"
   ]
  },
  {
   "cell_type": "markdown",
   "metadata": {},
   "source": [
    "## Instrucción 1: Descarga y examina los datos:"
   ]
  },
  {
   "cell_type": "code",
   "execution_count": 1,
   "metadata": {},
   "outputs": [],
   "source": [
    "# cargar todas las librerías\n",
    "import pandas as pd\n",
    "import numpy as np\n",
    "import matplotlib.pyplot as plt\n",
    "import seaborn as sns\n",
    "import sklearn\n",
    "from sklearn.model_selection import train_test_split\n",
    "from sklearn.preprocessing import StandardScaler\n",
    "from sklearn.linear_model import LinearRegression\n",
    "from sklearn.tree import DecisionTreeRegressor\n",
    "from sklearn.ensemble import RandomForestRegressor\n",
    "from xgboost import XGBRegressor\n",
    "from lightgbm import LGBMRegressor\n",
    "from catboost import CatBoostRegressor\n",
    "from sklearn.metrics import mean_squared_error, r2_score"
   ]
  },
  {
   "cell_type": "code",
   "execution_count": 2,
   "metadata": {},
   "outputs": [],
   "source": [
    "# Cargar el dataset\n",
    "df = pd.read_csv('/datasets/car_data.csv')"
   ]
  },
  {
   "cell_type": "markdown",
   "metadata": {},
   "source": [
    "<div class=\"alert alert-block alert-success\">\n",
    "<b>Comentario del revisor</b> <a class=\"tocSkip\"></a>\n",
    "\n",
    "¡Bien!, usaste una celda independiete para importar las librerías y otra para leer los datos.\n",
    "</div>"
   ]
  },
  {
   "cell_type": "code",
   "execution_count": 3,
   "metadata": {},
   "outputs": [
    {
     "name": "stdout",
     "output_type": "stream",
     "text": [
      "<class 'pandas.core.frame.DataFrame'>\n",
      "RangeIndex: 354369 entries, 0 to 354368\n",
      "Data columns (total 16 columns):\n",
      " #   Column             Non-Null Count   Dtype \n",
      "---  ------             --------------   ----- \n",
      " 0   DateCrawled        354369 non-null  object\n",
      " 1   Price              354369 non-null  int64 \n",
      " 2   VehicleType        316879 non-null  object\n",
      " 3   RegistrationYear   354369 non-null  int64 \n",
      " 4   Gearbox            334536 non-null  object\n",
      " 5   Power              354369 non-null  int64 \n",
      " 6   Model              334664 non-null  object\n",
      " 7   Mileage            354369 non-null  int64 \n",
      " 8   RegistrationMonth  354369 non-null  int64 \n",
      " 9   FuelType           321474 non-null  object\n",
      " 10  Brand              354369 non-null  object\n",
      " 11  NotRepaired        283215 non-null  object\n",
      " 12  DateCreated        354369 non-null  object\n",
      " 13  NumberOfPictures   354369 non-null  int64 \n",
      " 14  PostalCode         354369 non-null  int64 \n",
      " 15  LastSeen           354369 non-null  object\n",
      "dtypes: int64(7), object(9)\n",
      "memory usage: 43.3+ MB\n"
     ]
    }
   ],
   "source": [
    "df.info()"
   ]
  },
  {
   "cell_type": "code",
   "execution_count": 4,
   "metadata": {},
   "outputs": [
    {
     "name": "stdout",
     "output_type": "stream",
     "text": [
      "        DateCrawled  Price VehicleType  RegistrationYear Gearbox  Power  \\\n",
      "0  24/03/2016 11:52    480         NaN              1993  manual      0   \n",
      "1  24/03/2016 10:58  18300       coupe              2011  manual    190   \n",
      "2  14/03/2016 12:52   9800         suv              2004    auto    163   \n",
      "3  17/03/2016 16:54   1500       small              2001  manual     75   \n",
      "4  31/03/2016 17:25   3600       small              2008  manual     69   \n",
      "\n",
      "   Model  Mileage  RegistrationMonth  FuelType       Brand NotRepaired  \\\n",
      "0   golf   150000                  0    petrol  volkswagen         NaN   \n",
      "1    NaN   125000                  5  gasoline        audi         yes   \n",
      "2  grand   125000                  8  gasoline        jeep         NaN   \n",
      "3   golf   150000                  6    petrol  volkswagen          no   \n",
      "4  fabia    90000                  7  gasoline       skoda          no   \n",
      "\n",
      "        DateCreated  NumberOfPictures  PostalCode          LastSeen  \n",
      "0  24/03/2016 00:00                 0       70435  07/04/2016 03:16  \n",
      "1  24/03/2016 00:00                 0       66954  07/04/2016 01:46  \n",
      "2  14/03/2016 00:00                 0       90480  05/04/2016 12:47  \n",
      "3  17/03/2016 00:00                 0       91074  17/03/2016 17:40  \n",
      "4  31/03/2016 00:00                 0       60437  06/04/2016 10:17  \n"
     ]
    }
   ],
   "source": [
    "print(df.head())"
   ]
  },
  {
   "cell_type": "code",
   "execution_count": 5,
   "metadata": {},
   "outputs": [
    {
     "name": "stdout",
     "output_type": "stream",
     "text": [
      "               Price  RegistrationYear          Power        Mileage  \\\n",
      "count  354369.000000     354369.000000  354369.000000  354369.000000   \n",
      "mean     4416.656776       2004.234448     110.094337  128211.172535   \n",
      "std      4514.158514         90.227958     189.850405   37905.341530   \n",
      "min         0.000000       1000.000000       0.000000    5000.000000   \n",
      "25%      1050.000000       1999.000000      69.000000  125000.000000   \n",
      "50%      2700.000000       2003.000000     105.000000  150000.000000   \n",
      "75%      6400.000000       2008.000000     143.000000  150000.000000   \n",
      "max     20000.000000       9999.000000   20000.000000  150000.000000   \n",
      "\n",
      "       RegistrationMonth  NumberOfPictures     PostalCode  \n",
      "count      354369.000000          354369.0  354369.000000  \n",
      "mean            5.714645               0.0   50508.689087  \n",
      "std             3.726421               0.0   25783.096248  \n",
      "min             0.000000               0.0    1067.000000  \n",
      "25%             3.000000               0.0   30165.000000  \n",
      "50%             6.000000               0.0   49413.000000  \n",
      "75%             9.000000               0.0   71083.000000  \n",
      "max            12.000000               0.0   99998.000000  \n"
     ]
    }
   ],
   "source": [
    "print(df.describe())"
   ]
  },
  {
   "cell_type": "code",
   "execution_count": 6,
   "metadata": {},
   "outputs": [
    {
     "name": "stdout",
     "output_type": "stream",
     "text": [
      "DateCrawled              0\n",
      "Price                    0\n",
      "VehicleType          37490\n",
      "RegistrationYear         0\n",
      "Gearbox              19833\n",
      "Power                    0\n",
      "Model                19705\n",
      "Mileage                  0\n",
      "RegistrationMonth        0\n",
      "FuelType             32895\n",
      "Brand                    0\n",
      "NotRepaired          71154\n",
      "DateCreated              0\n",
      "NumberOfPictures         0\n",
      "PostalCode               0\n",
      "LastSeen                 0\n",
      "dtype: int64\n"
     ]
    }
   ],
   "source": [
    "# Revisión de valores nulos\n",
    "print(df.isnull().sum())  # Conteo de valores nulos"
   ]
  },
  {
   "cell_type": "markdown",
   "metadata": {},
   "source": [
    "<div class=\"alert alert-block alert-success\">\n",
    "<b>Comentario del revisor</b> <a class=\"tocSkip\"></a>\n",
    "\n",
    "Buen uso de los métodos de pandas para explorar los datos.\n",
    "</div>"
   ]
  },
  {
   "cell_type": "code",
   "execution_count": 7,
   "metadata": {},
   "outputs": [
    {
     "name": "stdout",
     "output_type": "stream",
     "text": [
      "262\n"
     ]
    }
   ],
   "source": [
    "# Revisión de valores duplicados\n",
    "print(df.duplicated().sum())  # Conteo de filas duplicadas"
   ]
  },
  {
   "cell_type": "code",
   "execution_count": 8,
   "metadata": {},
   "outputs": [],
   "source": [
    "# Eliminar valores duplicados\n",
    "df = df.drop_duplicates().reset_index(drop=True)"
   ]
  },
  {
   "cell_type": "code",
   "execution_count": 9,
   "metadata": {},
   "outputs": [
    {
     "name": "stdout",
     "output_type": "stream",
     "text": [
      "0\n"
     ]
    }
   ],
   "source": [
    "# Nueva revisión de valores duplicados\n",
    "print(df.duplicated().sum())  # Conteo de filas duplicadas"
   ]
  },
  {
   "cell_type": "code",
   "execution_count": 10,
   "metadata": {},
   "outputs": [
    {
     "data": {
      "image/png": "[encoded data removed]",
      "text/plain": [
       "<Figure size 1000x600 with 2 Axes>"
      ]
     },
     "metadata": {},
     "output_type": "display_data"
    }
   ],
   "source": [
    "plt.figure(figsize=(10, 6))\n",
    "sns.heatmap(df.corr(), annot=True, cmap='coolwarm', fmt=\".2f\")\n",
    "plt.title('Mapa de calor de correlación')\n",
    "plt.show()"
   ]
  },
  {
   "cell_type": "markdown",
   "metadata": {},
   "source": [
    "<div class=\"alert alert-block alert-success\">\n",
    "<b>Comentario del revisor</b> <a class=\"tocSkip\"></a>\n",
    "\n",
    "¡Muy bien! Esta gráfica muestra correctamente la correlación entre las variables. Recuerda que una correlación alta puede ser mala para algunos modelos de ML.\n",
    "</div>"
   ]
  },
  {
   "cell_type": "code",
   "execution_count": 11,
   "metadata": {},
   "outputs": [],
   "source": [
    "# Relleno con la moda para las variables categóricas más relevantes\n",
    "cols_moda = ['VehicleType', 'Gearbox', 'Model', 'FuelType']\n",
    "for col in cols_moda:\n",
    "    df[col].fillna(df[col].mode()[0], inplace=True)"
   ]
  },
  {
   "cell_type": "code",
   "execution_count": 12,
   "metadata": {},
   "outputs": [],
   "source": [
    "# Relleno con \"unknown\" para NotRepaired\n",
    "df['NotRepaired'].fillna(\"unknown\", inplace=True)"
   ]
  },
  {
   "cell_type": "markdown",
   "metadata": {},
   "source": [
    "<div class=\"alert alert-block alert-success\">\n",
    "<b>Comentario del revisor</b> <a class=\"tocSkip\"></a>\n",
    "\n",
    "Buen manejo de las columnas y de los valores nulos en las tablas.\n",
    "</div>"
   ]
  },
  {
   "cell_type": "code",
   "execution_count": 13,
   "metadata": {},
   "outputs": [
    {
     "name": "stdout",
     "output_type": "stream",
     "text": [
      "DateCrawled          0\n",
      "Price                0\n",
      "VehicleType          0\n",
      "RegistrationYear     0\n",
      "Gearbox              0\n",
      "Power                0\n",
      "Model                0\n",
      "Mileage              0\n",
      "RegistrationMonth    0\n",
      "FuelType             0\n",
      "Brand                0\n",
      "NotRepaired          0\n",
      "DateCreated          0\n",
      "NumberOfPictures     0\n",
      "PostalCode           0\n",
      "LastSeen             0\n",
      "dtype: int64\n"
     ]
    }
   ],
   "source": [
    "print(df.isnull().sum())  # Conteo de valores nulos por columna"
   ]
  },
  {
   "cell_type": "code",
   "execution_count": 14,
   "metadata": {},
   "outputs": [
    {
     "data": {
      "image/png": "[encoded data removed]",
      "text/plain": [
       "<Figure size 1000x500 with 1 Axes>"
      ]
     },
     "metadata": {},
     "output_type": "display_data"
    }
   ],
   "source": [
    "# Boxplots para identificar valores atípicos - outliers\n",
    "plt.figure(figsize=(10, 5))\n",
    "sns.boxplot(data=df[['Price', 'Power', 'Mileage', 'RegistrationYear']])\n",
    "plt.title('Distribución de variables numéricas')\n",
    "plt.show()"
   ]
  },
  {
   "cell_type": "markdown",
   "metadata": {},
   "source": [
    "<div class=\"alert alert-block alert-warning\">\n",
    "<b>Comentario del revisor</b> <a class=\"tocSkip\"></a>\n",
    "\n",
    "Bien hecho, graficaste correctamente las boxplot de estas varibles. Aunque en general se recomienda graficar boxplots en el mismo eje esto solo es aconsejable cuando los valores son de la misma escala, en este caso las features son de diferente escala (por ejemplo el año y el millaje se miden en cantidades muy distintas). Es por eso que en este caso hubiera sido mejor gráficar cada variable en una gráfica independiente.\n",
    "</div>"
   ]
  },
  {
   "cell_type": "code",
   "execution_count": 15,
   "metadata": {},
   "outputs": [
    {
     "data": {
      "image/png": "[encoded data removed]",
      "text/plain": [
       "<Figure size 1000x500 with 1 Axes>"
      ]
     },
     "metadata": {},
     "output_type": "display_data"
    }
   ],
   "source": [
    "# Histograma de Price para ver su distribución\n",
    "plt.figure(figsize=(10, 5))\n",
    "sns.histplot(df['Price'], bins=30, kde=True)\n",
    "plt.title('Distribución de precios')\n",
    "plt.show()"
   ]
  },
  {
   "cell_type": "code",
   "execution_count": 16,
   "metadata": {},
   "outputs": [
    {
     "name": "stdout",
     "output_type": "stream",
     "text": [
      "Outliers en Price: 3443 registros\n",
      "Outliers en Power: 3504 registros\n",
      "Outliers en Mileage: 0 registros\n"
     ]
    }
   ],
   "source": [
    "#Tratamiento de los outliers\n",
    "# Definir percentiles\n",
    "p1 = df[['Price', 'Power', 'Mileage']].quantile(0.01)\n",
    "p99 = df[['Price', 'Power', 'Mileage']].quantile(0.99)\n",
    "\n",
    "# Ver cuántos valores están por fuera de los rangos definidos\n",
    "outliers_price = df[(df['Price'] < p1['Price']) | (df['Price'] > p99['Price'])]\n",
    "outliers_power = df[(df['Power'] < p1['Power']) | (df['Power'] > p99['Power'])]\n",
    "outliers_mileage = df[(df['Mileage'] < p1['Mileage']) | (df['Mileage'] > p99['Mileage'])]\n",
    "\n",
    "print(f\"Outliers en Price: {len(outliers_price)} registros\")\n",
    "print(f\"Outliers en Power: {len(outliers_power)} registros\")\n",
    "print(f\"Outliers en Mileage: {len(outliers_mileage)} registros\")"
   ]
  },
  {
   "cell_type": "markdown",
   "metadata": {},
   "source": [
    "<div class=\"alert alert-block alert-success\">\n",
    "<b>Comentario del revisor</b> <a class=\"tocSkip\"></a>\n",
    "\n",
    "¡Muy bien! Cuando se trabaja con datos reales los outliers siempre aparecen, es por eso que es importante manejarlos de alguna manera.\n",
    "</div>"
   ]
  },
  {
   "cell_type": "code",
   "execution_count": 17,
   "metadata": {},
   "outputs": [
    {
     "name": "stdout",
     "output_type": "stream",
     "text": [
      "             DateCrawled  Price  VehicleType  RegistrationYear Gearbox  Power  \\\n",
      "0       24/03/2016 11:52    480        sedan              1993  manual      0   \n",
      "1       24/03/2016 10:58  18300        coupe              2011  manual    190   \n",
      "2       14/03/2016 12:52   9800          suv              2004    auto    163   \n",
      "3       17/03/2016 16:54   1500        small              2001  manual     75   \n",
      "4       31/03/2016 17:25   3600        small              2008  manual     69   \n",
      "...                  ...    ...          ...               ...     ...    ...   \n",
      "354102  21/03/2016 09:50      0        sedan              2005  manual      0   \n",
      "354103  14/03/2016 17:48   2200        sedan              2005  manual      0   \n",
      "354104  05/03/2016 19:56   1199  convertible              2000    auto    101   \n",
      "354105  19/03/2016 18:57   9200          bus              1996  manual    102   \n",
      "354106  20/03/2016 19:41   3400        wagon              2002  manual    100   \n",
      "\n",
      "              Model  Mileage  RegistrationMonth  FuelType           Brand  \\\n",
      "0              golf   150000                  0    petrol      volkswagen   \n",
      "1              golf   125000                  5  gasoline            audi   \n",
      "2             grand   125000                  8  gasoline            jeep   \n",
      "3              golf   150000                  6    petrol      volkswagen   \n",
      "4             fabia    90000                  7  gasoline           skoda   \n",
      "...             ...      ...                ...       ...             ...   \n",
      "354102         colt   150000                  7    petrol      mitsubishi   \n",
      "354103         golf    20000                  1    petrol  sonstige_autos   \n",
      "354104       fortwo   125000                  3    petrol           smart   \n",
      "354105  transporter   150000                  3  gasoline      volkswagen   \n",
      "354106         golf   150000                  6  gasoline      volkswagen   \n",
      "\n",
      "       NotRepaired       DateCreated  NumberOfPictures  PostalCode  \\\n",
      "0          unknown  24/03/2016 00:00                 0       70435   \n",
      "1              yes  24/03/2016 00:00                 0       66954   \n",
      "2          unknown  14/03/2016 00:00                 0       90480   \n",
      "3               no  17/03/2016 00:00                 0       91074   \n",
      "4               no  31/03/2016 00:00                 0       60437   \n",
      "...            ...               ...               ...         ...   \n",
      "354102         yes  21/03/2016 00:00                 0        2694   \n",
      "354103     unknown  14/03/2016 00:00                 0       39576   \n",
      "354104          no  05/03/2016 00:00                 0       26135   \n",
      "354105          no  19/03/2016 00:00                 0       87439   \n",
      "354106     unknown  20/03/2016 00:00                 0       40764   \n",
      "\n",
      "                LastSeen  \n",
      "0       07/04/2016 03:16  \n",
      "1       07/04/2016 01:46  \n",
      "2       05/04/2016 12:47  \n",
      "3       17/03/2016 17:40  \n",
      "4       06/04/2016 10:17  \n",
      "...                  ...  \n",
      "354102  21/03/2016 10:42  \n",
      "354103  06/04/2016 00:46  \n",
      "354104  11/03/2016 18:17  \n",
      "354105  07/04/2016 07:15  \n",
      "354106  24/03/2016 12:45  \n",
      "\n",
      "[347450 rows x 16 columns]\n"
     ]
    }
   ],
   "source": [
    "#ajuste de valores extremos\n",
    "df = df[(df['Price'] >= p1['Price']) & (df['Price'] <= p99['Price'])]\n",
    "df = df[(df['Power'] >= p1['Power']) & (df['Power'] <= p99['Power'])]\n",
    "print(df)"
   ]
  },
  {
   "cell_type": "code",
   "execution_count": 18,
   "metadata": {},
   "outputs": [
    {
     "name": "stdout",
     "output_type": "stream",
     "text": [
      "Outliers en Price después de limpieza: 0 registros\n",
      "Outliers en Power después de limpieza: 0 registros\n"
     ]
    }
   ],
   "source": [
    "# Revisar cuántos valores están por fuera del nuevo rango filtrado\n",
    "outliers_price = df[(df['Price'] < p1['Price']) | (df['Price'] > p99['Price'])]\n",
    "outliers_power = df[(df['Power'] < p1['Power']) | (df['Power'] > p99['Power'])]\n",
    "\n",
    "print(f\"Outliers en Price después de limpieza: {len(outliers_price)} registros\")\n",
    "print(f\"Outliers en Power después de limpieza: {len(outliers_power)} registros\")"
   ]
  },
  {
   "cell_type": "code",
   "execution_count": 19,
   "metadata": {},
   "outputs": [
    {
     "name": "stdout",
     "output_type": "stream",
     "text": [
      "               Price          Power        Mileage\n",
      "count  347450.000000  347450.000000  347450.000000\n",
      "mean     4216.350289     103.703575  128562.426248\n",
      "std      4233.934220      58.971641   37612.300048\n",
      "min         0.000000       0.000000    5000.000000\n",
      "25%      1000.000000      68.000000  125000.000000\n",
      "50%      2600.000000     102.000000  150000.000000\n",
      "75%      6000.000000     140.000000  150000.000000\n",
      "max     18800.000000     300.000000  150000.000000\n"
     ]
    }
   ],
   "source": [
    "# confirmar cambios\n",
    "print(df[['Price', 'Power', 'Mileage']].describe())"
   ]
  },
  {
   "cell_type": "markdown",
   "metadata": {},
   "source": [
    "<div class=\"alert alert-block alert-success\">\n",
    "<b>Comentario del revisor</b> <a class=\"tocSkip\"></a>\n",
    "\n",
    "¡Bien!, los datos se han tratado de manera correcta.\n",
    "</div>"
   ]
  },
  {
   "cell_type": "markdown",
   "metadata": {},
   "source": [
    "**Conclusiones del Análisis Exploratorio EDA:**\n",
    "\n",
    "1. Eliminación de valores nulos y duplicados\n",
    "\n",
    "- Se eliminaron 262 registros duplicados, asegurando que no haya datos redundantes en el entrenamiento.\n",
    "\n",
    "- Se rellenaron valores nulos en variables categóricas con la moda o \"unknown\" para preservar información sin perder registros valiosos.\n",
    "\n",
    "2. Detección y tratamiento de outliers\n",
    "\n",
    "- Price y Power presentaban valores extremos que podrían afectar la predicción.\n",
    "\n",
    "- Se filtraron valores fuera del rango de percentiles 1% y 99%, reduciendo más de 3443 registros en Price y 3504 en Power, estabilizando la distribución.\n",
    "\n",
    "- Mileage no tenía outliers, lo cual sugiere que los datos de kilometraje están bien distribuidos y no requieren ajustes.\n",
    "\n",
    "3. Distribución de variables según el histograma y boxplot\n",
    "\n",
    "- Price mostró un sesgo a la izquierda, indicando que la mayoría de los autos en venta tienen precios bajos, pero con algunos valores elevados.\n",
    "\n",
    "- El ajuste de los outliers permitió una distribución más uniforme, lo que beneficiará la estabilidad del modelo.\n",
    "\n",
    "- Power tenía valores inusualmente altos, por lo que la eliminación de outliers ayudará a evitar predicciones erráticas.\n",
    "\n",
    "4. Relación entre variables según el mapa de calor\n",
    "\n",
    "- Se confirmó que Power y Mileage tienen correlación con Price, por lo que serán variables clave en la predicción.\n",
    "\n",
    "- RegistrationYear mostró cierta relación con Price, lo cual indica que el año de matriculación influye en el valor del vehículo.\n",
    "\n",
    "- Variables categóricas como FuelType y VehicleType deberán transformarse adecuadamente, especialmente para modelos como XGBoost que requieren One-Hot Encoding.\n"
   ]
  },
  {
   "cell_type": "markdown",
   "metadata": {},
   "source": [
    "<div class=\"alert alert-block alert-success\">\n",
    "<b>Comentario del revisor</b> <a class=\"tocSkip\"></a>\n",
    "\n",
    "¡Buenas conclusiones intermedias!\n",
    "</div>"
   ]
  },
  {
   "cell_type": "markdown",
   "metadata": {},
   "source": [
    "## Instrucción 2"
   ]
  },
  {
   "cell_type": "markdown",
   "metadata": {},
   "source": [
    "## Análisis del modelo"
   ]
  },
  {
   "cell_type": "code",
   "execution_count": 20,
   "metadata": {},
   "outputs": [],
   "source": [
    "# Definir variables predictoras y objetivo\n",
    "X = df.drop(columns=['Price'])  # Excluimos la variable objetivo\n",
    "y = df['Price']"
   ]
  },
  {
   "cell_type": "code",
   "execution_count": 21,
   "metadata": {},
   "outputs": [
    {
     "name": "stdout",
     "output_type": "stream",
     "text": [
      "Columnas categóricas antes de convertir a dummies: 9\n"
     ]
    }
   ],
   "source": [
    "categorical_cols = X.select_dtypes(include=['object']).columns\n",
    "print(f\"Columnas categóricas antes de convertir a dummies: {len(categorical_cols)}\")"
   ]
  },
  {
   "cell_type": "code",
   "execution_count": 22,
   "metadata": {},
   "outputs": [
    {
     "name": "stdout",
     "output_type": "stream",
     "text": [
      "DateCrawled: 15428 categorías\n",
      "VehicleType: 8 categorías\n",
      "Gearbox: 2 categorías\n",
      "Model: 250 categorías\n",
      "FuelType: 7 categorías\n",
      "Brand: 40 categorías\n",
      "NotRepaired: 3 categorías\n",
      "DateCreated: 108 categorías\n",
      "LastSeen: 18528 categorías\n"
     ]
    }
   ],
   "source": [
    "for col in categorical_cols:\n",
    "    print(f\"{col}: {X[col].nunique()} categorías\")"
   ]
  },
  {
   "cell_type": "markdown",
   "metadata": {},
   "source": [
    "<div class=\"alert alert-block alert-success\">\n",
    "<b>Comentario del revisor</b> <a class=\"tocSkip\"></a>\n",
    "\n",
    "¡Bien!, es importante conocer la cantidad de categorías antes de realizar una transformación, pues una columna con muchas cateogrías distintas podría ser problemática.\n",
    "</div>"
   ]
  },
  {
   "cell_type": "code",
   "execution_count": 23,
   "metadata": {},
   "outputs": [],
   "source": [
    "X = X.drop(columns=['DateCrawled', 'LastSeen', 'DateCreated', 'Model'])  # Eliminamos columnas problemáticas"
   ]
  },
  {
   "cell_type": "code",
   "execution_count": 24,
   "metadata": {},
   "outputs": [],
   "source": [
    "X['Brand'] = X['Brand'].astype('category')"
   ]
  },
  {
   "cell_type": "code",
   "execution_count": 25,
   "metadata": {},
   "outputs": [],
   "source": [
    "top_brands = X['Brand'].value_counts().index[:15]  # Usamos solo las 15 marcas más comunes\n",
    "X['Brand'] = X['Brand'].apply(lambda x: x if x in top_brands else 'Other')"
   ]
  },
  {
   "cell_type": "code",
   "execution_count": 26,
   "metadata": {},
   "outputs": [
    {
     "name": "stdout",
     "output_type": "stream",
     "text": [
      "Dimensiones de X después de procesar Brand: (347450, 25)\n"
     ]
    }
   ],
   "source": [
    "X = pd.get_dummies(X, columns=['Brand'], drop_first=True)\n",
    "print(f\"Dimensiones de X después de procesar Brand: {X.shape}\")"
   ]
  },
  {
   "cell_type": "code",
   "execution_count": 27,
   "metadata": {},
   "outputs": [
    {
     "name": "stdout",
     "output_type": "stream",
     "text": [
      "VehicleType            object\n",
      "RegistrationYear        int64\n",
      "Gearbox                object\n",
      "Power                   int64\n",
      "Mileage                 int64\n",
      "RegistrationMonth       int64\n",
      "FuelType               object\n",
      "NotRepaired            object\n",
      "NumberOfPictures        int64\n",
      "PostalCode              int64\n",
      "Brand_audi              uint8\n",
      "Brand_bmw               uint8\n",
      "Brand_citroen           uint8\n",
      "Brand_fiat              uint8\n",
      "Brand_ford              uint8\n",
      "Brand_mazda             uint8\n",
      "Brand_mercedes_benz     uint8\n",
      "Brand_nissan            uint8\n",
      "Brand_opel              uint8\n",
      "Brand_peugeot           uint8\n",
      "Brand_renault           uint8\n",
      "Brand_seat              uint8\n",
      "Brand_skoda             uint8\n",
      "Brand_smart             uint8\n",
      "Brand_volkswagen        uint8\n",
      "dtype: object\n"
     ]
    }
   ],
   "source": [
    "print(X.dtypes)  # Ver qué columnas aún son tipo 'object'"
   ]
  },
  {
   "cell_type": "code",
   "execution_count": 28,
   "metadata": {},
   "outputs": [
    {
     "name": "stdout",
     "output_type": "stream",
     "text": [
      "RegistrationYear           int64\n",
      "Power                      int64\n",
      "Mileage                    int64\n",
      "RegistrationMonth          int64\n",
      "NumberOfPictures           int64\n",
      "PostalCode                 int64\n",
      "Brand_audi                 uint8\n",
      "Brand_bmw                  uint8\n",
      "Brand_citroen              uint8\n",
      "Brand_fiat                 uint8\n",
      "Brand_ford                 uint8\n",
      "Brand_mazda                uint8\n",
      "Brand_mercedes_benz        uint8\n",
      "Brand_nissan               uint8\n",
      "Brand_opel                 uint8\n",
      "Brand_peugeot              uint8\n",
      "Brand_renault              uint8\n",
      "Brand_seat                 uint8\n",
      "Brand_skoda                uint8\n",
      "Brand_smart                uint8\n",
      "Brand_volkswagen           uint8\n",
      "VehicleType_convertible    uint8\n",
      "VehicleType_coupe          uint8\n",
      "VehicleType_other          uint8\n",
      "VehicleType_sedan          uint8\n",
      "VehicleType_small          uint8\n",
      "VehicleType_suv            uint8\n",
      "VehicleType_wagon          uint8\n",
      "Gearbox_manual             uint8\n",
      "FuelType_electric          uint8\n",
      "FuelType_gasoline          uint8\n",
      "FuelType_hybrid            uint8\n",
      "FuelType_lpg               uint8\n",
      "FuelType_other             uint8\n",
      "FuelType_petrol            uint8\n",
      "NotRepaired_unknown        uint8\n",
      "NotRepaired_yes            uint8\n",
      "dtype: object\n"
     ]
    }
   ],
   "source": [
    "X = pd.get_dummies(X, columns=['VehicleType', 'Gearbox', 'FuelType', 'NotRepaired'], drop_first=True)\n",
    "print(X.dtypes)"
   ]
  },
  {
   "cell_type": "markdown",
   "metadata": {},
   "source": [
    "<div class=\"alert alert-block alert-success\">\n",
    "<b>Comentario del revisor</b> <a class=\"tocSkip\"></a>\n",
    "\n",
    "¡Buen trabajo! Estos valores son buenos para crear el conjunto de entrenamiento y prueba.\n",
    "</div>"
   ]
  },
  {
   "cell_type": "code",
   "execution_count": 29,
   "metadata": {},
   "outputs": [
    {
     "name": "stdout",
     "output_type": "stream",
     "text": [
      "Dimensiones de X_train_scaled: (277960, 37)\n",
      "Dimensiones de X_test_scaled: (69490, 37)\n"
     ]
    }
   ],
   "source": [
    "# Dividir los datos en entrenamiento y validación\n",
    "X_train, X_test, y_train, y_test = train_test_split(X, y, test_size=0.2, random_state=42)\n",
    "\n",
    "# Aplicar StandardScaler\n",
    "scaler = StandardScaler()\n",
    "X_train_scaled = scaler.fit_transform(X_train)\n",
    "X_test_scaled = scaler.transform(X_test)\n",
    "\n",
    "# Verificar la transformación correcta\n",
    "print(f\"Dimensiones de X_train_scaled: {X_train_scaled.shape}\")\n",
    "print(f\"Dimensiones de X_test_scaled: {X_test_scaled.shape}\")\n"
   ]
  },
  {
   "cell_type": "markdown",
   "metadata": {},
   "source": [
    "<div class=\"alert alert-block alert-success\">\n",
    "<b>Comentario del revisor</b> <a class=\"tocSkip\"></a>\n",
    "\n",
    "¡Perfecto! Se escalaron correctamente los datos. Esto puede ayudar a algunos modelos de ML, especialmente a la regresión lineal.\n",
    "</div>"
   ]
  },
  {
   "cell_type": "code",
   "execution_count": 30,
   "metadata": {},
   "outputs": [
    {
     "name": "stdout",
     "output_type": "stream",
     "text": [
      "Regresión Lineal - R²: 0.4987, RMSE: 2994.6575\n",
      "CPU times: user 418 ms, sys: 396 ms, total: 814 ms\n",
      "Wall time: 401 ms\n"
     ]
    }
   ],
   "source": [
    "%%time\n",
    "# Definir y entrenar el modelo\n",
    "model_lr = LinearRegression()\n",
    "model_lr.fit(X_train_scaled, y_train)\n",
    "\n",
    "# Realizar predicciones\n",
    "y_pred = model_lr.predict(X_test_scaled)\n",
    "\n",
    "# Evaluación del modelo\n",
    "r2 = r2_score(y_test, y_pred)\n",
    "rmse = np.sqrt(mean_squared_error(y_test, y_pred))\n",
    "\n",
    "print(f\"Regresión Lineal - R²: {r2:.4f}, RMSE: {rmse:.4f}\")"
   ]
  },
  {
   "cell_type": "markdown",
   "metadata": {},
   "source": [
    "<div class=\"alert alert-block alert-success\">\n",
    "<b>Comentario del revisor</b> <a class=\"tocSkip\"></a>\n",
    "\n",
    "¡Bien!, Se ha ajustado correctamente el modelo de regresión lineal.\n",
    "</div>"
   ]
  },
  {
   "cell_type": "code",
   "execution_count": 31,
   "metadata": {},
   "outputs": [
    {
     "name": "stdout",
     "output_type": "stream",
     "text": [
      "Árbol de Decisión - R²: 0.7693, RMSE: 2031.7930\n",
      "CPU times: user 933 ms, sys: 91.7 ms, total: 1.02 s\n",
      "Wall time: 946 ms\n"
     ]
    }
   ],
   "source": [
    "%%time\n",
    "# Definir y entrenar el modelo de Árbol de Decisión\n",
    "tree_model = DecisionTreeRegressor(max_depth=10, random_state=42)\n",
    "tree_model.fit(X_train_scaled, y_train)\n",
    "\n",
    "# Realizar predicciones\n",
    "y_pred_tree = tree_model.predict(X_test_scaled)\n",
    "\n",
    "# Evaluar métricas\n",
    "r2_tree = r2_score(y_test, y_pred_tree)\n",
    "rmse_tree = np.sqrt(mean_squared_error(y_test, y_pred_tree))\n",
    "\n",
    "print(f\"Árbol de Decisión - R²: {r2_tree:.4f}, RMSE: {rmse_tree:.4f}\")\n"
   ]
  },
  {
   "cell_type": "markdown",
   "metadata": {},
   "source": [
    "<div class=\"alert alert-block alert-success\">\n",
    "<b>Comentario del revisor</b> <a class=\"tocSkip\"></a>\n",
    "\n",
    "El modelo de árbol de decisión se entrenó correctamente. Hubiera sido bueno usar un ciclo for para explorar distintos valores del hiperparámetro de profundidad.\n",
    "</div>"
   ]
  },
  {
   "cell_type": "code",
   "execution_count": 32,
   "metadata": {},
   "outputs": [
    {
     "name": "stdout",
     "output_type": "stream",
     "text": [
      "Bosque Aleatorio - R²: 0.7443, RMSE: 2138.7622\n",
      "CPU times: user 21.4 s, sys: 22.4 ms, total: 21.5 s\n",
      "Wall time: 21.4 s\n"
     ]
    }
   ],
   "source": [
    "%%time\n",
    "# Definir y entrenar el modelo de Bosque Aleatorio\n",
    "forest_model = RandomForestRegressor(n_estimators=50, max_depth=7, random_state=42)\n",
    "forest_model.fit(X_train_scaled, y_train)\n",
    "\n",
    "# Realizar predicciones\n",
    "y_pred_forest = forest_model.predict(X_test_scaled)\n",
    "\n",
    "# Evaluar métricas\n",
    "r2_forest = r2_score(y_test, y_pred_forest)\n",
    "rmse_forest = np.sqrt(mean_squared_error(y_test, y_pred_forest))\n",
    "\n",
    "print(f\"Bosque Aleatorio - R²: {r2_forest:.4f}, RMSE: {rmse_forest:.4f}\")"
   ]
  },
  {
   "cell_type": "markdown",
   "metadata": {},
   "source": [
    "<div class=\"alert alert-block alert-success\">\n",
    "<b>Comentario del revisor</b> <a class=\"tocSkip\"></a>\n",
    "\n",
    "¡Muy bien! El modelo de random forest se entreno de manera correcta.\n",
    "</div>"
   ]
  },
  {
   "cell_type": "code",
   "execution_count": 33,
   "metadata": {},
   "outputs": [
    {
     "name": "stdout",
     "output_type": "stream",
     "text": [
      "XGBoost - R²: 0.8195, RMSE: 1796.8697\n",
      "CPU times: user 57.5 s, sys: 98.2 ms, total: 57.6 s\n",
      "Wall time: 28.8 s\n"
     ]
    }
   ],
   "source": [
    "%%time\n",
    "# Definir y entrenar el modelo XGBoost\n",
    "xgb_model = XGBRegressor(n_estimators=50, learning_rate=0.1, max_depth=7, random_state=42)\n",
    "xgb_model.fit(X_train_scaled, y_train)\n",
    "\n",
    "# Realizar predicciones\n",
    "y_pred_xgb = xgb_model.predict(X_test_scaled)\n",
    "\n",
    "# Evaluar métricas\n",
    "r2_xgb = r2_score(y_test, y_pred_xgb)\n",
    "rmse_xgb = np.sqrt(mean_squared_error(y_test, y_pred_xgb))\n",
    "\n",
    "print(f\"XGBoost - R²: {r2_xgb:.4f}, RMSE: {rmse_xgb:.4f}\")"
   ]
  },
  {
   "cell_type": "markdown",
   "metadata": {},
   "source": [
    "<div class=\"alert alert-block alert-success\">\n",
    "<b>Comentario del revisor</b> <a class=\"tocSkip\"></a>\n",
    "\n",
    "Buena elección, XGBoost es un modelo potente, generalmente da mejores resultados que Random Forest y a un mejor tiempo.\n",
    "</div>"
   ]
  },
  {
   "cell_type": "code",
   "execution_count": 34,
   "metadata": {},
   "outputs": [
    {
     "name": "stdout",
     "output_type": "stream",
     "text": [
      "LightGBM - R²: 0.8205, RMSE: 1792.2151\n",
      "CPU times: user 5.87 s, sys: 60.4 ms, total: 5.93 s\n",
      "Wall time: 2.99 s\n"
     ]
    }
   ],
   "source": [
    "%%time\n",
    "# Definir y entrenar el modelo LightGBM\n",
    "lgb_model = LGBMRegressor(n_estimators=100, learning_rate=0.1, max_depth=7, random_state=42)\n",
    "lgb_model.fit(X_train_scaled, y_train)\n",
    "\n",
    "# Realizar predicciones\n",
    "y_pred_lgb = lgb_model.predict(X_test_scaled)\n",
    "\n",
    "# Evaluar métricas\n",
    "r2_lgb = r2_score(y_test, y_pred_lgb)\n",
    "rmse_lgb = np.sqrt(mean_squared_error(y_test, y_pred_lgb))\n",
    "\n",
    "print(f\"LightGBM - R²: {r2_lgb:.4f}, RMSE: {rmse_lgb:.4f}\")"
   ]
  },
  {
   "cell_type": "markdown",
   "metadata": {},
   "source": [
    "<div class=\"alert alert-block alert-success\">\n",
    "<b>Comentario del revisor</b> <a class=\"tocSkip\"></a>\n",
    "\n",
    "LGBM tiene buen rendimiento y con un menor tiempo de entrenamiento e inferencia.\n",
    "</div>"
   ]
  },
  {
   "cell_type": "code",
   "execution_count": 35,
   "metadata": {},
   "outputs": [
    {
     "name": "stdout",
     "output_type": "stream",
     "text": [
      "CatBoost - R²: 0.8092, RMSE: 1847.5701\n",
      "CPU times: user 3.29 s, sys: 52.2 ms, total: 3.34 s\n",
      "Wall time: 1.87 s\n"
     ]
    }
   ],
   "source": [
    "%%time\n",
    "# Definir y entrenar el modelo CatBoost\n",
    "cat_model = CatBoostRegressor(n_estimators=100, learning_rate=0.1, max_depth=7, random_state=42, verbose=0)\n",
    "cat_model.fit(X_train_scaled, y_train)\n",
    "\n",
    "# Realizar predicciones\n",
    "y_pred_cat = cat_model.predict(X_test_scaled)\n",
    "\n",
    "# Evaluar métricas\n",
    "r2_cat = r2_score(y_test, y_pred_cat)\n",
    "rmse_cat = np.sqrt(mean_squared_error(y_test, y_pred_cat))\n",
    "\n",
    "print(f\"CatBoost - R²: {r2_cat:.4f}, RMSE: {rmse_cat:.4f}\")"
   ]
  },
  {
   "cell_type": "markdown",
   "metadata": {},
   "source": [
    "<div class=\"alert alert-block alert-success\">\n",
    "<b>Comentario del revisor</b> <a class=\"tocSkip\"></a>\n",
    "\n",
    "¡Excelente! Me gustó que exploraste bastantes modelos, desde regresión lineal hasta Catboost.\n",
    "</div>"
   ]
  },
  {
   "cell_type": "markdown",
   "metadata": {},
   "source": [
    "## Instrucción 3"
   ]
  },
  {
   "cell_type": "markdown",
   "metadata": {},
   "source": [
    "**Análisis definitivo de los modelos:**\n",
    "\n",
    "1. Velocidad de entrenamiento:\n",
    "\n",
    "| Modelo | Wall time (segundos) | CPU time (segundos) | \n",
    "\n",
    " | Regresión Lineal | 0.401s | 0.8s | \n",
    "\n",
    "| Árbol de Decisión | 0.946s | 1.0s | \n",
    "\n",
    " | Bosque Aleatorio | 21.4s | 21.4s | \n",
    "\n",
    "          | XGBoost | 28.8s | 57.0s | \n",
    "\n",
    "         | LightGBM | 2.99s | 5.98s |\n",
    "         \n",
    "        | CatBoost | 1.87s | 1.87s |\n",
    "\n",
    "**Conclusión sobre velocidad:**\n",
    "\n",
    "✔ Regresión Lineal fue el más rápido, seguido por Árbol de Decisión.\n",
    "\n",
    "✔ Bosque Aleatorio es más lento, ya que entrena múltiples árboles.\n",
    "\n",
    "✔ XGBoost es el más pesado, pero es el más preciso en aprendizaje complejo.\n",
    "\n",
    "✔ LightGBM es notablemente más rápido, siendo 9 veces más rápido que XGBoost, lo que lo convierte en una opción eficiente para boosting.\n",
    "\n",
    "✔ CatBoost es muy eficiente en velocidad, por encima de LightGBM y XGBoost.\n",
    "\n",
    "2. Calidad del modelo (R² y RMSE):\n",
    "\n",
    "| Modelo | R² (Precisión) | RMSE (Error) | \n",
    "\n",
    " | Regresión Lineal | 0.4987 | 2994.6575 | \n",
    "\n",
    "| Árbol de Decisión | 0.7693 | 2031.7930 | \n",
    "\n",
    " | Bosque Aleatorio | 0.7443 | 2138.7622 | \n",
    "\n",
    "          | XGBoost | 0.8195 | 1796.8697 | \n",
    "\n",
    "         | LightGBM | 0.8205 | 1792.2151 |\n",
    "\n",
    "         | CatBoost | 0.8092 | 1847.5701 |\n",
    "\n",
    "\n",
    "**Conclusión sobre calidad:**\n",
    "\n",
    "✔ LightGBM obtuvo el mejor rendimiento general, con el mayor R² y el menor error RMSE.\n",
    "\n",
    "✔ XGBoost sigue de cerca a LightGBM en precisión, aunque tarda más en entrenar.\n",
    "\n",
    "✔ CatBoost ofrece una buena precisión, ligeramente inferior a LightGBM y XGBoost.\n",
    "\n",
    "✔ Árbol de Decisión y Bosque Aleatorio tuvieron resultados buenos, pero inferiores a los modelos de boosting.\n",
    "\n",
    "✔ Regresión Lineal fue la menos precisa, pero cumplió su propósito como prueba de cordura.\n"
   ]
  },
  {
   "cell_type": "markdown",
   "metadata": {},
   "source": [
    "## Hallazgos y conclusiones finales"
   ]
  },
  {
   "cell_type": "markdown",
   "metadata": {},
   "source": [
    "1. Problemas encontrados y soluciones aplicadas:\n",
    "\n",
    "✅ Kernel se reiniciaba inesperadamente → Se identificó que pd.get_dummies() generaba demasiadas columnas, sobrecargando la memoria.\n",
    "    \n",
    "✔ Solución: Se eliminaron variables con excesivas categorías (DateCrawled, LastSeen, DateCreated, Model) y se limitó la transformación de Brand para reducir la carga de procesamiento.\n",
    "\n",
    "✅ Conversión de datos categóricos → StandardScaler() fallaba porque aún había columnas categóricas (VehicleType, Gearbox, FuelType, NotRepaired).\n",
    "\n",
    "✔ Solución: Se usó pd.get_dummies() para asegurarse de que todas las variables fueran numéricas antes de escalar.\n",
    "\n",
    "✅ Tiempo de ejecución de Bosque Aleatorio y XGBoost → Modelos extremadamente pesados para el kernel.\n",
    "\n",
    "✔ Solución: Se redujo n_estimators y max_depth para mejorar eficiencia sin perder calidad.\n",
    "\n",
    "2. Comparación de modelos en velocidad y calidad:\n",
    "\n",
    "✔ Regresión Lineal fue la más rápida pero la menos precisa.\n",
    "\n",
    "✔ Árbol de Decisión tuvo buen balance entre velocidad y precisión.\n",
    "\n",
    "✔ Bosque Aleatorio y XGBoost fueron mucho más lentos pero precisos.\n",
    "\n",
    "✔ CatBoost ofrece gran precisión y es extremadamente eficiente en velocidad.\n",
    "\n",
    "✔ LightGBM obtuvo el mejor rendimiento con R² = 0.8205 y RMSE = 1792.2151, además de ser más rápido que XGBoost, pero menos que CatBoost.\n",
    "\n",
    "💡 Conclusión clave: LightGBM es el modelo más eficiente en términos de velocidad y precisión, por lo que podría ser la mejor opción en aplicaciones donde el tiempo de entrenamiento es crítico.\n",
    "\n",
    "3. Cumplimiento de las observaciones iniciales:\n",
    "\n",
    "✅ Regresión lineal usada como prueba de cordura.\n",
    "    \n",
    "✅ Codificación correcta para XGBoost con pd.get_dummies().\n",
    "    \n",
    "✅ Se probaron: Bosque Aleatorio, Árbol de Decisión, XGBoost y LightGBM.\n",
    "    \n",
    "✅ Se ajustaron los hiperparámetros de potenciación del gradiente.\n",
    "    \n",
    "✅ Se midieron tiempos de ejecución para evaluar eficiencia."
   ]
  },
  {
   "cell_type": "markdown",
   "metadata": {},
   "source": [
    "<div class=\"alert alert-block alert-success\">\n",
    "<b>Comentario del revisor</b> <a class=\"tocSkip\"></a>\n",
    "\n",
    "Buenas conclusiones, basadas en lo realizado a lo largo de todo el proyecto.\n",
    "</div>"
   ]
  },
  {
   "cell_type": "markdown",
   "metadata": {},
   "source": [
    "<div class=\"alert alert-block alert-success\">\n",
    "<b>Comentario del revisor</b> <a class=\"tocSkip\"></a>\n",
    "\n",
    "¡Hola!\n",
    "\n",
    "Te quiero felicitar por tu proyecto, está bastante completo y bien realizado. Me gustó el buen manejo de varios modelos, todos se entrenaron correctamente y los valores de sus métricas se compararon adecuadamente.\n",
    "\n",
    "Solo realicé unos comentarios opcionales de color amarillo, pero no son necesarios para aprobar el proyecto. Te deseo mucho éxito en los siguientes sprints.\n",
    "\n",
    "Saludos, Marcos.\n",
    "</div>"
   ]
  },
  {
   "cell_type": "code",
   "execution_count": null,
   "metadata": {},
   "outputs": [],
   "source": []
  }
 ],
 "metadata": {
  "kernelspec": {
   "display_name": "Python 3 (ipykernel)",
   "language": "python",
   "name": "python3"
  },
  "language_info": {
   "codemirror_mode": {
    "name": "ipython",
    "version": 3
   },
   "file_extension": ".py",
   "mimetype": "text/x-python",
   "name": "python",
   "nbconvert_exporter": "python",
   "pygments_lexer": "ipython3",
   "version": "3.9.22"
  }
 },
 "nbformat": 4,
 "nbformat_minor": 4
}
